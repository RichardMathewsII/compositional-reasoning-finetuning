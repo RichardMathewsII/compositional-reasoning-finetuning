{
 "cells": [
  {
   "cell_type": "code",
   "execution_count": 3,
   "id": "90a7198f-f768-4fe5-98e2-959a083c8da3",
   "metadata": {},
   "outputs": [],
   "source": [
    "import json\n",
    "import re"
   ]
  },
  {
   "cell_type": "code",
   "execution_count": 4,
   "id": "cb102477-25e0-44a2-be67-089eb21c5c95",
   "metadata": {},
   "outputs": [],
   "source": [
    "def extract_answer_from_target(target: str)-> str:\n",
    "    \"\"\"\n",
    "    Find the exact text of the answer given a target with the format \"answer is <answer>.\"\n",
    "    \"\"\"\n",
    "    \n",
    "    pattern = r'answer is\\s*([^\\.]+)\\.'\n",
    "\n",
    "    match = re.search(pattern, target)\n",
    "    result = None\n",
    "    if match:\n",
    "        result = match.group(1).strip().lower()\n",
    "    \n",
    "    return result"
   ]
  },
  {
   "cell_type": "code",
   "execution_count": 5,
   "id": "abac3ab1-de26-4386-9397-be57d868bb19",
   "metadata": {},
   "outputs": [],
   "source": [
    "def verify_answer_in_prompt(train_file: str, valid_file: str):\n",
    "    \"\"\"\n",
    "    Need to verify the answers in the prompt so that the question can be answered\n",
    "    \"\"\"\n",
    "    \n",
    "    # load each file of prompts and targets\n",
    "    for file_name in [train_file, valid_file]:\n",
    "        file = open(file_name)\n",
    "        js_file = json.load(file)\n",
    "        file.close()\n",
    "        \n",
    "        filtered_js_file = []\n",
    "        # only keep the examples with the answer in the prompt\n",
    "        for example in js_file:\n",
    "            answer = extract_answer_from_target(example['target'])\n",
    "            if answer is not None and (answer in example['prompt'].lower() or answer in ['yes', 'no']):\n",
    "                filtered_js_file.append(example)\n",
    "            else:\n",
    "                print(example['prompt'])\n",
    "                print(example['target'])\n",
    "                print(answer)\n",
    "\n",
    "        # Serializing json\n",
    "        filtered_js_file = json.dumps(filtered_js_file)\n",
    "        \n",
    "        # Overwrite file\n",
    "        with open(file_name, 'w') as outfile:\n",
    "            outfile.write(filtered_js_file)"
   ]
  },
  {
   "cell_type": "code",
   "execution_count": 33,
   "id": "4eb6dd17-ea9b-4cb3-9ed6-5d1a2c8b809a",
   "metadata": {},
   "outputs": [],
   "source": [
    "verify_answer_in_prompt('data/FinetuningData/self_ask_train-answer_first=False-random_facts=False.json', \n",
    "                        'data/FinetuningData/self_ask_dev-answer_first=False-random_facts=False.json')"
   ]
  },
  {
   "cell_type": "code",
   "execution_count": 12,
   "id": "0baf67a3-4abf-4c08-a5bb-b88a3d37ff42",
   "metadata": {},
   "outputs": [],
   "source": [
    "def deduplicate_examples(train_file: str, valid_file: str):\n",
    "    \"\"\"\n",
    "    Need to verify the answers in the prompt so that the question can be answered\n",
    "    \"\"\"\n",
    "    \n",
    "    # load each file of prompts and targets\n",
    "    for file_name in [train_file, valid_file]:\n",
    "        file = open(file_name)\n",
    "        js_file = json.load(file)\n",
    "        file.close()\n",
    "        \n",
    "        deduplicated_example_prompts = set()\n",
    "        filtered_js_file = []\n",
    "        # only keep the examples with the answer in the prompt\n",
    "        for example in js_file:\n",
    "            if example['prompt'] not in deduplicated_example_prompts:\n",
    "                deduplicated_example_prompts.add(example['prompt'])\n",
    "                filtered_js_file.append(example)\n",
    "            else:\n",
    "                print(f\"Example: {example} is duplicated\")\n",
    "\n",
    "        # Serializing json\n",
    "        filtered_js_file = json.dumps(filtered_js_file)\n",
    "        \n",
    "        # Overwrite file\n",
    "        with open(file_name, 'w') as outfile:\n",
    "            outfile.write(filtered_js_file)"
   ]
  },
  {
   "cell_type": "code",
   "execution_count": 13,
   "metadata": {},
   "outputs": [],
   "source": [
    "deduplicate_examples('data/FinetuningData/self_ask_train-answer_first=False-random_facts=False.json', \n",
    "                     'data/FinetuningData/self_ask_dev-answer_first=False-random_facts=False.json')"
   ]
  },
  {
   "cell_type": "code",
   "execution_count": null,
   "metadata": {},
   "outputs": [],
   "source": []
  }
 ],
 "metadata": {
  "kernelspec": {
   "display_name": "Python 3 (ipykernel)",
   "language": "python",
   "name": "python3"
  },
  "language_info": {
   "codemirror_mode": {
    "name": "ipython",
    "version": 3
   },
   "file_extension": ".py",
   "mimetype": "text/x-python",
   "name": "python",
   "nbconvert_exporter": "python",
   "pygments_lexer": "ipython3",
   "version": "3.11.4"
  },
  "widgets": {
   "application/vnd.jupyter.widget-state+json": {
    "state": {},
    "version_major": 2,
    "version_minor": 0
   }
  }
 },
 "nbformat": 4,
 "nbformat_minor": 5
}
