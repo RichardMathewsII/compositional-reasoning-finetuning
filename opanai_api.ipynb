{
 "cells": [
  {
   "cell_type": "code",
   "execution_count": 26,
   "id": "1294237d-733e-49ce-b2c5-934336ee6193",
   "metadata": {},
   "outputs": [],
   "source": [
    "import json\n",
    "import os\n",
    "\n",
    "import openai\n",
    "\n",
    "from data_adaptor import DataAdaptor\n",
    "from data_loaders import load_2WikiMultihopQA"
   ]
  },
  {
   "cell_type": "markdown",
   "id": "b0c5df29-6611-4ce6-87a2-813a195ce531",
   "metadata": {},
   "source": [
    "# Generate Data"
   ]
  },
  {
   "cell_type": "code",
   "execution_count": 4,
   "id": "f92e32b7-c223-42ef-9794-b990e73c409c",
   "metadata": {},
   "outputs": [],
   "source": [
    "wiki_sample = load_2WikiMultihopQA(n_examples=5, split='train')"
   ]
  },
  {
   "cell_type": "code",
   "execution_count": 5,
   "id": "33349e54-e27f-4905-ab43-cee356bcfeb5",
   "metadata": {
    "scrolled": true
   },
   "outputs": [
    {
     "name": "stdout",
     "output_type": "stream",
     "text": [
      "Question: Are director of film Move (1970 Film) and director of film Méditerranée (1963 Film) from the same country?\n",
      "Are follow up questions needed here: Yes.\n",
      "Follow up: What is the director of Move (1970 film)?\n",
      "Intermediate answer: Stuart Rosenberg\n",
      "Follow up: What is the director of Méditerranée (1963 film)?\n",
      "Intermediate answer: Jean-Daniel Pollet\n",
      "Follow up: What is the country of citizenship of Stuart Rosenberg?\n",
      "Intermediate answer: American\n",
      "Follow up: What is the country of citizenship of Jean-Daniel Pollet?\n",
      "Intermediate answer: French\n",
      "So the final answer is: no\n",
      "\n",
      "Question: Do both films The Falcon (Film) and Valentin The Good have the directors from the same country?\n",
      "Are follow up questions needed here: Yes.\n",
      "Follow up: What is the director of The Falcon (film)?\n",
      "Intermediate answer: Vatroslav Mimica\n",
      "Follow up: What is the director of Valentin the Good?\n",
      "Intermediate answer: Martin Frič\n",
      "Follow up: What is the country of citizenship of Vatroslav Mimica?\n",
      "Intermediate answer: Croatian\n",
      "Follow up: What is the country of citizenship of Vatroslav Mimica?\n",
      "Intermediate answer: Yugoslavia\n",
      "Follow up: What is the country of citizenship of Martin Frič?\n",
      "Intermediate answer: Czech\n",
      "So the final answer is: no\n",
      "\n",
      "Question: Which film whose director is younger, Charge It To Me or Danger: Diabolik?\n",
      "Are follow up questions needed here: Yes.\n",
      "Follow up: What is the director of Charge It to Me?\n",
      "Intermediate answer: Roy William Neill\n",
      "Follow up: What is the director of Danger: Diabolik?\n",
      "Intermediate answer: Mario Bava\n",
      "Follow up: What is the date of birth of Roy William Neill?\n",
      "Intermediate answer: 4 September 1887\n",
      "Follow up: What is the date of birth of Mario Bava?\n",
      "Intermediate answer: 31 July 1914\n",
      "So the final answer is: Danger: Diabolik\n",
      "\n",
      "Question: What is the date of birth of Mina Gerhardsen's father?\n",
      "Are follow up questions needed here: Yes.\n",
      "Follow up: What is the father of Mina Gerhardsen?\n",
      "Intermediate answer: Rune Gerhardsen\n",
      "Follow up: What is the date of birth of Rune Gerhardsen?\n",
      "Intermediate answer: 13 June 1946\n",
      "So the final answer is: 13 June 1946\n",
      "\n",
      "Question: What nationality is the director of film Wedding Night In Paradise (1950 Film)?\n",
      "Are follow up questions needed here: Yes.\n",
      "Follow up: What is the director of Wedding Night in Paradise?\n",
      "Intermediate answer: Géza von Bolváry\n",
      "Follow up: What is the country of citizenship of Géza von Bolváry?\n",
      "Intermediate answer: Hungarian\n",
      "So the final answer is: Hungarian\n",
      "\n"
     ]
    }
   ],
   "source": [
    "wiki_adaptor = DataAdaptor(dataset=\"2WikiMultihopQA\")\n",
    "wiki_examplars = wiki_adaptor.generate_examplars(wiki_sample, strategy=\"self-ask\")\n",
    "for examplar in wiki_examplars:\n",
    "    print(examplar)"
   ]
  },
  {
   "cell_type": "code",
   "execution_count": 13,
   "id": "644fa9ff-a5c7-4694-8d7e-a2942616e5d3",
   "metadata": {},
   "outputs": [
    {
     "name": "stdout",
     "output_type": "stream",
     "text": [
      "{\n",
      "    \"prompt\": \"Question: Are director of film Move (1970 Film) and director of film M\\u00e9diterran\\u00e9e (1963 Film) from the same country?\\nAre follow up questions needed here:\\n\",\n",
      "    \"target\": \"Yes.\\nFollow up: What is the director of Move (1970 film)?\\nIntermediate answer: Stuart Rosenberg\\nFollow up: What is the director of M\\u00e9diterran\\u00e9e (1963 film)?\\nIntermediate answer: Jean-Daniel Pollet\\nFollow up: What is the country of citizenship of Stuart Rosenberg?\\nIntermediate answer: American\\nFollow up: What is the country of citizenship of Jean-Daniel Pollet?\\nIntermediate answer: French\\nSo the final answer is: no\\n\"\n",
      "}\n",
      "{\n",
      "    \"prompt\": \"Question: Do both films The Falcon (Film) and Valentin The Good have the directors from the same country?\\nAre follow up questions needed here:\\n\",\n",
      "    \"target\": \"Yes.\\nFollow up: What is the director of The Falcon (film)?\\nIntermediate answer: Vatroslav Mimica\\nFollow up: What is the director of Valentin the Good?\\nIntermediate answer: Martin Fri\\u010d\\nFollow up: What is the country of citizenship of Vatroslav Mimica?\\nIntermediate answer: Croatian\\nFollow up: What is the country of citizenship of Vatroslav Mimica?\\nIntermediate answer: Yugoslavia\\nFollow up: What is the country of citizenship of Martin Fri\\u010d?\\nIntermediate answer: Czech\\nSo the final answer is: no\\n\"\n",
      "}\n",
      "{\n",
      "    \"prompt\": \"Question: Which film whose director is younger, Charge It To Me or Danger: Diabolik?\\nAre follow up questions needed here:\\n\",\n",
      "    \"target\": \"Yes.\\nFollow up: What is the director of Charge It to Me?\\nIntermediate answer: Roy William Neill\\nFollow up: What is the director of Danger: Diabolik?\\nIntermediate answer: Mario Bava\\nFollow up: What is the date of birth of Roy William Neill?\\nIntermediate answer: 4 September 1887\\nFollow up: What is the date of birth of Mario Bava?\\nIntermediate answer: 31 July 1914\\nSo the final answer is: Danger: Diabolik\\n\"\n",
      "}\n",
      "{\n",
      "    \"prompt\": \"Question: What is the date of birth of Mina Gerhardsen's father?\\nAre follow up questions needed here:\\n\",\n",
      "    \"target\": \"Yes.\\nFollow up: What is the father of Mina Gerhardsen?\\nIntermediate answer: Rune Gerhardsen\\nFollow up: What is the date of birth of Rune Gerhardsen?\\nIntermediate answer: 13 June 1946\\nSo the final answer is: 13 June 1946\\n\"\n",
      "}\n",
      "{\n",
      "    \"prompt\": \"Question: What nationality is the director of film Wedding Night In Paradise (1950 Film)?\\nAre follow up questions needed here:\\n\",\n",
      "    \"target\": \"Yes.\\nFollow up: What is the director of Wedding Night in Paradise?\\nIntermediate answer: G\\u00e9za von Bolv\\u00e1ry\\nFollow up: What is the country of citizenship of G\\u00e9za von Bolv\\u00e1ry?\\nIntermediate answer: Hungarian\\nSo the final answer is: Hungarian\\n\"\n",
      "}\n"
     ]
    }
   ],
   "source": [
    "wiki_training_examples = wiki_adaptor.generate_training_examples(wiki_sample, strategy=\"self-ask\")\n",
    "for training_example in wiki_training_examples:\n",
    "    print(json.dumps(training_example, indent=4))"
   ]
  },
  {
   "cell_type": "code",
   "execution_count": 14,
   "id": "cd7cdc56-16e5-40b9-906f-ca43348d8a35",
   "metadata": {},
   "outputs": [],
   "source": [
    "# TODO augment prompt with examples"
   ]
  },
  {
   "cell_type": "markdown",
   "id": "50aedd69-d853-4b9f-9c9d-103cd05f9a27",
   "metadata": {},
   "source": [
    "# Format for Finetuning"
   ]
  },
  {
   "cell_type": "code",
   "execution_count": 15,
   "id": "c054e2fe-48f3-42c9-a814-ff23c88added",
   "metadata": {
    "scrolled": true
   },
   "outputs": [
    {
     "name": "stdout",
     "output_type": "stream",
     "text": [
      "584\n",
      "651\n",
      "539\n",
      "334\n",
      "376\n",
      "{\n",
      "    \"prompt\": \"Question: Are director of film Move (1970 Film) and director of film M\\u00e9diterran\\u00e9e (1963 Film) from the same country?\\nAre follow up questions needed here:\\n\\n\\n###\\n\\n\",\n",
      "    \"completion\": \" Yes.\\nFollow up: What is the director of Move (1970 film)?\\nIntermediate answer: Stuart Rosenberg\\nFollow up: What is the director of M\\u00e9diterran\\u00e9e (1963 film)?\\nIntermediate answer: Jean-Daniel Pollet\\nFollow up: What is the country of citizenship of Stuart Rosenberg?\\nIntermediate answer: American\\nFollow up: What is the country of citizenship of Jean-Daniel Pollet?\\nIntermediate answer: French\\nSo the final answer is: no\\n END\"\n",
      "}\n",
      "{\n",
      "    \"prompt\": \"Question: Do both films The Falcon (Film) and Valentin The Good have the directors from the same country?\\nAre follow up questions needed here:\\n\\n\\n###\\n\\n\",\n",
      "    \"completion\": \" Yes.\\nFollow up: What is the director of The Falcon (film)?\\nIntermediate answer: Vatroslav Mimica\\nFollow up: What is the director of Valentin the Good?\\nIntermediate answer: Martin Fri\\u010d\\nFollow up: What is the country of citizenship of Vatroslav Mimica?\\nIntermediate answer: Croatian\\nFollow up: What is the country of citizenship of Vatroslav Mimica?\\nIntermediate answer: Yugoslavia\\nFollow up: What is the country of citizenship of Martin Fri\\u010d?\\nIntermediate answer: Czech\\nSo the final answer is: no\\n END\"\n",
      "}\n",
      "{\n",
      "    \"prompt\": \"Question: Which film whose director is younger, Charge It To Me or Danger: Diabolik?\\nAre follow up questions needed here:\\n\\n\\n###\\n\\n\",\n",
      "    \"completion\": \" Yes.\\nFollow up: What is the director of Charge It to Me?\\nIntermediate answer: Roy William Neill\\nFollow up: What is the director of Danger: Diabolik?\\nIntermediate answer: Mario Bava\\nFollow up: What is the date of birth of Roy William Neill?\\nIntermediate answer: 4 September 1887\\nFollow up: What is the date of birth of Mario Bava?\\nIntermediate answer: 31 July 1914\\nSo the final answer is: Danger: Diabolik\\n END\"\n",
      "}\n",
      "{\n",
      "    \"prompt\": \"Question: What is the date of birth of Mina Gerhardsen's father?\\nAre follow up questions needed here:\\n\\n\\n###\\n\\n\",\n",
      "    \"completion\": \" Yes.\\nFollow up: What is the father of Mina Gerhardsen?\\nIntermediate answer: Rune Gerhardsen\\nFollow up: What is the date of birth of Rune Gerhardsen?\\nIntermediate answer: 13 June 1946\\nSo the final answer is: 13 June 1946\\n END\"\n",
      "}\n",
      "{\n",
      "    \"prompt\": \"Question: What nationality is the director of film Wedding Night In Paradise (1950 Film)?\\nAre follow up questions needed here:\\n\\n\\n###\\n\\n\",\n",
      "    \"completion\": \" Yes.\\nFollow up: What is the director of Wedding Night in Paradise?\\nIntermediate answer: G\\u00e9za von Bolv\\u00e1ry\\nFollow up: What is the country of citizenship of G\\u00e9za von Bolv\\u00e1ry?\\nIntermediate answer: Hungarian\\nSo the final answer is: Hungarian\\n END\"\n",
      "}\n"
     ]
    }
   ],
   "source": [
    "for training_example in wiki_training_examples:\n",
    "    # each prompt and completion should and with a simple seperator sequence\n",
    "    training_example['prompt'] = training_example['prompt'] + '\\n\\n###\\n\\n'\n",
    "    training_example['completion'] = ' ' + training_example.pop('target') + ' END'\n",
    "    print(len(training_example['prompt'] + training_example['completion'])) # no more than 2048 tokens\n",
    "for training_example in wiki_training_examples:\n",
    "    print(json.dumps(training_example, indent=4))"
   ]
  },
  {
   "cell_type": "code",
   "execution_count": 9,
   "id": "4be4e781-d845-4ba6-a080-cf8d2049692e",
   "metadata": {},
   "outputs": [],
   "source": [
    "openai_sample_filename = \"data/2WikiMultihopQA/opeanai_api_sample.jsonl\"\n",
    "with open(openai_sample_filename, \"w\") as outfile:\n",
    "    for training_example in wiki_training_examples:\n",
    "        outfile.write(json.dumps(training_example) + '\\n')\n",
    "    # json.dump(wiki_training_examples, outfile)"
   ]
  },
  {
   "cell_type": "code",
   "execution_count": 10,
   "id": "f8cae854-6b82-4580-ab26-0047023ffad1",
   "metadata": {},
   "outputs": [],
   "source": [
    "# %openai tools fine_tunes.prepare_data -f $openai_sample_filename"
   ]
  },
  {
   "cell_type": "code",
   "execution_count": 11,
   "id": "b40f66c5-93bc-4772-80fc-a5db229798e9",
   "metadata": {},
   "outputs": [
    {
     "name": "stdout",
     "output_type": "stream",
     "text": [
      "Analyzing...\n",
      "\n",
      "- Your file contains 5 prompt-completion pairs. In general, we recommend having at least a few hundred examples. We've found that performance tends to linearly increase for every doubling of the number of examples\n",
      "- All prompts end with suffix `?\\nAre follow up questions needed here:\\n\\n\\n###\\n\\n`. This suffix seems very long. Consider replacing with a shorter suffix, such as `\\n\\n===\\n\\n`\n",
      "- All prompts start with prefix `Question: `\n",
      "- All completions start with prefix ` Yes.\n",
      "Follow up: What is the `. Most of the time you should only add the output data into the completion, without any prefix\n",
      "- All completions end with suffix `\\n\\n###`\n",
      "\n",
      "Based on the analysis we will perform the following actions:\n",
      "- [Recommended] Remove prefix ` Yes.\n",
      "Follow up: What is the ` from all completions [Y/n]: "
     ]
    },
    {
     "name": "stderr",
     "output_type": "stream",
     "text": [
      "Traceback (most recent call last):\n",
      "  File \"/Users/adamweinberger/opt/anaconda3/envs/compositional_reasoning_finetuning/bin/openai\", line 10, in <module>\n",
      "    sys.exit(main())\n",
      "             ^^^^^^\n",
      "  File \"/Users/adamweinberger/opt/anaconda3/envs/compositional_reasoning_finetuning/lib/python3.11/site-packages/openai/_openai_scripts.py\", line 78, in main\n",
      "    args.func(args)\n",
      "  File \"/Users/adamweinberger/opt/anaconda3/envs/compositional_reasoning_finetuning/lib/python3.11/site-packages/openai/cli.py\", line 599, in prepare_data\n",
      "    apply_validators(\n",
      "  File \"/Users/adamweinberger/opt/anaconda3/envs/compositional_reasoning_finetuning/lib/python3.11/site-packages/openai/validators.py\", line 843, in apply_validators\n",
      "    df, optional_applied = apply_optional_remediation(\n",
      "                           ^^^^^^^^^^^^^^^^^^^^^^^^^^^\n",
      "  File \"/Users/adamweinberger/opt/anaconda3/envs/compositional_reasoning_finetuning/lib/python3.11/site-packages/openai/validators.py\", line 610, in apply_optional_remediation\n",
      "    if accept_suggestion(input_text, auto_accept):\n",
      "       ^^^^^^^^^^^^^^^^^^^^^^^^^^^^^^^^^^^^^^^^^^\n",
      "  File \"/Users/adamweinberger/opt/anaconda3/envs/compositional_reasoning_finetuning/lib/python3.11/site-packages/openai/validators.py\", line 600, in accept_suggestion\n",
      "    return input().lower() != \"n\"\n",
      "           ^^^^^^^\n",
      "EOFError: EOF when reading a line\n"
     ]
    },
    {
     "data": {
      "text/plain": [
       "256"
      ]
     },
     "execution_count": 11,
     "metadata": {},
     "output_type": "execute_result"
    }
   ],
   "source": [
    "os.system(f\"openai tools fine_tunes.prepare_data -f {openai_sample_filename}\")"
   ]
  },
  {
   "cell_type": "markdown",
   "id": "a6137285-97f0-47e0-a0a0-edd129c0daf9",
   "metadata": {},
   "source": [
    "# Send to OpenAI API"
   ]
  },
  {
   "cell_type": "code",
   "execution_count": 19,
   "id": "acb9654a-b00e-407e-9d59-06751b983e10",
   "metadata": {},
   "outputs": [],
   "source": [
    "with open(\"openai_api_key.txt\", \"r\") as file:\n",
    "    OPENAI_API_KEY = file.read()\n",
    "os.environ[\"OPENAI_API_KEY\"] = OPENAI_API_KEY"
   ]
  },
  {
   "cell_type": "code",
   "execution_count": 21,
   "id": "1e39d97c-4b28-4b4d-a6c2-5bce8eb824bf",
   "metadata": {},
   "outputs": [
    {
     "name": "stdout",
     "output_type": "stream",
     "text": [
      "Found potentially duplicated files with name 'opeanai_api_sample.jsonl', purpose 'fine-tune' and size 2778 bytes\n",
      "file-pV0Um8KhhJssuEv5e3CcGQD7\n",
      "Enter file ID to reuse an already uploaded file, or an empty string to upload this file anyway: "
     ]
    },
    {
     "name": "stderr",
     "output_type": "stream",
     "text": [
      "Upload progress: 100%|██████████| 2.78k/2.78k [00:00<00:00, 2.20Mit/s]\n"
     ]
    },
    {
     "name": "stdout",
     "output_type": "stream",
     "text": [
      "Uploaded file from data/2WikiMultihopQA/opeanai_api_sample.jsonl: file-4pDAOsKZ6VxM6yB0bB8JsHJ1\n",
      "Created fine-tune: ft-Esqvkl6A08VpsxDOmFVKmtNA\n",
      "Streaming events until fine-tuning is complete...\n",
      "\n",
      "(Ctrl-C will interrupt the stream, but not cancel the fine-tune)\n",
      "[2023-06-29 16:01:43] Created fine-tune: ft-Esqvkl6A08VpsxDOmFVKmtNA\n",
      "\n",
      "Stream interrupted (client disconnected).\n",
      "To resume the stream, run:\n",
      "\n",
      "  openai api fine_tunes.follow -i ft-Esqvkl6A08VpsxDOmFVKmtNA\n",
      "\n"
     ]
    },
    {
     "data": {
      "text/plain": [
       "0"
      ]
     },
     "execution_count": 21,
     "metadata": {},
     "output_type": "execute_result"
    }
   ],
   "source": [
    "model_name = \"ada\"\n",
    "model_suffix = \"crf sample\"\n",
    "os.system(f'openai api fine_tunes.create -t {openai_sample_filename} -m {model_name} --suffix \"{model_suffix}\"')"
   ]
  },
  {
   "cell_type": "code",
   "execution_count": 23,
   "id": "0c7ef377-2e37-4b1f-b5ec-29798d8b98f7",
   "metadata": {},
   "outputs": [],
   "source": [
    "job_id = 'ft-Esqvkl6A08VpsxDOmFVKmtNA'"
   ]
  },
  {
   "cell_type": "code",
   "execution_count": 29,
   "id": "2ef7cf2d-d195-4284-af76-eb731b2d7be3",
   "metadata": {},
   "outputs": [
    {
     "name": "stdout",
     "output_type": "stream",
     "text": [
      "[2023-06-29 16:01:43] Created fine-tune: ft-Esqvkl6A08VpsxDOmFVKmtNA\n",
      "[2023-06-29 17:23:06] Fine-tune costs $0.00\n",
      "[2023-06-29 17:23:06] Fine-tune enqueued. Queue number: 1\n",
      "[2023-06-29 17:23:12] Fine-tune is in the queue. Queue number: 0\n",
      "[2023-06-29 17:23:24] Fine-tune started\n",
      "[2023-06-29 17:23:38] Completed epoch 1/4\n",
      "[2023-06-29 17:23:39] Completed epoch 2/4\n",
      "[2023-06-29 17:23:40] Completed epoch 3/4\n",
      "[2023-06-29 17:23:41] Completed epoch 4/4\n",
      "[2023-06-29 17:24:06] Uploaded model: ada:ft-university-of-california-berkeley:crf-sample-2023-06-29-21-24-05\n",
      "[2023-06-29 17:24:11] Uploaded result file: file-gKWXNyMeNxkKyqQ3gjWZHMwj\n",
      "[2023-06-29 17:24:11] Fine-tune succeeded\n",
      "\n",
      "Job complete! Status: succeeded 🎉\n",
      "Try out your fine-tuned model:\n",
      "\n",
      "openai api completions.create -m ada:ft-university-of-california-berkeley:crf-sample-2023-06-29-21-24-05 -p <YOUR_PROMPT>\n"
     ]
    },
    {
     "data": {
      "text/plain": [
       "0"
      ]
     },
     "execution_count": 29,
     "metadata": {},
     "output_type": "execute_result"
    }
   ],
   "source": [
    "# status\n",
    "os.system(f'openai api fine_tunes.follow -i {job_id}')"
   ]
  },
  {
   "cell_type": "code",
   "execution_count": 28,
   "id": "a56006e9-9bc8-4c95-9814-ff2432072a6f",
   "metadata": {},
   "outputs": [
    {
     "name": "stderr",
     "output_type": "stream",
     "text": [
      "\u001b[91mError:\u001b[0m No results file available for fine-tune ft-Esqvkl6A08VpsxDOmFVKmtNA\n"
     ]
    },
    {
     "data": {
      "text/plain": [
       "256"
      ]
     },
     "execution_count": 28,
     "metadata": {},
     "output_type": "execute_result"
    }
   ],
   "source": [
    "# results\n",
    "# model: ada:ft-university-of-california-berkeley:crf-sample-2023-06-29-21-24-05\n",
    "os.system(f'openai api fine_tunes.results -i {job_id}')"
   ]
  },
  {
   "cell_type": "markdown",
   "id": "8542fad4-5f7d-483c-8a14-67cb05b94260",
   "metadata": {},
   "source": [
    "# Use Model"
   ]
  },
  {
   "cell_type": "code",
   "execution_count": null,
   "id": "16e0703c-d017-4214-b015-058a5a752719",
   "metadata": {},
   "outputs": [],
   "source": [
    "FINE_TUNED_MODEL = ''\n",
    "YOUR_PROMPT = ''\n",
    "openai.Completion.create(\n",
    "    model=FINE_TUNED_MODEL,\n",
    "    prompt=YOUR_PROMPT)"
   ]
  }
 ],
 "metadata": {
  "kernelspec": {
   "display_name": "Python 3 (ipykernel)",
   "language": "python",
   "name": "python3"
  },
  "language_info": {
   "codemirror_mode": {
    "name": "ipython",
    "version": 3
   },
   "file_extension": ".py",
   "mimetype": "text/x-python",
   "name": "python",
   "nbconvert_exporter": "python",
   "pygments_lexer": "ipython3",
   "version": "3.11.4"
  }
 },
 "nbformat": 4,
 "nbformat_minor": 5
}
