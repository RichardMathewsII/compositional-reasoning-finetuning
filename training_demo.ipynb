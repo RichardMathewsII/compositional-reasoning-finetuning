{
 "cells": [
  {
   "cell_type": "markdown",
   "metadata": {},
   "source": [
    "# Training Demo\n",
    "Demonstrate how to use training utilities to fine-tune an LLM."
   ]
  },
  {
   "cell_type": "markdown",
   "metadata": {},
   "source": [
    "## Load and format data"
   ]
  },
  {
   "cell_type": "code",
   "execution_count": 2,
   "metadata": {},
   "outputs": [
    {
     "ename": "ImportError",
     "evalue": "cannot import name 'tokenize' from 'training_utils' (/Users/skao/GitHub/MIDS/w266/compositional-reasoning-finetuning/training_utils.py)",
     "output_type": "error",
     "traceback": [
      "\u001b[0;31m---------------------------------------------------------------------------\u001b[0m",
      "\u001b[0;31mImportError\u001b[0m                               Traceback (most recent call last)",
      "Cell \u001b[0;32mIn[2], line 2\u001b[0m\n\u001b[1;32m      1\u001b[0m \u001b[38;5;28;01mfrom\u001b[39;00m \u001b[38;5;21;01mdata_loaders\u001b[39;00m \u001b[38;5;28;01mimport\u001b[39;00m load_FinetuningData\n\u001b[0;32m----> 2\u001b[0m \u001b[38;5;28;01mfrom\u001b[39;00m \u001b[38;5;21;01mtraining_utils\u001b[39;00m \u001b[38;5;28;01mimport\u001b[39;00m qa_split, tokenize\n",
      "\u001b[0;31mImportError\u001b[0m: cannot import name 'tokenize' from 'training_utils' (/Users/skao/GitHub/MIDS/w266/compositional-reasoning-finetuning/training_utils.py)"
     ]
    }
   ],
   "source": [
    "from data_loaders import load_FinetuningData\n",
    "from training_utils import qa_split, tokenize"
   ]
  },
  {
   "cell_type": "code",
   "execution_count": 2,
   "metadata": {},
   "outputs": [],
   "source": [
    "# Load data\n",
    "data = load_FinetuningData(n_examples=5, split=\"dev\", strategy=\"direct\")\n",
    "questions, answers = qa_split(data)"
   ]
  },
  {
   "cell_type": "code",
   "execution_count": 3,
   "metadata": {},
   "outputs": [
    {
     "name": "stdout",
     "output_type": "stream",
     "text": [
      "['Fact #0: Éric Deflandre( born 2 August 1973 in Rocourt) is a former Belgian football right fullback.\\nFact #1: Polly Swann( born 5 June 1988) is a British rower and a member of the Great Britain Rowing Team.\\n\\nQuestion: Who was born earlier, Polly Swann or Éric Deflandre?\\nAnswer:', 'Fact #0: The film was written, adapted and directed by Russian-born Arcady Boytler.\\nFact #1: Boytler was born in Moscow, Russia.\\n\\nQuestion: Where was the director of film Heads Or Tails (1937 Film) born?\\nAnswer:', 'Fact #0: The Four Musketeers (also known as The Four Musketeers: Milady\\'s Revenge) is a 1974 Richard Lester film that serves as a sequel to his \"The Three Musketeers\", and covers the second half of Dumas\\' 1844 novel \"The Three Musketeers\".\\nFact #1: Richard Lester Liebman (born January 19, 1932), commonly referred to as Dick Lester, is a retired American film director based in the United Kingdom.\\n\\nQuestion: What nationality is the director of film The Four Musketeers (1974 Film)?\\nAnswer:', 'Fact #0: Mikko Esa Juhani Heikka( born 19 September 1944 in Ylitornio) is a Finnish former bishop of the Evangelic Lutheran Church.\\nFact #1: Scott Douglas Robbe is an American film, television, and theater producer/ director.\\n\\nQuestion: Does Mikko Heikka have the same nationality as Scott Robbe?\\nAnswer:', \"Fact #0: Aliye Sultan (24 August 1880 – 19 September 1903) was an Ottoman princess, the daughter of Sultan Murad V and Resan Hanım.\\nFact #1: He was born in Istanbul.\\n\\nQuestion: What is the place of birth of Aliye Sultan's father?\\nAnswer:\"]\n",
      "['Éric Deflandre', 'Moscow', 'American', 'no', 'Istanbul']\n"
     ]
    }
   ],
   "source": [
    "print(questions)\n",
    "print(answers)"
   ]
  },
  {
   "cell_type": "code",
   "execution_count": 5,
   "metadata": {},
   "outputs": [
    {
     "name": "stdout",
     "output_type": "stream",
     "text": [
      "Fact #0: Éric Deflandre( born 2 August 1973 in Rocourt) is a former Belgian football right fullback.\n",
      "Fact #1: Polly Swann( born 5 June 1988) is a British rower and a member of the Great Britain Rowing Team.\n",
      "\n",
      "Question: Who was born earlier, Polly Swann or Éric Deflandre?\n",
      "Answer:\n",
      "Éric Deflandre\n",
      "\n",
      "Fact #0: The film was written, adapted and directed by Russian-born Arcady Boytler.\n",
      "Fact #1: Boytler was born in Moscow, Russia.\n",
      "\n",
      "Question: Where was the director of film Heads Or Tails (1937 Film) born?\n",
      "Answer:\n",
      "Moscow\n",
      "\n",
      "Fact #0: The Four Musketeers (also known as The Four Musketeers: Milady's Revenge) is a 1974 Richard Lester film that serves as a sequel to his \"The Three Musketeers\", and covers the second half of Dumas' 1844 novel \"The Three Musketeers\".\n",
      "Fact #1: Richard Lester Liebman (born January 19, 1932), commonly referred to as Dick Lester, is a retired American film director based in the United Kingdom.\n",
      "\n",
      "Question: What nationality is the director of film The Four Musketeers (1974 Film)?\n",
      "Answer:\n",
      "American\n",
      "\n",
      "Fact #0: Mikko Esa Juhani Heikka( born 19 September 1944 in Ylitornio) is a Finnish former bishop of the Evangelic Lutheran Church.\n",
      "Fact #1: Scott Douglas Robbe is an American film, television, and theater producer/ director.\n",
      "\n",
      "Question: Does Mikko Heikka have the same nationality as Scott Robbe?\n",
      "Answer:\n",
      "no\n",
      "\n",
      "Fact #0: Aliye Sultan (24 August 1880 – 19 September 1903) was an Ottoman princess, the daughter of Sultan Murad V and Resan Hanım.\n",
      "Fact #1: He was born in Istanbul.\n",
      "\n",
      "Question: What is the place of birth of Aliye Sultan's father?\n",
      "Answer:\n",
      "Istanbul\n",
      "\n"
     ]
    }
   ],
   "source": [
    "# iterate over question answer pairs and print them\n",
    "for question, answer in zip(questions, answers):\n",
    "    print(question)\n",
    "    print(answer)\n",
    "    print()"
   ]
  },
  {
   "cell_type": "code",
   "execution_count": 7,
   "metadata": {},
   "outputs": [],
   "source": [
    "# Load self-ask data\n",
    "data = load_FinetuningData(n_examples=5, split=\"dev\", strategy=\"self_ask\")\n",
    "questions, answers = qa_split(data)"
   ]
  },
  {
   "cell_type": "code",
   "execution_count": 8,
   "metadata": {},
   "outputs": [
    {
     "name": "stdout",
     "output_type": "stream",
     "text": [
      "Example Response\n",
      "Question: When was Neva Egan's husband born?\n",
      "Are follow up questions needed here: Yes.\n",
      "Follow up: Who is the spouse of Neva Egan?\n",
      "Intermediate answer: William Allen Egan\n",
      "Follow up: When is the date of birth of William Allen Egan?\n",
      "Intermediate answer: October 8, 1914\n",
      "So the final answer is: October 8, 1914\n",
      "\n",
      "Example Response\n",
      "Question: Who was born first, Alejo Mancisidor or Emil Leyde?\n",
      "Are follow up questions needed here: Yes.\n",
      "Follow up: When is the date of birth of Alejo Mancisidor?\n",
      "Intermediate answer: 31 July 1970\n",
      "Follow up: When is the date of birth of Emil Leyde?\n",
      "Intermediate answer: 8 January 1879\n",
      "So the final answer is: Emil Leyde\n",
      "\n",
      "Fact #0: Éric Deflandre( born 2 August 1973 in Rocourt) is a former Belgian football right fullback.\n",
      "Fact #1: Polly Swann( born 5 June 1988) is a British rower and a member of the Great Britain Rowing Team.\n",
      "\n",
      "Question: Who was born earlier, Polly Swann or Éric Deflandre?\n",
      "Are follow up questions needed here:\n",
      "\n",
      "Yes.\n",
      "Follow up: When is the date of birth of Éric Deflandre?\n",
      "Intermediate answer: 2 August 1973\n",
      "Follow up: When is the date of birth of Polly Swann?\n",
      "Intermediate answer: 5 June 1988\n",
      "So the final answer is: Éric Deflandre\n",
      "\n"
     ]
    }
   ],
   "source": [
    "print(questions[0])\n",
    "print(answers[0])"
   ]
  },
  {
   "cell_type": "markdown",
   "metadata": {},
   "source": [
    "# Demo of MultihopQADataGenerator"
   ]
  },
  {
   "cell_type": "code",
   "execution_count": null,
   "metadata": {},
   "outputs": [],
   "source": [
    "!pip install transformers"
   ]
  },
  {
   "cell_type": "code",
   "execution_count": null,
   "metadata": {},
   "outputs": [],
   "source": [
    "!pip install sentencepiece"
   ]
  },
  {
   "cell_type": "code",
   "execution_count": null,
   "metadata": {},
   "outputs": [],
   "source": [
    "import os\n",
    "import re\n",
    "import numpy as np\n",
    "import pandas as pd\n",
    "\n",
    "import tensorflow as tf\n",
    "from tensorflow import keras\n",
    "from tensorflow.keras import layers\n",
    "\n",
    "from transformers import T5Tokenizer, TFT5ForConditionalGeneration"
   ]
  },
  {
   "cell_type": "code",
   "execution_count": null,
   "metadata": {},
   "outputs": [],
   "source": [
    "# This cell will authenticate you and mount your Drive in the Colab.\n",
    "from google.colab import drive\n",
    "drive.mount('/content/drive')"
   ]
  },
  {
   "cell_type": "code",
   "execution_count": null,
   "metadata": {},
   "outputs": [],
   "source": [
    "# Load the pretrained tensorflow model\n",
    "\n",
    "model_name = 't5-base'\n",
    "t5_tokenizer = T5Tokenizer.from_pretrained(model_name)\n",
    "t5_model = TFT5ForConditionalGeneration.from_pretrained(model_name)"
   ]
  },
  {
   "cell_type": "code",
   "execution_count": null,
   "metadata": {},
   "outputs": [],
   "source": [
    "train_file = 'drive/MyDrive/266/data/self_ask_train.json'\n",
    "valid_file = 'drive/MyDrive/266/data/self_ask_dev.json'"
   ]
  },
  {
   "cell_type": "code",
   "execution_count": null,
   "metadata": {},
   "outputs": [],
   "source": [
    "import json\n",
    "\n",
    "f_train = open('drive/MyDrive/266/data/self_ask_train.json')\n",
    "f_valid = open('drive/MyDrive/266/data/self_ask_dev.json')\n",
    "\n",
    "js_train = json.load(f_train)\n",
    "js_valid = json.load(f_valid)\n",
    "\n",
    "# Close JSON file\n",
    "f_train.close()\n",
    "f_valid.close()\n",
    "\n",
    "n_train_pairs = len(js_train) #154876\n",
    "n_valid_pairs = len(js_valid) #12576\n",
    "\n",
    "del js_train\n",
    "del js_valid"
   ]
  },
  {
   "cell_type": "code",
   "execution_count": null,
   "metadata": {},
   "outputs": [],
   "source": [
    "# Create the data generators for train and validation data, tensorflow version\n",
    "\n",
    "max_length = 32\n",
    "#max_length = 512\n",
    "batch_size = 16\n",
    "\n",
    "train_data_generator = MultihopQADataGenerator(\n",
    "    tokenizer=t5_tokenizer,\n",
    "    model=t5_model,\n",
    "    n_examples=n_train_pairs,\n",
    "    data_filename=train_file,\n",
    "    max_length=max_length,\n",
    "    batch_size=batch_size\n",
    ")\n",
    "\n",
    "valid_data_generator = MultihopQADataGenerator(\n",
    "    tokenizer=t5_tokenizer,\n",
    "    model=t5_model,\n",
    "    n_examples=n_valid_pairs,\n",
    "    data_filename=valid_file,\n",
    "    max_length=max_length,\n",
    "    batch_size=batch_size\n",
    ")"
   ]
  },
  {
   "cell_type": "code",
   "execution_count": null,
   "metadata": {},
   "outputs": [],
   "source": [
    "def build_t5_training_wrapper_model(t5_model, max_length):\n",
    "    input_ids = layers.Input(shape=(max_length), dtype=tf.int32, name='input_ids')\n",
    "    attention_mask = layers.Input(shape=(max_length), dtype=tf.int32, name='attention_mask')\n",
    "    decoder_input_ids = layers.Input(shape=(max_length), dtype=tf.int32, name='labels')\n",
    "\n",
    "    t5_logits = t5_model(input_ids, attention_mask=attention_mask, decoder_input_ids=decoder_input_ids)[0]\n",
    "\n",
    "    model = tf.keras.models.Model(inputs=[input_ids, attention_mask, decoder_input_ids],\n",
    "                                  outputs=[t5_logits])\n",
    "    model.compile(optimizer=tf.keras.optimizers.Adam(),\n",
    "                  loss=tf.losses.SparseCategoricalCrossentropy(from_logits=True),\n",
    "                  metrics=['accuracy'])\n",
    "\n",
    "    return model"
   ]
  },
  {
   "cell_type": "code",
   "execution_count": null,
   "metadata": {},
   "outputs": [],
   "source": [
    "model_wrapper = build_t5_training_wrapper_model(t5_model, max_length)"
   ]
  },
  {
   "cell_type": "code",
   "execution_count": null,
   "metadata": {},
   "outputs": [],
   "source": [
    "# As in the first notebook, we should add a model checkpoint callback to save\n",
    "# the trained model weights after each epoch. Edit the filepath to where\n",
    "# you want to save the weights in your own Drive\n",
    "\n",
    "checkpoint_dir = 'drive/MyDrive/266/data/self_ask/model_checkpoints/'\n",
    "checkpoint_filepath = checkpoint_dir + 't5_self_ask_weights.{epoch:02d}-{val_accuracy:.2f}.hdf5'\n",
    "model_checkpoint_callback = tf.keras.callbacks.ModelCheckpoint(\n",
    "    filepath=checkpoint_filepath,\n",
    "    save_weights_only=True)"
   ]
  },
  {
   "cell_type": "code",
   "execution_count": null,
   "metadata": {},
   "outputs": [],
   "source": [
    "# Now call .fit on the model_wrapper, passing in the data generators and the\n",
    "# model checkpoint callback\n",
    "\n",
    "model_wrapper.fit(train_data_generator,\n",
    "                  validation_data=valid_data_generator,\n",
    "                  epochs=1,\n",
    "                  callbacks=[model_checkpoint_callback])"
   ]
  },
  {
   "cell_type": "markdown",
   "metadata": {},
   "source": [
    "# Standardized function call for all models"
   ]
  },
  {
   "cell_type": "code",
   "execution_count": null,
   "metadata": {},
   "outputs": [],
   "source": [
    "# model_name\n",
    "model_name = 't5-base'\n",
    "\n",
    "# traing and validation file path\n",
    "train_file = 'drive/MyDrive/266/compositional_reasoning/data/finetuning/self_ask_train.json'\n",
    "valid_file = 'drive/MyDrive/266/compositional_reasoning/data/finetuning/self_ask_dev.json'\n",
    "\n",
    "# path and file name for checkpoint\n",
    "checkpoint_dir = 'drive/MyDrive/266/data/self_ask/model_checkpoints/'\n",
    "checkpoint_filepath = checkpoint_dir + model_name + '_self_ask_weights.{epoch:02d}-{val_accuracy:.2f}.hdf5'\n",
    "\n",
    "# hyper parameters\n",
    "max_length = 128\n",
    "batch_size = 16\n",
    "epochs = 2\n",
    "\n",
    "model_wrapper = finetune_self_ask(model_name, train_file, valid_file, checkpoint_filepath, max_length, batch_size, epochs)"
   ]
  }
 ],
 "metadata": {
  "kernelspec": {
   "display_name": "Python 3.10 (nlp)",
   "language": "python",
   "name": "nlp"
  },
  "language_info": {
   "codemirror_mode": {
    "name": "ipython",
    "version": 3
   },
   "file_extension": ".py",
   "mimetype": "text/x-python",
   "name": "python",
   "nbconvert_exporter": "python",
   "pygments_lexer": "ipython3",
   "version": "3.10.12"
  }
 },
 "nbformat": 4,
 "nbformat_minor": 2
}
