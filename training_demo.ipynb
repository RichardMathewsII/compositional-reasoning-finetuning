{
 "cells": [
  {
   "attachments": {},
   "cell_type": "markdown",
   "metadata": {},
   "source": [
    "# Training Demo\n",
    "Demonstrate how to use training utilities to fine-tune an LLM."
   ]
  },
  {
   "attachments": {},
   "cell_type": "markdown",
   "metadata": {},
   "source": [
    "## Load and format data"
   ]
  },
  {
   "cell_type": "code",
   "execution_count": 1,
   "metadata": {},
   "outputs": [],
   "source": [
    "from data_loaders import load_FinetuningData\n",
    "from training_utils import qa_split, tokenize"
   ]
  },
  {
   "cell_type": "code",
   "execution_count": 2,
   "metadata": {},
   "outputs": [],
   "source": [
    "# Load data\n",
    "data = load_FinetuningData(n_examples=5, split=\"dev\", strategy=\"direct\")\n",
    "questions, answers = qa_split(data)"
   ]
  },
  {
   "cell_type": "code",
   "execution_count": 3,
   "metadata": {},
   "outputs": [
    {
     "name": "stdout",
     "output_type": "stream",
     "text": [
      "['Fact #0: Éric Deflandre( born 2 August 1973 in Rocourt) is a former Belgian football right fullback.\\nFact #1: Polly Swann( born 5 June 1988) is a British rower and a member of the Great Britain Rowing Team.\\n\\nQuestion: Who was born earlier, Polly Swann or Éric Deflandre?\\nAnswer:', 'Fact #0: The film was written, adapted and directed by Russian-born Arcady Boytler.\\nFact #1: Boytler was born in Moscow, Russia.\\n\\nQuestion: Where was the director of film Heads Or Tails (1937 Film) born?\\nAnswer:', 'Fact #0: The Four Musketeers (also known as The Four Musketeers: Milady\\'s Revenge) is a 1974 Richard Lester film that serves as a sequel to his \"The Three Musketeers\", and covers the second half of Dumas\\' 1844 novel \"The Three Musketeers\".\\nFact #1: Richard Lester Liebman (born January 19, 1932), commonly referred to as Dick Lester, is a retired American film director based in the United Kingdom.\\n\\nQuestion: What nationality is the director of film The Four Musketeers (1974 Film)?\\nAnswer:', 'Fact #0: Mikko Esa Juhani Heikka( born 19 September 1944 in Ylitornio) is a Finnish former bishop of the Evangelic Lutheran Church.\\nFact #1: Scott Douglas Robbe is an American film, television, and theater producer/ director.\\n\\nQuestion: Does Mikko Heikka have the same nationality as Scott Robbe?\\nAnswer:', \"Fact #0: Aliye Sultan (24 August 1880 – 19 September 1903) was an Ottoman princess, the daughter of Sultan Murad V and Resan Hanım.\\nFact #1: He was born in Istanbul.\\n\\nQuestion: What is the place of birth of Aliye Sultan's father?\\nAnswer:\"]\n",
      "['Éric Deflandre', 'Moscow', 'American', 'no', 'Istanbul']\n"
     ]
    }
   ],
   "source": [
    "print(questions)\n",
    "print(answers)"
   ]
  },
  {
   "cell_type": "code",
   "execution_count": 5,
   "metadata": {},
   "outputs": [
    {
     "name": "stdout",
     "output_type": "stream",
     "text": [
      "Fact #0: Éric Deflandre( born 2 August 1973 in Rocourt) is a former Belgian football right fullback.\n",
      "Fact #1: Polly Swann( born 5 June 1988) is a British rower and a member of the Great Britain Rowing Team.\n",
      "\n",
      "Question: Who was born earlier, Polly Swann or Éric Deflandre?\n",
      "Answer:\n",
      "Éric Deflandre\n",
      "\n",
      "Fact #0: The film was written, adapted and directed by Russian-born Arcady Boytler.\n",
      "Fact #1: Boytler was born in Moscow, Russia.\n",
      "\n",
      "Question: Where was the director of film Heads Or Tails (1937 Film) born?\n",
      "Answer:\n",
      "Moscow\n",
      "\n",
      "Fact #0: The Four Musketeers (also known as The Four Musketeers: Milady's Revenge) is a 1974 Richard Lester film that serves as a sequel to his \"The Three Musketeers\", and covers the second half of Dumas' 1844 novel \"The Three Musketeers\".\n",
      "Fact #1: Richard Lester Liebman (born January 19, 1932), commonly referred to as Dick Lester, is a retired American film director based in the United Kingdom.\n",
      "\n",
      "Question: What nationality is the director of film The Four Musketeers (1974 Film)?\n",
      "Answer:\n",
      "American\n",
      "\n",
      "Fact #0: Mikko Esa Juhani Heikka( born 19 September 1944 in Ylitornio) is a Finnish former bishop of the Evangelic Lutheran Church.\n",
      "Fact #1: Scott Douglas Robbe is an American film, television, and theater producer/ director.\n",
      "\n",
      "Question: Does Mikko Heikka have the same nationality as Scott Robbe?\n",
      "Answer:\n",
      "no\n",
      "\n",
      "Fact #0: Aliye Sultan (24 August 1880 – 19 September 1903) was an Ottoman princess, the daughter of Sultan Murad V and Resan Hanım.\n",
      "Fact #1: He was born in Istanbul.\n",
      "\n",
      "Question: What is the place of birth of Aliye Sultan's father?\n",
      "Answer:\n",
      "Istanbul\n",
      "\n"
     ]
    }
   ],
   "source": [
    "# iterate over question answer pairs and print them\n",
    "for question, answer in zip(questions, answers):\n",
    "    print(question)\n",
    "    print(answer)\n",
    "    print()"
   ]
  },
  {
   "cell_type": "code",
   "execution_count": 7,
   "metadata": {},
   "outputs": [],
   "source": [
    "# Load self-ask data\n",
    "data = load_FinetuningData(n_examples=5, split=\"dev\", strategy=\"self_ask\")\n",
    "questions, answers = qa_split(data)"
   ]
  },
  {
   "cell_type": "code",
   "execution_count": 8,
   "metadata": {},
   "outputs": [
    {
     "name": "stdout",
     "output_type": "stream",
     "text": [
      "Example Response\n",
      "Question: When was Neva Egan's husband born?\n",
      "Are follow up questions needed here: Yes.\n",
      "Follow up: Who is the spouse of Neva Egan?\n",
      "Intermediate answer: William Allen Egan\n",
      "Follow up: When is the date of birth of William Allen Egan?\n",
      "Intermediate answer: October 8, 1914\n",
      "So the final answer is: October 8, 1914\n",
      "\n",
      "Example Response\n",
      "Question: Who was born first, Alejo Mancisidor or Emil Leyde?\n",
      "Are follow up questions needed here: Yes.\n",
      "Follow up: When is the date of birth of Alejo Mancisidor?\n",
      "Intermediate answer: 31 July 1970\n",
      "Follow up: When is the date of birth of Emil Leyde?\n",
      "Intermediate answer: 8 January 1879\n",
      "So the final answer is: Emil Leyde\n",
      "\n",
      "Fact #0: Éric Deflandre( born 2 August 1973 in Rocourt) is a former Belgian football right fullback.\n",
      "Fact #1: Polly Swann( born 5 June 1988) is a British rower and a member of the Great Britain Rowing Team.\n",
      "\n",
      "Question: Who was born earlier, Polly Swann or Éric Deflandre?\n",
      "Are follow up questions needed here:\n",
      "\n",
      "Yes.\n",
      "Follow up: When is the date of birth of Éric Deflandre?\n",
      "Intermediate answer: 2 August 1973\n",
      "Follow up: When is the date of birth of Polly Swann?\n",
      "Intermediate answer: 5 June 1988\n",
      "So the final answer is: Éric Deflandre\n",
      "\n"
     ]
    }
   ],
   "source": [
    "print(questions[0])\n",
    "print(answers[0])"
   ]
  }
 ],
 "metadata": {
  "kernelspec": {
   "display_name": "nlp",
   "language": "python",
   "name": "python3"
  },
  "language_info": {
   "codemirror_mode": {
    "name": "ipython",
    "version": 3
   },
   "file_extension": ".py",
   "mimetype": "text/x-python",
   "name": "python",
   "nbconvert_exporter": "python",
   "pygments_lexer": "ipython3",
   "version": "3.11.3"
  },
  "orig_nbformat": 4
 },
 "nbformat": 4,
 "nbformat_minor": 2
}
