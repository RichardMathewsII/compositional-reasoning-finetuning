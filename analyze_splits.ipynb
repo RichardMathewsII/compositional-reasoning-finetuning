{
 "cells": [
  {
   "cell_type": "markdown",
   "metadata": {
    "id": "VQVVNhJ57tzc"
   },
   "source": [
    "Purpose: analyze the splits for direct prompt datasets and self ask prompt datasets"
   ]
  },
  {
   "cell_type": "code",
   "execution_count": 3,
   "metadata": {
    "colab": {
     "base_uri": "https://localhost:8080/"
    },
    "executionInfo": {
     "elapsed": 61183,
     "status": "ok",
     "timestamp": 1690050559772,
     "user": {
      "displayName": "Richard Mathews",
      "userId": "15085444626849988348"
     },
     "user_tz": 300
    },
    "id": "mEUoiT2B7y6S",
    "outputId": "92fa1c14-4e33-468b-da9e-3a134f837e45"
   },
   "outputs": [
    {
     "name": "stdout",
     "output_type": "stream",
     "text": [
      "Requirement already satisfied: pytest in /Users/adamweinberger/opt/anaconda3/envs/compositional_reasoning_finetuning/lib/python3.11/site-packages (7.3.1)\n",
      "Requirement already satisfied: iniconfig in /Users/adamweinberger/opt/anaconda3/envs/compositional_reasoning_finetuning/lib/python3.11/site-packages (from pytest) (1.1.1)\n",
      "Requirement already satisfied: packaging in /Users/adamweinberger/opt/anaconda3/envs/compositional_reasoning_finetuning/lib/python3.11/site-packages (from pytest) (23.1)\n",
      "Requirement already satisfied: pluggy<2.0,>=0.12 in /Users/adamweinberger/opt/anaconda3/envs/compositional_reasoning_finetuning/lib/python3.11/site-packages (from pytest) (1.0.0)\n",
      "Requirement already satisfied: sentencepiece in /Users/adamweinberger/opt/anaconda3/envs/compositional_reasoning_finetuning/lib/python3.11/site-packages (0.1.99)\n",
      "Requirement already satisfied: tokenizers in /Users/adamweinberger/opt/anaconda3/envs/compositional_reasoning_finetuning/lib/python3.11/site-packages (0.13.3)\n",
      "Requirement already satisfied: nltk in /Users/adamweinberger/opt/anaconda3/envs/compositional_reasoning_finetuning/lib/python3.11/site-packages (3.8.1)\n",
      "Requirement already satisfied: click in /Users/adamweinberger/opt/anaconda3/envs/compositional_reasoning_finetuning/lib/python3.11/site-packages (from nltk) (8.1.3)\n",
      "Requirement already satisfied: joblib in /Users/adamweinberger/opt/anaconda3/envs/compositional_reasoning_finetuning/lib/python3.11/site-packages (from nltk) (1.3.0)\n",
      "Requirement already satisfied: regex>=2021.8.3 in /Users/adamweinberger/opt/anaconda3/envs/compositional_reasoning_finetuning/lib/python3.11/site-packages (from nltk) (2022.7.9)\n",
      "Requirement already satisfied: tqdm in /Users/adamweinberger/opt/anaconda3/envs/compositional_reasoning_finetuning/lib/python3.11/site-packages (from nltk) (4.65.0)\n",
      "Requirement already satisfied: loguru in /Users/adamweinberger/opt/anaconda3/envs/compositional_reasoning_finetuning/lib/python3.11/site-packages (0.7.0)\n"
     ]
    }
   ],
   "source": [
    "!pip install pytest\n",
    "!pip install sentencepiece\n",
    "!pip install tokenizers\n",
    "!pip install nltk\n",
    "!pip install loguru\n",
    "\n",
    "# from google.colab import drive\n",
    "# drive.mount('/content/drive/')"
   ]
  },
  {
   "cell_type": "code",
   "execution_count": 4,
   "metadata": {
    "colab": {
     "base_uri": "https://localhost:8080/"
    },
    "executionInfo": {
     "elapsed": 252,
     "status": "ok",
     "timestamp": 1690051575136,
     "user": {
      "displayName": "Richard Mathews",
      "userId": "15085444626849988348"
     },
     "user_tz": 300
    },
    "id": "6x8erF5k78W6",
    "outputId": "0fe3b22c-1caf-4597-8d85-ee722744909c"
   },
   "outputs": [],
   "source": [
    "# %cd drive/MyDrive/projects/compositional-reasoning-finetuning"
   ]
  },
  {
   "cell_type": "code",
   "execution_count": 5,
   "metadata": {
    "executionInfo": {
     "elapsed": 1185,
     "status": "ok",
     "timestamp": 1690051577093,
     "user": {
      "displayName": "Richard Mathews",
      "userId": "15085444626849988348"
     },
     "user_tz": 300
    },
    "id": "8DIz7elf7tzd"
   },
   "outputs": [],
   "source": [
    "import json\n",
    "from token_stats import extract_token_counts, summarize_token_counts"
   ]
  },
  {
   "cell_type": "code",
   "execution_count": 6,
   "metadata": {
    "executionInfo": {
     "elapsed": 215,
     "status": "ok",
     "timestamp": 1690050584016,
     "user": {
      "displayName": "Richard Mathews",
      "userId": "15085444626849988348"
     },
     "user_tz": 300
    },
    "id": "rMOq1gst7tze"
   },
   "outputs": [],
   "source": [
    "path = \"data/FinetuningData/\""
   ]
  },
  {
   "cell_type": "markdown",
   "metadata": {
    "id": "-xt7vn-H7tze"
   },
   "source": [
    "## Train Set: Direct Prompting"
   ]
  },
  {
   "cell_type": "code",
   "execution_count": 7,
   "metadata": {
    "colab": {
     "base_uri": "https://localhost:8080/",
     "height": 349
    },
    "executionInfo": {
     "elapsed": 399,
     "status": "ok",
     "timestamp": 1689196585930,
     "user": {
      "displayName": "Richard Mathews",
      "userId": "15085444626849988348"
     },
     "user_tz": 300
    },
    "id": "_EMpb6VQ7tzf",
    "outputId": "1a058382-17c4-4258-bc07-b082cb8d41eb"
   },
   "outputs": [
    {
     "name": "stderr",
     "output_type": "stream",
     "text": [
      "Extracting token counts for direct-train split: 100%|████████████████████████████| 105479/105479 [00:00<00:00, 2504733.01it/s]\n"
     ]
    },
    {
     "data": {
      "text/html": [
       "<div>\n",
       "<style scoped>\n",
       "    .dataframe tbody tr th:only-of-type {\n",
       "        vertical-align: middle;\n",
       "    }\n",
       "\n",
       "    .dataframe tbody tr th {\n",
       "        vertical-align: top;\n",
       "    }\n",
       "\n",
       "    .dataframe thead th {\n",
       "        text-align: right;\n",
       "    }\n",
       "</style>\n",
       "<table border=\"1\" class=\"dataframe\">\n",
       "  <thead>\n",
       "    <tr style=\"text-align: right;\">\n",
       "      <th></th>\n",
       "      <th>prompt_token_counts</th>\n",
       "      <th>target_token_counts</th>\n",
       "      <th>total_token_counts</th>\n",
       "    </tr>\n",
       "  </thead>\n",
       "  <tbody>\n",
       "    <tr>\n",
       "      <th>count</th>\n",
       "      <td>105479.00</td>\n",
       "      <td>105479.0</td>\n",
       "      <td>105479.00</td>\n",
       "    </tr>\n",
       "    <tr>\n",
       "      <th>mean</th>\n",
       "      <td>95.75</td>\n",
       "      <td>2.7</td>\n",
       "      <td>98.44</td>\n",
       "    </tr>\n",
       "    <tr>\n",
       "      <th>std</th>\n",
       "      <td>16.86</td>\n",
       "      <td>2.0</td>\n",
       "      <td>17.07</td>\n",
       "    </tr>\n",
       "    <tr>\n",
       "      <th>min</th>\n",
       "      <td>41.00</td>\n",
       "      <td>1.0</td>\n",
       "      <td>44.00</td>\n",
       "    </tr>\n",
       "    <tr>\n",
       "      <th>25%</th>\n",
       "      <td>83.00</td>\n",
       "      <td>1.0</td>\n",
       "      <td>86.00</td>\n",
       "    </tr>\n",
       "    <tr>\n",
       "      <th>50%</th>\n",
       "      <td>95.00</td>\n",
       "      <td>3.0</td>\n",
       "      <td>98.00</td>\n",
       "    </tr>\n",
       "    <tr>\n",
       "      <th>75%</th>\n",
       "      <td>108.00</td>\n",
       "      <td>4.0</td>\n",
       "      <td>111.00</td>\n",
       "    </tr>\n",
       "    <tr>\n",
       "      <th>max</th>\n",
       "      <td>130.00</td>\n",
       "      <td>23.0</td>\n",
       "      <td>150.00</td>\n",
       "    </tr>\n",
       "    <tr>\n",
       "      <th>sum</th>\n",
       "      <td>10099174.00</td>\n",
       "      <td>284678.0</td>\n",
       "      <td>10383852.00</td>\n",
       "    </tr>\n",
       "  </tbody>\n",
       "</table>\n",
       "</div>"
      ],
      "text/plain": [
       "       prompt_token_counts  target_token_counts  total_token_counts\n",
       "count            105479.00             105479.0           105479.00\n",
       "mean                 95.75                  2.7               98.44\n",
       "std                  16.86                  2.0               17.07\n",
       "min                  41.00                  1.0               44.00\n",
       "25%                  83.00                  1.0               86.00\n",
       "50%                  95.00                  3.0               98.00\n",
       "75%                 108.00                  4.0              111.00\n",
       "max                 130.00                 23.0              150.00\n",
       "sum            10099174.00             284678.0         10383852.00"
      ]
     },
     "execution_count": 7,
     "metadata": {},
     "output_type": "execute_result"
    }
   ],
   "source": [
    "direct_train_counts = extract_token_counts(\"direct\", \"train\")\n",
    "direct_train_stats = summarize_token_counts(direct_train_counts)\n",
    "direct_train_stats"
   ]
  },
  {
   "cell_type": "code",
   "execution_count": 9,
   "metadata": {
    "id": "YLuUX7rk7tzf"
   },
   "outputs": [],
   "source": [
    "# open json file for direct prompt training examples\n",
    "with open(path + \"direct_train.json\", \"r\") as f:\n",
    "    direct_train = json.load(f)"
   ]
  },
  {
   "cell_type": "code",
   "execution_count": 10,
   "metadata": {
    "colab": {
     "base_uri": "https://localhost:8080/"
    },
    "executionInfo": {
     "elapsed": 159,
     "status": "ok",
     "timestamp": 1689196599079,
     "user": {
      "displayName": "Richard Mathews",
      "userId": "15085444626849988348"
     },
     "user_tz": 300
    },
    "id": "xLf9pG3i7tzg",
    "outputId": "da974d43-27db-4cfb-f798-9051da498810"
   },
   "outputs": [
    {
     "data": {
      "text/plain": [
       "[{'prompt': \"Facts:\\nFact #0: Egan was the wife of the state of Alaska's first governor, William Allen Egan, and the mother of former Juneau Mayor and Alaska State Senator Dennis Egan.\\nFact #1: William Allen Egan (October 8, 1914 – May 6, 1984) was an American Democratic politician.\\n\\nQuestion: When was Neva Egan's husband born?\\nAnswer:\",\n",
       "  'target': 'October 8, 1914',\n",
       "  'num_prompt_tokens': 81,\n",
       "  'num_target_tokens': 3,\n",
       "  'num_tokens': 84},\n",
       " {'prompt': 'Facts:\\nFact #0: Alejo Mancisidor( born 31 July 1970) is a former professional tennis player from Spain.\\nFact #1: Emil Leyde( 8 January 1879 in Kassel – ca. 1924) was a German film director, screenwriter, cameraman and film producer.\\n\\nQuestion: Who was born first, Alejo Mancisidor or Emil Leyde?\\nAnswer:',\n",
       "  'target': 'Emil Leyde',\n",
       "  'num_prompt_tokens': 92,\n",
       "  'num_target_tokens': 4,\n",
       "  'num_tokens': 96}]"
      ]
     },
     "execution_count": 10,
     "metadata": {},
     "output_type": "execute_result"
    }
   ],
   "source": [
    "direct_train[:2]"
   ]
  },
  {
   "cell_type": "code",
   "execution_count": 11,
   "metadata": {
    "colab": {
     "base_uri": "https://localhost:8080/"
    },
    "executionInfo": {
     "elapsed": 121,
     "status": "ok",
     "timestamp": 1689196646077,
     "user": {
      "displayName": "Richard Mathews",
      "userId": "15085444626849988348"
     },
     "user_tz": 300
    },
    "id": "6Ozk6-zK7tzg",
    "outputId": "0193e027-6b60-4f95-a415-5c9666842896"
   },
   "outputs": [
    {
     "name": "stdout",
     "output_type": "stream",
     "text": [
      "Facts:\n",
      "Fact #0: Egan was the wife of the state of Alaska's first governor, William Allen Egan, and the mother of former Juneau Mayor and Alaska State Senator Dennis Egan.\n",
      "Fact #1: William Allen Egan (October 8, 1914 – May 6, 1984) was an American Democratic politician.\n",
      "\n",
      "Question: When was Neva Egan's husband born?\n",
      "Answer:\n",
      "October 8, 1914\n"
     ]
    }
   ],
   "source": [
    "print(direct_train[0][\"prompt\"])\n",
    "print(direct_train[0][\"target\"])"
   ]
  },
  {
   "cell_type": "code",
   "execution_count": 12,
   "metadata": {
    "id": "_7zIVgaE7tzg"
   },
   "outputs": [],
   "source": [
    "del direct_train"
   ]
  },
  {
   "cell_type": "markdown",
   "metadata": {
    "id": "NUu4tZDg7tzg"
   },
   "source": [
    "## Dev Set: Direct Prompting"
   ]
  },
  {
   "cell_type": "code",
   "execution_count": 13,
   "metadata": {
    "colab": {
     "base_uri": "https://localhost:8080/",
     "height": 349
    },
    "executionInfo": {
     "elapsed": 358,
     "status": "ok",
     "timestamp": 1689196671933,
     "user": {
      "displayName": "Richard Mathews",
      "userId": "15085444626849988348"
     },
     "user_tz": 300
    },
    "id": "AxpnQDSw7tzg",
    "outputId": "979e3fd3-5ba0-486e-d86e-e2e9483bca6f"
   },
   "outputs": [
    {
     "name": "stderr",
     "output_type": "stream",
     "text": [
      "Extracting token counts for direct-dev split: 100%|██████████████████████████████████| 8657/8657 [00:00<00:00, 2328913.46it/s]\n"
     ]
    },
    {
     "data": {
      "text/html": [
       "<div>\n",
       "<style scoped>\n",
       "    .dataframe tbody tr th:only-of-type {\n",
       "        vertical-align: middle;\n",
       "    }\n",
       "\n",
       "    .dataframe tbody tr th {\n",
       "        vertical-align: top;\n",
       "    }\n",
       "\n",
       "    .dataframe thead th {\n",
       "        text-align: right;\n",
       "    }\n",
       "</style>\n",
       "<table border=\"1\" class=\"dataframe\">\n",
       "  <thead>\n",
       "    <tr style=\"text-align: right;\">\n",
       "      <th></th>\n",
       "      <th>prompt_token_counts</th>\n",
       "      <th>target_token_counts</th>\n",
       "      <th>total_token_counts</th>\n",
       "    </tr>\n",
       "  </thead>\n",
       "  <tbody>\n",
       "    <tr>\n",
       "      <th>count</th>\n",
       "      <td>8657.00</td>\n",
       "      <td>8657.00</td>\n",
       "      <td>8657.00</td>\n",
       "    </tr>\n",
       "    <tr>\n",
       "      <th>mean</th>\n",
       "      <td>95.91</td>\n",
       "      <td>2.74</td>\n",
       "      <td>98.65</td>\n",
       "    </tr>\n",
       "    <tr>\n",
       "      <th>std</th>\n",
       "      <td>17.05</td>\n",
       "      <td>2.05</td>\n",
       "      <td>17.28</td>\n",
       "    </tr>\n",
       "    <tr>\n",
       "      <th>min</th>\n",
       "      <td>41.00</td>\n",
       "      <td>1.00</td>\n",
       "      <td>47.00</td>\n",
       "    </tr>\n",
       "    <tr>\n",
       "      <th>25%</th>\n",
       "      <td>83.00</td>\n",
       "      <td>1.00</td>\n",
       "      <td>86.00</td>\n",
       "    </tr>\n",
       "    <tr>\n",
       "      <th>50%</th>\n",
       "      <td>95.00</td>\n",
       "      <td>3.00</td>\n",
       "      <td>98.00</td>\n",
       "    </tr>\n",
       "    <tr>\n",
       "      <th>75%</th>\n",
       "      <td>109.00</td>\n",
       "      <td>4.00</td>\n",
       "      <td>112.00</td>\n",
       "    </tr>\n",
       "    <tr>\n",
       "      <th>max</th>\n",
       "      <td>130.00</td>\n",
       "      <td>18.00</td>\n",
       "      <td>142.00</td>\n",
       "    </tr>\n",
       "    <tr>\n",
       "      <th>sum</th>\n",
       "      <td>830310.00</td>\n",
       "      <td>23723.00</td>\n",
       "      <td>854033.00</td>\n",
       "    </tr>\n",
       "  </tbody>\n",
       "</table>\n",
       "</div>"
      ],
      "text/plain": [
       "       prompt_token_counts  target_token_counts  total_token_counts\n",
       "count              8657.00              8657.00             8657.00\n",
       "mean                 95.91                 2.74               98.65\n",
       "std                  17.05                 2.05               17.28\n",
       "min                  41.00                 1.00               47.00\n",
       "25%                  83.00                 1.00               86.00\n",
       "50%                  95.00                 3.00               98.00\n",
       "75%                 109.00                 4.00              112.00\n",
       "max                 130.00                18.00              142.00\n",
       "sum              830310.00             23723.00           854033.00"
      ]
     },
     "execution_count": 13,
     "metadata": {},
     "output_type": "execute_result"
    }
   ],
   "source": [
    "direct_dev_counts = extract_token_counts(\"direct\", \"dev\")\n",
    "direct_dev_stats = summarize_token_counts(direct_dev_counts)\n",
    "direct_dev_stats"
   ]
  },
  {
   "cell_type": "code",
   "execution_count": 14,
   "metadata": {
    "id": "QMwj9tCb7tzh"
   },
   "outputs": [],
   "source": [
    "# open json file for direct prompt dev examples\n",
    "with open(path + \"direct_dev.json\", \"r\") as f:\n",
    "    direct_dev = json.load(f)"
   ]
  },
  {
   "cell_type": "code",
   "execution_count": 15,
   "metadata": {
    "colab": {
     "base_uri": "https://localhost:8080/"
    },
    "executionInfo": {
     "elapsed": 128,
     "status": "ok",
     "timestamp": 1689196679956,
     "user": {
      "displayName": "Richard Mathews",
      "userId": "15085444626849988348"
     },
     "user_tz": 300
    },
    "id": "tb7mrFts7tzh",
    "outputId": "f684342e-9da9-4067-8ce9-c2817d0ce4c0"
   },
   "outputs": [
    {
     "data": {
      "text/plain": [
       "[{'prompt': 'Facts:\\nFact #0: Éric Deflandre( born 2 August 1973 in Rocourt) is a former Belgian football right fullback.\\nFact #1: Polly Swann( born 5 June 1988) is a British rower and a member of the Great Britain Rowing Team.\\n\\nQuestion: Who was born earlier, Polly Swann or Éric Deflandre?\\nAnswer:',\n",
       "  'target': 'Éric Deflandre',\n",
       "  'num_prompt_tokens': 87,\n",
       "  'num_target_tokens': 7,\n",
       "  'num_tokens': 94},\n",
       " {'prompt': 'Facts:\\nFact #0: The film was written, adapted and directed by Russian-born Arcady Boytler.\\nFact #1: Boytler was born in Moscow, Russia.\\n\\nQuestion: Where was the director of film Heads Or Tails (1937 Film) born?\\nAnswer:',\n",
       "  'target': 'Moscow',\n",
       "  'num_prompt_tokens': 60,\n",
       "  'num_target_tokens': 1,\n",
       "  'num_tokens': 61}]"
      ]
     },
     "execution_count": 15,
     "metadata": {},
     "output_type": "execute_result"
    }
   ],
   "source": [
    "direct_dev[:2]"
   ]
  },
  {
   "cell_type": "code",
   "execution_count": 16,
   "metadata": {
    "colab": {
     "base_uri": "https://localhost:8080/"
    },
    "executionInfo": {
     "elapsed": 174,
     "status": "ok",
     "timestamp": 1689196715114,
     "user": {
      "displayName": "Richard Mathews",
      "userId": "15085444626849988348"
     },
     "user_tz": 300
    },
    "id": "PC6g23T57tzh",
    "outputId": "c885832f-6dde-48e2-9675-090d32f4ffcf"
   },
   "outputs": [
    {
     "name": "stdout",
     "output_type": "stream",
     "text": [
      "Facts:\n",
      "Fact #0: Éric Deflandre( born 2 August 1973 in Rocourt) is a former Belgian football right fullback.\n",
      "Fact #1: Polly Swann( born 5 June 1988) is a British rower and a member of the Great Britain Rowing Team.\n",
      "\n",
      "Question: Who was born earlier, Polly Swann or Éric Deflandre?\n",
      "Answer:\n",
      "Éric Deflandre\n"
     ]
    }
   ],
   "source": [
    "print(direct_dev[0][\"prompt\"])\n",
    "print(direct_dev[0][\"target\"])"
   ]
  },
  {
   "cell_type": "code",
   "execution_count": 17,
   "metadata": {
    "id": "9dXDc3WJ7tzh"
   },
   "outputs": [],
   "source": [
    "del direct_dev"
   ]
  },
  {
   "cell_type": "markdown",
   "metadata": {
    "id": "e2_P_FgP7tzi"
   },
   "source": [
    "## Train Set: Self-Ask"
   ]
  },
  {
   "cell_type": "code",
   "execution_count": 18,
   "metadata": {
    "colab": {
     "base_uri": "https://localhost:8080/",
     "height": 369
    },
    "executionInfo": {
     "elapsed": 4758,
     "status": "ok",
     "timestamp": 1689818434464,
     "user": {
      "displayName": "Richard Mathews",
      "userId": "15085444626849988348"
     },
     "user_tz": 300
    },
    "id": "xJm9Wimf7tzi",
    "outputId": "644d3856-166b-4840-b5d1-3fbf87ba7474"
   },
   "outputs": [
    {
     "name": "stderr",
     "output_type": "stream",
     "text": [
      "Extracting token counts for self_ask-train split: 100%|██████████████████████████| 102026/102026 [00:00<00:00, 2850611.25it/s]\n"
     ]
    },
    {
     "data": {
      "text/html": [
       "<div>\n",
       "<style scoped>\n",
       "    .dataframe tbody tr th:only-of-type {\n",
       "        vertical-align: middle;\n",
       "    }\n",
       "\n",
       "    .dataframe tbody tr th {\n",
       "        vertical-align: top;\n",
       "    }\n",
       "\n",
       "    .dataframe thead th {\n",
       "        text-align: right;\n",
       "    }\n",
       "</style>\n",
       "<table border=\"1\" class=\"dataframe\">\n",
       "  <thead>\n",
       "    <tr style=\"text-align: right;\">\n",
       "      <th></th>\n",
       "      <th>prompt_token_counts</th>\n",
       "      <th>target_token_counts</th>\n",
       "      <th>total_token_counts</th>\n",
       "    </tr>\n",
       "  </thead>\n",
       "  <tbody>\n",
       "    <tr>\n",
       "      <th>count</th>\n",
       "      <td>102026.00</td>\n",
       "      <td>102026.00</td>\n",
       "      <td>102026.00</td>\n",
       "    </tr>\n",
       "    <tr>\n",
       "      <th>mean</th>\n",
       "      <td>268.64</td>\n",
       "      <td>54.03</td>\n",
       "      <td>322.66</td>\n",
       "    </tr>\n",
       "    <tr>\n",
       "      <th>std</th>\n",
       "      <td>16.01</td>\n",
       "      <td>8.52</td>\n",
       "      <td>19.55</td>\n",
       "    </tr>\n",
       "    <tr>\n",
       "      <th>min</th>\n",
       "      <td>215.00</td>\n",
       "      <td>38.00</td>\n",
       "      <td>260.00</td>\n",
       "    </tr>\n",
       "    <tr>\n",
       "      <th>25%</th>\n",
       "      <td>257.00</td>\n",
       "      <td>49.00</td>\n",
       "      <td>309.00</td>\n",
       "    </tr>\n",
       "    <tr>\n",
       "      <th>50%</th>\n",
       "      <td>268.00</td>\n",
       "      <td>52.00</td>\n",
       "      <td>322.00</td>\n",
       "    </tr>\n",
       "    <tr>\n",
       "      <th>75%</th>\n",
       "      <td>281.00</td>\n",
       "      <td>57.00</td>\n",
       "      <td>336.00</td>\n",
       "    </tr>\n",
       "    <tr>\n",
       "      <th>max</th>\n",
       "      <td>300.00</td>\n",
       "      <td>180.00</td>\n",
       "      <td>464.00</td>\n",
       "    </tr>\n",
       "    <tr>\n",
       "      <th>sum</th>\n",
       "      <td>27408157.00</td>\n",
       "      <td>5512024.00</td>\n",
       "      <td>32920181.00</td>\n",
       "    </tr>\n",
       "  </tbody>\n",
       "</table>\n",
       "</div>"
      ],
      "text/plain": [
       "       prompt_token_counts  target_token_counts  total_token_counts\n",
       "count            102026.00            102026.00           102026.00\n",
       "mean                268.64                54.03              322.66\n",
       "std                  16.01                 8.52               19.55\n",
       "min                 215.00                38.00              260.00\n",
       "25%                 257.00                49.00              309.00\n",
       "50%                 268.00                52.00              322.00\n",
       "75%                 281.00                57.00              336.00\n",
       "max                 300.00               180.00              464.00\n",
       "sum            27408157.00           5512024.00         32920181.00"
      ]
     },
     "execution_count": 18,
     "metadata": {},
     "output_type": "execute_result"
    }
   ],
   "source": [
    "self_ask_train_counts = extract_token_counts(\"self_ask\", \"train\")\n",
    "self_ask_train_stats = summarize_token_counts(self_ask_train_counts)\n",
    "self_ask_train_stats"
   ]
  },
  {
   "cell_type": "code",
   "execution_count": 19,
   "metadata": {
    "colab": {
     "base_uri": "https://localhost:8080/"
    },
    "executionInfo": {
     "elapsed": 210,
     "status": "ok",
     "timestamp": 1689541511977,
     "user": {
      "displayName": "Richard Mathews",
      "userId": "15085444626849988348"
     },
     "user_tz": 300
    },
    "id": "2SGuAKDIga-6",
    "outputId": "feca222b-66d3-40de-9d1c-deb745bb7aeb"
   },
   "outputs": [
    {
     "data": {
      "text/plain": [
       "1.0"
      ]
     },
     "execution_count": 19,
     "metadata": {},
     "output_type": "execute_result"
    }
   ],
   "source": [
    "import pandas as pd\n",
    "df = pd.DataFrame(self_ask_train_counts)\n",
    "df.loc[df.prompt_token_counts < 450, :].shape[0] / df.shape[0]"
   ]
  },
  {
   "cell_type": "code",
   "execution_count": 20,
   "metadata": {
    "id": "Ja1WPTct7tzi"
   },
   "outputs": [],
   "source": [
    "# open json file for self ask prompt training examples\n",
    "with open(path + \"self_ask_train.json\", \"r\") as f:\n",
    "    self_ask_train = json.load(f)"
   ]
  },
  {
   "cell_type": "code",
   "execution_count": 21,
   "metadata": {
    "colab": {
     "base_uri": "https://localhost:8080/"
    },
    "executionInfo": {
     "elapsed": 225,
     "status": "ok",
     "timestamp": 1689818463455,
     "user": {
      "displayName": "Richard Mathews",
      "userId": "15085444626849988348"
     },
     "user_tz": 300
    },
    "id": "inQW-tsF7tzi",
    "outputId": "76aedfb3-6c5a-48c8-8289-ea641a5b2a04"
   },
   "outputs": [
    {
     "data": {
      "text/plain": [
       "[{'prompt': \"Examples:\\nSTART\\nQuestion: When was Neva Egan's husband born?\\nAre follow up questions needed here: Yes.\\nFollow up: Who is the spouse of Neva Egan?\\nIntermediate answer: William Allen Egan\\nFollow up: When is the date of birth of William Allen Egan?\\nIntermediate answer: October 8, 1914\\nSo the final answer is: October 8, 1914\\nEND\\n\\nSTART\\nQuestion: Who was born first, Alejo Mancisidor or Emil Leyde?\\nAre follow up questions needed here: Yes.\\nFollow up: When is the date of birth of Alejo Mancisidor?\\nIntermediate answer: 31 July 1970\\nFollow up: When is the date of birth of Emil Leyde?\\nIntermediate answer: 8 January 1879\\nSo the final answer is: Emil Leyde\\nEND\\n\\nFacts:\\nFact #0: Solo is a 2006 Australian film directed by Morgan O'Neill and starring Colin Friels.\\nFact #1: Morgan O'Neill (born 19 April 1973 in Sydney, Australia) is an Australian writer, director, actor and producer.\\n\\nQuestion: What is the place of birth of the director of film Solo (2006 Film)?\\nAre follow up questions needed here:\\n\",\n",
       "  'target': \"Yes.\\nFollow up: What is the director of Solo?\\nIntermediate answer: Morgan O'Neill\\nFollow up: What is the place of birth of Morgan O'Neill?\\nIntermediate answer: Sydney, Australia\\nSo the final answer is: Sydney, Australia\\n\",\n",
       "  'num_prompt_tokens': 250,\n",
       "  'num_target_tokens': 49,\n",
       "  'num_tokens': 299},\n",
       " {'prompt': \"Examples:\\nSTART\\nQuestion: When was Neva Egan's husband born?\\nAre follow up questions needed here: Yes.\\nFollow up: Who is the spouse of Neva Egan?\\nIntermediate answer: William Allen Egan\\nFollow up: When is the date of birth of William Allen Egan?\\nIntermediate answer: October 8, 1914\\nSo the final answer is: October 8, 1914\\nEND\\n\\nSTART\\nQuestion: Who was born first, Alejo Mancisidor or Emil Leyde?\\nAre follow up questions needed here: Yes.\\nFollow up: When is the date of birth of Alejo Mancisidor?\\nIntermediate answer: 31 July 1970\\nFollow up: When is the date of birth of Emil Leyde?\\nIntermediate answer: 8 January 1879\\nSo the final answer is: Emil Leyde\\nEND\\n\\nFacts:\\nFact #0: The film also featured Manivannan, Thalaivasal Vijay and Charle in pivotal roles, while music was composed by S. A. Rajkumar.\\nFact #1: S. A. Rajkumar is an Indian film music director who hails from Chennai, Tamil Nadu.\\n\\nQuestion: Where was the composer of film Ennavale born?\\nAre follow up questions needed here:\\n\",\n",
       "  'target': 'Yes.\\nFollow up: Who is the composer of Ennavale?\\nIntermediate answer: S. A. Rajkumar\\nFollow up: What is the place of birth of S. A. Rajkumar?\\nIntermediate answer: Chennai\\nSo the final answer is: Chennai\\n',\n",
       "  'num_prompt_tokens': 262,\n",
       "  'num_target_tokens': 54,\n",
       "  'num_tokens': 316}]"
      ]
     },
     "execution_count": 21,
     "metadata": {},
     "output_type": "execute_result"
    }
   ],
   "source": [
    "self_ask_train[:2]"
   ]
  },
  {
   "cell_type": "code",
   "execution_count": 22,
   "metadata": {
    "colab": {
     "base_uri": "https://localhost:8080/"
    },
    "executionInfo": {
     "elapsed": 210,
     "status": "ok",
     "timestamp": 1689818466032,
     "user": {
      "displayName": "Richard Mathews",
      "userId": "15085444626849988348"
     },
     "user_tz": 300
    },
    "id": "jc443jB37tzi",
    "outputId": "bb5ab648-bfa3-4047-be5f-0b28d56099c2"
   },
   "outputs": [
    {
     "name": "stdout",
     "output_type": "stream",
     "text": [
      "Examples:\n",
      "START\n",
      "Question: When was Neva Egan's husband born?\n",
      "Are follow up questions needed here: Yes.\n",
      "Follow up: Who is the spouse of Neva Egan?\n",
      "Intermediate answer: William Allen Egan\n",
      "Follow up: When is the date of birth of William Allen Egan?\n",
      "Intermediate answer: October 8, 1914\n",
      "So the final answer is: October 8, 1914\n",
      "END\n",
      "\n",
      "START\n",
      "Question: Who was born first, Alejo Mancisidor or Emil Leyde?\n",
      "Are follow up questions needed here: Yes.\n",
      "Follow up: When is the date of birth of Alejo Mancisidor?\n",
      "Intermediate answer: 31 July 1970\n",
      "Follow up: When is the date of birth of Emil Leyde?\n",
      "Intermediate answer: 8 January 1879\n",
      "So the final answer is: Emil Leyde\n",
      "END\n",
      "\n",
      "Facts:\n",
      "Fact #0: Solo is a 2006 Australian film directed by Morgan O'Neill and starring Colin Friels.\n",
      "Fact #1: Morgan O'Neill (born 19 April 1973 in Sydney, Australia) is an Australian writer, director, actor and producer.\n",
      "\n",
      "Question: What is the place of birth of the director of film Solo (2006 Film)?\n",
      "Are follow up questions needed here:\n",
      "\n",
      "Yes.\n",
      "Follow up: What is the director of Solo?\n",
      "Intermediate answer: Morgan O'Neill\n",
      "Follow up: What is the place of birth of Morgan O'Neill?\n",
      "Intermediate answer: Sydney, Australia\n",
      "So the final answer is: Sydney, Australia\n",
      "\n"
     ]
    }
   ],
   "source": [
    "print(self_ask_train[0][\"prompt\"])\n",
    "print(self_ask_train[0][\"target\"])"
   ]
  },
  {
   "cell_type": "code",
   "execution_count": 23,
   "metadata": {
    "id": "DU1_gt7T7tzj"
   },
   "outputs": [],
   "source": [
    "del self_ask_train"
   ]
  },
  {
   "cell_type": "markdown",
   "metadata": {
    "id": "Ji0wsTsR7tzj"
   },
   "source": [
    "## Dev Set: Self-Ask"
   ]
  },
  {
   "cell_type": "code",
   "execution_count": 24,
   "metadata": {
    "colab": {
     "base_uri": "https://localhost:8080/",
     "height": 369
    },
    "executionInfo": {
     "elapsed": 816,
     "status": "ok",
     "timestamp": 1689818488387,
     "user": {
      "displayName": "Richard Mathews",
      "userId": "15085444626849988348"
     },
     "user_tz": 300
    },
    "id": "5Zg0U__K7tzj",
    "outputId": "3403f6cc-9781-4a74-e79a-1f30f09e9ab3"
   },
   "outputs": [
    {
     "name": "stderr",
     "output_type": "stream",
     "text": [
      "Extracting token counts for self_ask-dev split: 100%|████████████████████████████████| 8367/8367 [00:00<00:00, 2095899.52it/s]\n"
     ]
    },
    {
     "data": {
      "text/html": [
       "<div>\n",
       "<style scoped>\n",
       "    .dataframe tbody tr th:only-of-type {\n",
       "        vertical-align: middle;\n",
       "    }\n",
       "\n",
       "    .dataframe tbody tr th {\n",
       "        vertical-align: top;\n",
       "    }\n",
       "\n",
       "    .dataframe thead th {\n",
       "        text-align: right;\n",
       "    }\n",
       "</style>\n",
       "<table border=\"1\" class=\"dataframe\">\n",
       "  <thead>\n",
       "    <tr style=\"text-align: right;\">\n",
       "      <th></th>\n",
       "      <th>prompt_token_counts</th>\n",
       "      <th>target_token_counts</th>\n",
       "      <th>total_token_counts</th>\n",
       "    </tr>\n",
       "  </thead>\n",
       "  <tbody>\n",
       "    <tr>\n",
       "      <th>count</th>\n",
       "      <td>8367.00</td>\n",
       "      <td>8367.00</td>\n",
       "      <td>8367.00</td>\n",
       "    </tr>\n",
       "    <tr>\n",
       "      <th>mean</th>\n",
       "      <td>268.78</td>\n",
       "      <td>54.22</td>\n",
       "      <td>323.00</td>\n",
       "    </tr>\n",
       "    <tr>\n",
       "      <th>std</th>\n",
       "      <td>16.21</td>\n",
       "      <td>8.52</td>\n",
       "      <td>19.82</td>\n",
       "    </tr>\n",
       "    <tr>\n",
       "      <th>min</th>\n",
       "      <td>215.00</td>\n",
       "      <td>38.00</td>\n",
       "      <td>266.00</td>\n",
       "    </tr>\n",
       "    <tr>\n",
       "      <th>25%</th>\n",
       "      <td>257.00</td>\n",
       "      <td>49.00</td>\n",
       "      <td>309.00</td>\n",
       "    </tr>\n",
       "    <tr>\n",
       "      <th>50%</th>\n",
       "      <td>269.00</td>\n",
       "      <td>53.00</td>\n",
       "      <td>322.00</td>\n",
       "    </tr>\n",
       "    <tr>\n",
       "      <th>75%</th>\n",
       "      <td>281.00</td>\n",
       "      <td>57.00</td>\n",
       "      <td>336.00</td>\n",
       "    </tr>\n",
       "    <tr>\n",
       "      <th>max</th>\n",
       "      <td>300.00</td>\n",
       "      <td>131.00</td>\n",
       "      <td>428.00</td>\n",
       "    </tr>\n",
       "    <tr>\n",
       "      <th>sum</th>\n",
       "      <td>2248891.00</td>\n",
       "      <td>453666.00</td>\n",
       "      <td>2702557.00</td>\n",
       "    </tr>\n",
       "  </tbody>\n",
       "</table>\n",
       "</div>"
      ],
      "text/plain": [
       "       prompt_token_counts  target_token_counts  total_token_counts\n",
       "count              8367.00              8367.00             8367.00\n",
       "mean                268.78                54.22              323.00\n",
       "std                  16.21                 8.52               19.82\n",
       "min                 215.00                38.00              266.00\n",
       "25%                 257.00                49.00              309.00\n",
       "50%                 269.00                53.00              322.00\n",
       "75%                 281.00                57.00              336.00\n",
       "max                 300.00               131.00              428.00\n",
       "sum             2248891.00            453666.00          2702557.00"
      ]
     },
     "execution_count": 24,
     "metadata": {},
     "output_type": "execute_result"
    }
   ],
   "source": [
    "self_ask_dev_counts = extract_token_counts(\"self_ask\", \"dev\")\n",
    "self_ask_dev_stats = summarize_token_counts(self_ask_dev_counts)\n",
    "self_ask_dev_stats"
   ]
  },
  {
   "cell_type": "code",
   "execution_count": 25,
   "metadata": {
    "colab": {
     "base_uri": "https://localhost:8080/"
    },
    "executionInfo": {
     "elapsed": 201,
     "status": "ok",
     "timestamp": 1689818494116,
     "user": {
      "displayName": "Richard Mathews",
      "userId": "15085444626849988348"
     },
     "user_tz": 300
    },
    "id": "RKC3idOahoU-",
    "outputId": "93a65197-a734-476e-a1af-6de70bb05e59"
   },
   "outputs": [
    {
     "data": {
      "text/plain": [
       "1.0"
      ]
     },
     "execution_count": 25,
     "metadata": {},
     "output_type": "execute_result"
    }
   ],
   "source": [
    "import pandas as pd\n",
    "df = pd.DataFrame(self_ask_dev_counts)\n",
    "df.loc[df.prompt_token_counts < 450, :].shape[0] / df.shape[0]"
   ]
  },
  {
   "cell_type": "code",
   "execution_count": 26,
   "metadata": {
    "id": "CmvaYQa07tzj"
   },
   "outputs": [],
   "source": [
    "# open json file for self ask prompt dev examples\n",
    "with open(path + \"self_ask_dev.json\", \"r\") as f:\n",
    "    self_ask_dev = json.load(f)"
   ]
  },
  {
   "cell_type": "code",
   "execution_count": 27,
   "metadata": {
    "colab": {
     "base_uri": "https://localhost:8080/"
    },
    "executionInfo": {
     "elapsed": 2,
     "status": "ok",
     "timestamp": 1689818501565,
     "user": {
      "displayName": "Richard Mathews",
      "userId": "15085444626849988348"
     },
     "user_tz": 300
    },
    "id": "IoJ1OKH17tzk",
    "outputId": "bd614d21-028c-4274-9891-141e786f2ca8"
   },
   "outputs": [
    {
     "data": {
      "text/plain": [
       "[{'prompt': \"Examples:\\nSTART\\nQuestion: When was Neva Egan's husband born?\\nAre follow up questions needed here: Yes.\\nFollow up: Who is the spouse of Neva Egan?\\nIntermediate answer: William Allen Egan\\nFollow up: When is the date of birth of William Allen Egan?\\nIntermediate answer: October 8, 1914\\nSo the final answer is: October 8, 1914\\nEND\\n\\nSTART\\nQuestion: Who was born first, Alejo Mancisidor or Emil Leyde?\\nAre follow up questions needed here: Yes.\\nFollow up: When is the date of birth of Alejo Mancisidor?\\nIntermediate answer: 31 July 1970\\nFollow up: When is the date of birth of Emil Leyde?\\nIntermediate answer: 8 January 1879\\nSo the final answer is: Emil Leyde\\nEND\\n\\nFacts:\\nFact #0: Éric Deflandre( born 2 August 1973 in Rocourt) is a former Belgian football right fullback.\\nFact #1: Polly Swann( born 5 June 1988) is a British rower and a member of the Great Britain Rowing Team.\\n\\nQuestion: Who was born earlier, Polly Swann or Éric Deflandre?\\nAre follow up questions needed here:\\n\",\n",
       "  'target': 'Yes.\\nFollow up: When is the date of birth of Éric Deflandre?\\nIntermediate answer: 2 August 1973\\nFollow up: When is the date of birth of Polly Swann?\\nIntermediate answer: 5 June 1988\\nSo the final answer is: Éric Deflandre\\n',\n",
       "  'num_prompt_tokens': 261,\n",
       "  'num_target_tokens': 60,\n",
       "  'num_tokens': 321},\n",
       " {'prompt': \"Examples:\\nSTART\\nQuestion: When was Neva Egan's husband born?\\nAre follow up questions needed here: Yes.\\nFollow up: Who is the spouse of Neva Egan?\\nIntermediate answer: William Allen Egan\\nFollow up: When is the date of birth of William Allen Egan?\\nIntermediate answer: October 8, 1914\\nSo the final answer is: October 8, 1914\\nEND\\n\\nSTART\\nQuestion: Who was born first, Alejo Mancisidor or Emil Leyde?\\nAre follow up questions needed here: Yes.\\nFollow up: When is the date of birth of Alejo Mancisidor?\\nIntermediate answer: 31 July 1970\\nFollow up: When is the date of birth of Emil Leyde?\\nIntermediate answer: 8 January 1879\\nSo the final answer is: Emil Leyde\\nEND\\n\\nFacts:\\nFact #0: The film was written, adapted and directed by Russian-born Arcady Boytler.\\nFact #1: Boytler was born in Moscow, Russia.\\n\\nQuestion: Where was the director of film Heads Or Tails (1937 Film) born?\\nAre follow up questions needed here:\\n\",\n",
       "  'target': 'Yes.\\nFollow up: Who is the director of Águila o sol?\\nIntermediate answer: Arcady Boytler\\nFollow up: What is the place of birth of Arcady Boytler?\\nIntermediate answer: Moscow\\nSo the final answer is: Moscow\\n',\n",
       "  'num_prompt_tokens': 234,\n",
       "  'num_target_tokens': 55,\n",
       "  'num_tokens': 289}]"
      ]
     },
     "execution_count": 27,
     "metadata": {},
     "output_type": "execute_result"
    }
   ],
   "source": [
    "self_ask_dev[:2]"
   ]
  },
  {
   "cell_type": "code",
   "execution_count": 28,
   "metadata": {
    "colab": {
     "base_uri": "https://localhost:8080/"
    },
    "executionInfo": {
     "elapsed": 214,
     "status": "ok",
     "timestamp": 1689818504523,
     "user": {
      "displayName": "Richard Mathews",
      "userId": "15085444626849988348"
     },
     "user_tz": 300
    },
    "id": "AXuZOMfl7tzk",
    "outputId": "71426d98-5b33-4fb6-fa4d-120e1bb285d2"
   },
   "outputs": [
    {
     "name": "stdout",
     "output_type": "stream",
     "text": [
      "Examples:\n",
      "START\n",
      "Question: When was Neva Egan's husband born?\n",
      "Are follow up questions needed here: Yes.\n",
      "Follow up: Who is the spouse of Neva Egan?\n",
      "Intermediate answer: William Allen Egan\n",
      "Follow up: When is the date of birth of William Allen Egan?\n",
      "Intermediate answer: October 8, 1914\n",
      "So the final answer is: October 8, 1914\n",
      "END\n",
      "\n",
      "START\n",
      "Question: Who was born first, Alejo Mancisidor or Emil Leyde?\n",
      "Are follow up questions needed here: Yes.\n",
      "Follow up: When is the date of birth of Alejo Mancisidor?\n",
      "Intermediate answer: 31 July 1970\n",
      "Follow up: When is the date of birth of Emil Leyde?\n",
      "Intermediate answer: 8 January 1879\n",
      "So the final answer is: Emil Leyde\n",
      "END\n",
      "\n",
      "Facts:\n",
      "Fact #0: Éric Deflandre( born 2 August 1973 in Rocourt) is a former Belgian football right fullback.\n",
      "Fact #1: Polly Swann( born 5 June 1988) is a British rower and a member of the Great Britain Rowing Team.\n",
      "\n",
      "Question: Who was born earlier, Polly Swann or Éric Deflandre?\n",
      "Are follow up questions needed here:\n",
      "\n",
      "Yes.\n",
      "Follow up: When is the date of birth of Éric Deflandre?\n",
      "Intermediate answer: 2 August 1973\n",
      "Follow up: When is the date of birth of Polly Swann?\n",
      "Intermediate answer: 5 June 1988\n",
      "So the final answer is: Éric Deflandre\n",
      "\n"
     ]
    }
   ],
   "source": [
    "print(self_ask_dev[0][\"prompt\"])\n",
    "print(self_ask_dev[0][\"target\"])"
   ]
  },
  {
   "cell_type": "code",
   "execution_count": 29,
   "metadata": {
    "id": "Ub0uP4Oj7tzk"
   },
   "outputs": [],
   "source": [
    "del self_ask_dev"
   ]
  },
  {
   "cell_type": "markdown",
   "metadata": {
    "id": "3NjEzK96f5UG"
   },
   "source": [
    "## Test Set: Direct Prompting (no examplars)"
   ]
  },
  {
   "cell_type": "code",
   "execution_count": 30,
   "metadata": {
    "colab": {
     "base_uri": "https://localhost:8080/",
     "height": 349
    },
    "executionInfo": {
     "elapsed": 936,
     "status": "ok",
     "timestamp": 1690052069414,
     "user": {
      "displayName": "Richard Mathews",
      "userId": "15085444626849988348"
     },
     "user_tz": 300
    },
    "id": "kFQ97AMm59R-",
    "outputId": "93bd6a86-76f5-4bc0-8303-776b3761c00b"
   },
   "outputs": [
    {
     "name": "stderr",
     "output_type": "stream",
     "text": [
      "Extracting token counts for direct-test split: 100%|███████████████████████████████| 12576/12576 [00:00<00:00, 2691751.74it/s]\n"
     ]
    },
    {
     "data": {
      "text/html": [
       "<div>\n",
       "<style scoped>\n",
       "    .dataframe tbody tr th:only-of-type {\n",
       "        vertical-align: middle;\n",
       "    }\n",
       "\n",
       "    .dataframe tbody tr th {\n",
       "        vertical-align: top;\n",
       "    }\n",
       "\n",
       "    .dataframe thead th {\n",
       "        text-align: right;\n",
       "    }\n",
       "</style>\n",
       "<table border=\"1\" class=\"dataframe\">\n",
       "  <thead>\n",
       "    <tr style=\"text-align: right;\">\n",
       "      <th></th>\n",
       "      <th>prompt_token_counts</th>\n",
       "      <th>target_token_counts</th>\n",
       "      <th>total_token_counts</th>\n",
       "    </tr>\n",
       "  </thead>\n",
       "  <tbody>\n",
       "    <tr>\n",
       "      <th>count</th>\n",
       "      <td>12576.00</td>\n",
       "      <td>12576.00</td>\n",
       "      <td>12576.00</td>\n",
       "    </tr>\n",
       "    <tr>\n",
       "      <th>mean</th>\n",
       "      <td>122.59</td>\n",
       "      <td>4.49</td>\n",
       "      <td>127.08</td>\n",
       "    </tr>\n",
       "    <tr>\n",
       "      <th>std</th>\n",
       "      <td>42.33</td>\n",
       "      <td>3.26</td>\n",
       "      <td>43.07</td>\n",
       "    </tr>\n",
       "    <tr>\n",
       "      <th>min</th>\n",
       "      <td>44.00</td>\n",
       "      <td>1.00</td>\n",
       "      <td>48.00</td>\n",
       "    </tr>\n",
       "    <tr>\n",
       "      <th>25%</th>\n",
       "      <td>91.00</td>\n",
       "      <td>2.00</td>\n",
       "      <td>95.00</td>\n",
       "    </tr>\n",
       "    <tr>\n",
       "      <th>50%</th>\n",
       "      <td>111.00</td>\n",
       "      <td>4.00</td>\n",
       "      <td>115.00</td>\n",
       "    </tr>\n",
       "    <tr>\n",
       "      <th>75%</th>\n",
       "      <td>147.00</td>\n",
       "      <td>6.00</td>\n",
       "      <td>152.00</td>\n",
       "    </tr>\n",
       "    <tr>\n",
       "      <th>max</th>\n",
       "      <td>353.00</td>\n",
       "      <td>36.00</td>\n",
       "      <td>355.00</td>\n",
       "    </tr>\n",
       "    <tr>\n",
       "      <th>sum</th>\n",
       "      <td>1541736.00</td>\n",
       "      <td>56452.00</td>\n",
       "      <td>1598188.00</td>\n",
       "    </tr>\n",
       "  </tbody>\n",
       "</table>\n",
       "</div>"
      ],
      "text/plain": [
       "       prompt_token_counts  target_token_counts  total_token_counts\n",
       "count             12576.00             12576.00            12576.00\n",
       "mean                122.59                 4.49              127.08\n",
       "std                  42.33                 3.26               43.07\n",
       "min                  44.00                 1.00               48.00\n",
       "25%                  91.00                 2.00               95.00\n",
       "50%                 111.00                 4.00              115.00\n",
       "75%                 147.00                 6.00              152.00\n",
       "max                 353.00                36.00              355.00\n",
       "sum             1541736.00             56452.00          1598188.00"
      ]
     },
     "execution_count": 30,
     "metadata": {},
     "output_type": "execute_result"
    }
   ],
   "source": [
    "direct_test_counts = extract_token_counts(\"direct\", \"test\", examplars=False)\n",
    "direct_test_stats = summarize_token_counts(direct_test_counts)\n",
    "direct_test_stats"
   ]
  },
  {
   "cell_type": "code",
   "execution_count": 31,
   "metadata": {
    "executionInfo": {
     "elapsed": 236,
     "status": "ok",
     "timestamp": 1690052094680,
     "user": {
      "displayName": "Richard Mathews",
      "userId": "15085444626849988348"
     },
     "user_tz": 300
    },
    "id": "WPyFRzS0f5UG"
   },
   "outputs": [],
   "source": [
    "with open(\"data/MultihopEvaluation/direct-without-examplars.json\", \"r\") as f:\n",
    "    test = json.load(f)"
   ]
  },
  {
   "cell_type": "code",
   "execution_count": 34,
   "metadata": {},
   "outputs": [
    {
     "data": {
      "text/plain": [
       "{'prompt': 'Facts:\\nFact #0: (Wojna polsko-ruska) is a 2009 Polish film directed by Xawery Żuławski based on the novel Polish-Russian War under the white-red flag by Dorota Masłowska.\\nFact #1: He is the son of actress Małgorzata Braunek and director Andrzej Żuławski.\\n\\nQuestion: Who is the mother of the director of film Polish-Russian War (Film)?\\nAnswer:',\n",
       " 'target': 'Małgorzata Braunek',\n",
       " 'answer': 'Małgorzata Braunek',\n",
       " 'num_prompt_tokens': 122,\n",
       " 'num_target_tokens': 10,\n",
       " 'num_tokens': 132}"
      ]
     },
     "execution_count": 34,
     "metadata": {},
     "output_type": "execute_result"
    }
   ],
   "source": [
    "test[0]"
   ]
  },
  {
   "cell_type": "code",
   "execution_count": 32,
   "metadata": {
    "colab": {
     "base_uri": "https://localhost:8080/"
    },
    "executionInfo": {
     "elapsed": 206,
     "status": "ok",
     "timestamp": 1690052096442,
     "user": {
      "displayName": "Richard Mathews",
      "userId": "15085444626849988348"
     },
     "user_tz": 300
    },
    "id": "F2io749ff5UG",
    "outputId": "bb9fa48b-c58c-47ec-8d05-b8d475567895"
   },
   "outputs": [
    {
     "name": "stdout",
     "output_type": "stream",
     "text": [
      "Facts:\n",
      "Fact #0: (Wojna polsko-ruska) is a 2009 Polish film directed by Xawery Żuławski based on the novel Polish-Russian War under the white-red flag by Dorota Masłowska.\n",
      "Fact #1: He is the son of actress Małgorzata Braunek and director Andrzej Żuławski.\n",
      "\n",
      "Question: Who is the mother of the director of film Polish-Russian War (Film)?\n",
      "Answer:\n",
      "------------------\n",
      "Małgorzata Braunek\n",
      "------------------\n",
      "Małgorzata Braunek\n"
     ]
    }
   ],
   "source": [
    "print(test[0][\"prompt\"])\n",
    "print(\"------------------\")\n",
    "print(test[0][\"target\"])\n",
    "print(\"------------------\")\n",
    "print(test[0][\"answer\"])"
   ]
  },
  {
   "cell_type": "markdown",
   "metadata": {
    "id": "3cDvcULgf5UG"
   },
   "source": [
    "## Test Set: Self-Ask"
   ]
  },
  {
   "cell_type": "markdown",
   "metadata": {
    "id": "oBvkjg_z8N0-"
   },
   "source": [
    "### With Examplars"
   ]
  },
  {
   "cell_type": "code",
   "execution_count": 7,
   "metadata": {
    "colab": {
     "base_uri": "https://localhost:8080/",
     "height": 349
    },
    "executionInfo": {
     "elapsed": 972,
     "status": "ok",
     "timestamp": 1690052106455,
     "user": {
      "displayName": "Richard Mathews",
      "userId": "15085444626849988348"
     },
     "user_tz": 300
    },
    "id": "h1bJ8v8C6xcY",
    "outputId": "3ec42074-1bde-4e88-e0a1-5e73d03244b6"
   },
   "outputs": [
    {
     "name": "stderr",
     "output_type": "stream",
     "text": [
      "Extracting token counts for self-ask-test split: 100%|██████████| 12576/12576 [00:00<00:00, 1086973.58it/s]\n"
     ]
    },
    {
     "data": {
      "text/html": [
       "\n",
       "\n",
       "  <div id=\"df-e8ae8a47-56d5-4eb8-be8e-25c7ea050ef5\">\n",
       "    <div class=\"colab-df-container\">\n",
       "      <div>\n",
       "<style scoped>\n",
       "    .dataframe tbody tr th:only-of-type {\n",
       "        vertical-align: middle;\n",
       "    }\n",
       "\n",
       "    .dataframe tbody tr th {\n",
       "        vertical-align: top;\n",
       "    }\n",
       "\n",
       "    .dataframe thead th {\n",
       "        text-align: right;\n",
       "    }\n",
       "</style>\n",
       "<table border=\"1\" class=\"dataframe\">\n",
       "  <thead>\n",
       "    <tr style=\"text-align: right;\">\n",
       "      <th></th>\n",
       "      <th>prompt_token_counts</th>\n",
       "      <th>target_token_counts</th>\n",
       "      <th>total_token_counts</th>\n",
       "    </tr>\n",
       "  </thead>\n",
       "  <tbody>\n",
       "    <tr>\n",
       "      <th>count</th>\n",
       "      <td>12576.00</td>\n",
       "      <td>12576.00</td>\n",
       "      <td>12576.00</td>\n",
       "    </tr>\n",
       "    <tr>\n",
       "      <th>mean</th>\n",
       "      <td>296.59</td>\n",
       "      <td>69.02</td>\n",
       "      <td>365.61</td>\n",
       "    </tr>\n",
       "    <tr>\n",
       "      <th>std</th>\n",
       "      <td>42.33</td>\n",
       "      <td>21.42</td>\n",
       "      <td>59.82</td>\n",
       "    </tr>\n",
       "    <tr>\n",
       "      <th>min</th>\n",
       "      <td>218.00</td>\n",
       "      <td>39.00</td>\n",
       "      <td>266.00</td>\n",
       "    </tr>\n",
       "    <tr>\n",
       "      <th>25%</th>\n",
       "      <td>265.00</td>\n",
       "      <td>53.00</td>\n",
       "      <td>321.00</td>\n",
       "    </tr>\n",
       "    <tr>\n",
       "      <th>50%</th>\n",
       "      <td>285.00</td>\n",
       "      <td>60.00</td>\n",
       "      <td>346.00</td>\n",
       "    </tr>\n",
       "    <tr>\n",
       "      <th>75%</th>\n",
       "      <td>321.00</td>\n",
       "      <td>86.00</td>\n",
       "      <td>403.00</td>\n",
       "    </tr>\n",
       "    <tr>\n",
       "      <th>max</th>\n",
       "      <td>527.00</td>\n",
       "      <td>171.00</td>\n",
       "      <td>632.00</td>\n",
       "    </tr>\n",
       "    <tr>\n",
       "      <th>sum</th>\n",
       "      <td>3729960.00</td>\n",
       "      <td>867989.00</td>\n",
       "      <td>4597949.00</td>\n",
       "    </tr>\n",
       "  </tbody>\n",
       "</table>\n",
       "</div>\n",
       "      <button class=\"colab-df-convert\" onclick=\"convertToInteractive('df-e8ae8a47-56d5-4eb8-be8e-25c7ea050ef5')\"\n",
       "              title=\"Convert this dataframe to an interactive table.\"\n",
       "              style=\"display:none;\">\n",
       "\n",
       "  <svg xmlns=\"http://www.w3.org/2000/svg\" height=\"24px\"viewBox=\"0 0 24 24\"\n",
       "       width=\"24px\">\n",
       "    <path d=\"M0 0h24v24H0V0z\" fill=\"none\"/>\n",
       "    <path d=\"M18.56 5.44l.94 2.06.94-2.06 2.06-.94-2.06-.94-.94-2.06-.94 2.06-2.06.94zm-11 1L8.5 8.5l.94-2.06 2.06-.94-2.06-.94L8.5 2.5l-.94 2.06-2.06.94zm10 10l.94 2.06.94-2.06 2.06-.94-2.06-.94-.94-2.06-.94 2.06-2.06.94z\"/><path d=\"M17.41 7.96l-1.37-1.37c-.4-.4-.92-.59-1.43-.59-.52 0-1.04.2-1.43.59L10.3 9.45l-7.72 7.72c-.78.78-.78 2.05 0 2.83L4 21.41c.39.39.9.59 1.41.59.51 0 1.02-.2 1.41-.59l7.78-7.78 2.81-2.81c.8-.78.8-2.07 0-2.86zM5.41 20L4 18.59l7.72-7.72 1.47 1.35L5.41 20z\"/>\n",
       "  </svg>\n",
       "      </button>\n",
       "\n",
       "\n",
       "\n",
       "    <div id=\"df-680b6abe-4239-46af-bf9b-6f9de627d72e\">\n",
       "      <button class=\"colab-df-quickchart\" onclick=\"quickchart('df-680b6abe-4239-46af-bf9b-6f9de627d72e')\"\n",
       "              title=\"Suggest charts.\"\n",
       "              style=\"display:none;\">\n",
       "\n",
       "<svg xmlns=\"http://www.w3.org/2000/svg\" height=\"24px\"viewBox=\"0 0 24 24\"\n",
       "     width=\"24px\">\n",
       "    <g>\n",
       "        <path d=\"M19 3H5c-1.1 0-2 .9-2 2v14c0 1.1.9 2 2 2h14c1.1 0 2-.9 2-2V5c0-1.1-.9-2-2-2zM9 17H7v-7h2v7zm4 0h-2V7h2v10zm4 0h-2v-4h2v4z\"/>\n",
       "    </g>\n",
       "</svg>\n",
       "      </button>\n",
       "    </div>\n",
       "\n",
       "<style>\n",
       "  .colab-df-quickchart {\n",
       "    background-color: #E8F0FE;\n",
       "    border: none;\n",
       "    border-radius: 50%;\n",
       "    cursor: pointer;\n",
       "    display: none;\n",
       "    fill: #1967D2;\n",
       "    height: 32px;\n",
       "    padding: 0 0 0 0;\n",
       "    width: 32px;\n",
       "  }\n",
       "\n",
       "  .colab-df-quickchart:hover {\n",
       "    background-color: #E2EBFA;\n",
       "    box-shadow: 0px 1px 2px rgba(60, 64, 67, 0.3), 0px 1px 3px 1px rgba(60, 64, 67, 0.15);\n",
       "    fill: #174EA6;\n",
       "  }\n",
       "\n",
       "  [theme=dark] .colab-df-quickchart {\n",
       "    background-color: #3B4455;\n",
       "    fill: #D2E3FC;\n",
       "  }\n",
       "\n",
       "  [theme=dark] .colab-df-quickchart:hover {\n",
       "    background-color: #434B5C;\n",
       "    box-shadow: 0px 1px 3px 1px rgba(0, 0, 0, 0.15);\n",
       "    filter: drop-shadow(0px 1px 2px rgba(0, 0, 0, 0.3));\n",
       "    fill: #FFFFFF;\n",
       "  }\n",
       "</style>\n",
       "\n",
       "    <script>\n",
       "      async function quickchart(key) {\n",
       "        const containerElement = document.querySelector('#' + key);\n",
       "        const charts = await google.colab.kernel.invokeFunction(\n",
       "            'suggestCharts', [key], {});\n",
       "      }\n",
       "    </script>\n",
       "\n",
       "      <script>\n",
       "\n",
       "function displayQuickchartButton(domScope) {\n",
       "  let quickchartButtonEl =\n",
       "    domScope.querySelector('#df-680b6abe-4239-46af-bf9b-6f9de627d72e button.colab-df-quickchart');\n",
       "  quickchartButtonEl.style.display =\n",
       "    google.colab.kernel.accessAllowed ? 'block' : 'none';\n",
       "}\n",
       "\n",
       "        displayQuickchartButton(document);\n",
       "      </script>\n",
       "      <style>\n",
       "    .colab-df-container {\n",
       "      display:flex;\n",
       "      flex-wrap:wrap;\n",
       "      gap: 12px;\n",
       "    }\n",
       "\n",
       "    .colab-df-convert {\n",
       "      background-color: #E8F0FE;\n",
       "      border: none;\n",
       "      border-radius: 50%;\n",
       "      cursor: pointer;\n",
       "      display: none;\n",
       "      fill: #1967D2;\n",
       "      height: 32px;\n",
       "      padding: 0 0 0 0;\n",
       "      width: 32px;\n",
       "    }\n",
       "\n",
       "    .colab-df-convert:hover {\n",
       "      background-color: #E2EBFA;\n",
       "      box-shadow: 0px 1px 2px rgba(60, 64, 67, 0.3), 0px 1px 3px 1px rgba(60, 64, 67, 0.15);\n",
       "      fill: #174EA6;\n",
       "    }\n",
       "\n",
       "    [theme=dark] .colab-df-convert {\n",
       "      background-color: #3B4455;\n",
       "      fill: #D2E3FC;\n",
       "    }\n",
       "\n",
       "    [theme=dark] .colab-df-convert:hover {\n",
       "      background-color: #434B5C;\n",
       "      box-shadow: 0px 1px 3px 1px rgba(0, 0, 0, 0.15);\n",
       "      filter: drop-shadow(0px 1px 2px rgba(0, 0, 0, 0.3));\n",
       "      fill: #FFFFFF;\n",
       "    }\n",
       "  </style>\n",
       "\n",
       "      <script>\n",
       "        const buttonEl =\n",
       "          document.querySelector('#df-e8ae8a47-56d5-4eb8-be8e-25c7ea050ef5 button.colab-df-convert');\n",
       "        buttonEl.style.display =\n",
       "          google.colab.kernel.accessAllowed ? 'block' : 'none';\n",
       "\n",
       "        async function convertToInteractive(key) {\n",
       "          const element = document.querySelector('#df-e8ae8a47-56d5-4eb8-be8e-25c7ea050ef5');\n",
       "          const dataTable =\n",
       "            await google.colab.kernel.invokeFunction('convertToInteractive',\n",
       "                                                     [key], {});\n",
       "          if (!dataTable) return;\n",
       "\n",
       "          const docLinkHtml = 'Like what you see? Visit the ' +\n",
       "            '<a target=\"_blank\" href=https://colab.research.google.com/notebooks/data_table.ipynb>data table notebook</a>'\n",
       "            + ' to learn more about interactive tables.';\n",
       "          element.innerHTML = '';\n",
       "          dataTable['output_type'] = 'display_data';\n",
       "          await google.colab.output.renderOutput(dataTable, element);\n",
       "          const docLink = document.createElement('div');\n",
       "          docLink.innerHTML = docLinkHtml;\n",
       "          element.appendChild(docLink);\n",
       "        }\n",
       "      </script>\n",
       "    </div>\n",
       "  </div>\n"
      ],
      "text/plain": [
       "       prompt_token_counts  target_token_counts  total_token_counts\n",
       "count             12576.00             12576.00            12576.00\n",
       "mean                296.59                69.02              365.61\n",
       "std                  42.33                21.42               59.82\n",
       "min                 218.00                39.00              266.00\n",
       "25%                 265.00                53.00              321.00\n",
       "50%                 285.00                60.00              346.00\n",
       "75%                 321.00                86.00              403.00\n",
       "max                 527.00               171.00              632.00\n",
       "sum             3729960.00            867989.00          4597949.00"
      ]
     },
     "execution_count": 7,
     "metadata": {},
     "output_type": "execute_result"
    }
   ],
   "source": [
    "self_ask_test_counts = extract_token_counts(\"self-ask\", \"test\", examplars=True)\n",
    "self_ask_test_stats = summarize_token_counts(self_ask_test_counts)\n",
    "self_ask_test_stats"
   ]
  },
  {
   "cell_type": "code",
   "execution_count": 8,
   "metadata": {
    "executionInfo": {
     "elapsed": 584,
     "status": "ok",
     "timestamp": 1690052121736,
     "user": {
      "displayName": "Richard Mathews",
      "userId": "15085444626849988348"
     },
     "user_tz": 300
    },
    "id": "n3d1nNa4f5UG"
   },
   "outputs": [],
   "source": [
    "with open(\"data/MultihopEvaluation/self-ask-with-examplars.json\", \"r\") as f:\n",
    "    test = json.load(f)"
   ]
  },
  {
   "cell_type": "code",
   "execution_count": 9,
   "metadata": {
    "colab": {
     "base_uri": "https://localhost:8080/"
    },
    "executionInfo": {
     "elapsed": 229,
     "status": "ok",
     "timestamp": 1690052122683,
     "user": {
      "displayName": "Richard Mathews",
      "userId": "15085444626849988348"
     },
     "user_tz": 300
    },
    "id": "c-SMgVj-f5UH",
    "outputId": "31e835bc-cfd8-495d-dd9d-750bf5c0ae99"
   },
   "outputs": [
    {
     "name": "stdout",
     "output_type": "stream",
     "text": [
      "Examples:\n",
      "START\n",
      "Question: When was Neva Egan's husband born?\n",
      "Are follow up questions needed here: Yes.\n",
      "Follow up: Who is the spouse of Neva Egan?\n",
      "Intermediate answer: William Allen Egan\n",
      "Follow up: When is the date of birth of William Allen Egan?\n",
      "Intermediate answer: October 8, 1914\n",
      "So the final answer is: October 8, 1914\n",
      "END\n",
      "\n",
      "START\n",
      "Question: Who was born first, Alejo Mancisidor or Emil Leyde?\n",
      "Are follow up questions needed here: Yes.\n",
      "Follow up: When is the date of birth of Alejo Mancisidor?\n",
      "Intermediate answer: 31 July 1970\n",
      "Follow up: When is the date of birth of Emil Leyde?\n",
      "Intermediate answer: 8 January 1879\n",
      "So the final answer is: Emil Leyde\n",
      "END\n",
      "\n",
      "Facts:\n",
      "Fact #0: (Wojna polsko-ruska) is a 2009 Polish film directed by Xawery Żuławski based on the novel Polish-Russian War under the white-red flag by Dorota Masłowska.\n",
      "Fact #1: He is the son of actress Małgorzata Braunek and director Andrzej Żuławski.\n",
      "\n",
      "Question: Who is the mother of the director of film Polish-Russian War (Film)?\n",
      "Are follow up questions needed here:\n",
      "\n",
      "------------------\n",
      "Yes.\n",
      "Follow up: Who is the director of Polish-Russian War?\n",
      "Intermediate answer: Xawery Żuławski\n",
      "Follow up: Who is the mother of Xawery Żuławski?\n",
      "Intermediate answer: Małgorzata Braunek\n",
      "So the final answer is: Małgorzata Braunek\n",
      "\n",
      "------------------\n",
      "Małgorzata Braunek\n"
     ]
    }
   ],
   "source": [
    "print(test[0][\"prompt\"])\n",
    "print(\"------------------\")\n",
    "print(test[0][\"target\"])\n",
    "print(\"------------------\")\n",
    "print(test[0][\"answer\"])"
   ]
  },
  {
   "cell_type": "markdown",
   "metadata": {
    "id": "_y5zOlcI8Kpg"
   },
   "source": [
    "### Without Examplars"
   ]
  },
  {
   "cell_type": "code",
   "execution_count": 10,
   "metadata": {
    "colab": {
     "base_uri": "https://localhost:8080/",
     "height": 349
    },
    "executionInfo": {
     "elapsed": 1413,
     "status": "ok",
     "timestamp": 1690052131093,
     "user": {
      "displayName": "Richard Mathews",
      "userId": "15085444626849988348"
     },
     "user_tz": 300
    },
    "id": "C3NCuUTU4zlE",
    "outputId": "46f27983-eaf9-459f-83db-9532d72f3149"
   },
   "outputs": [
    {
     "name": "stderr",
     "output_type": "stream",
     "text": [
      "Extracting token counts for self-ask-test split: 100%|██████████| 12576/12576 [00:00<00:00, 1180484.01it/s]\n"
     ]
    },
    {
     "data": {
      "text/html": [
       "\n",
       "\n",
       "  <div id=\"df-9f0b0d1c-cb3a-4a33-88e0-437efadf91b1\">\n",
       "    <div class=\"colab-df-container\">\n",
       "      <div>\n",
       "<style scoped>\n",
       "    .dataframe tbody tr th:only-of-type {\n",
       "        vertical-align: middle;\n",
       "    }\n",
       "\n",
       "    .dataframe tbody tr th {\n",
       "        vertical-align: top;\n",
       "    }\n",
       "\n",
       "    .dataframe thead th {\n",
       "        text-align: right;\n",
       "    }\n",
       "</style>\n",
       "<table border=\"1\" class=\"dataframe\">\n",
       "  <thead>\n",
       "    <tr style=\"text-align: right;\">\n",
       "      <th></th>\n",
       "      <th>prompt_token_counts</th>\n",
       "      <th>target_token_counts</th>\n",
       "      <th>total_token_counts</th>\n",
       "    </tr>\n",
       "  </thead>\n",
       "  <tbody>\n",
       "    <tr>\n",
       "      <th>count</th>\n",
       "      <td>12576.00</td>\n",
       "      <td>12576.00</td>\n",
       "      <td>12576.00</td>\n",
       "    </tr>\n",
       "    <tr>\n",
       "      <th>mean</th>\n",
       "      <td>127.59</td>\n",
       "      <td>69.02</td>\n",
       "      <td>196.61</td>\n",
       "    </tr>\n",
       "    <tr>\n",
       "      <th>std</th>\n",
       "      <td>42.33</td>\n",
       "      <td>21.42</td>\n",
       "      <td>59.82</td>\n",
       "    </tr>\n",
       "    <tr>\n",
       "      <th>min</th>\n",
       "      <td>49.00</td>\n",
       "      <td>39.00</td>\n",
       "      <td>97.00</td>\n",
       "    </tr>\n",
       "    <tr>\n",
       "      <th>25%</th>\n",
       "      <td>96.00</td>\n",
       "      <td>53.00</td>\n",
       "      <td>152.00</td>\n",
       "    </tr>\n",
       "    <tr>\n",
       "      <th>50%</th>\n",
       "      <td>116.00</td>\n",
       "      <td>60.00</td>\n",
       "      <td>177.00</td>\n",
       "    </tr>\n",
       "    <tr>\n",
       "      <th>75%</th>\n",
       "      <td>152.00</td>\n",
       "      <td>86.00</td>\n",
       "      <td>234.00</td>\n",
       "    </tr>\n",
       "    <tr>\n",
       "      <th>max</th>\n",
       "      <td>358.00</td>\n",
       "      <td>171.00</td>\n",
       "      <td>463.00</td>\n",
       "    </tr>\n",
       "    <tr>\n",
       "      <th>sum</th>\n",
       "      <td>1604616.00</td>\n",
       "      <td>867989.00</td>\n",
       "      <td>2472605.00</td>\n",
       "    </tr>\n",
       "  </tbody>\n",
       "</table>\n",
       "</div>\n",
       "      <button class=\"colab-df-convert\" onclick=\"convertToInteractive('df-9f0b0d1c-cb3a-4a33-88e0-437efadf91b1')\"\n",
       "              title=\"Convert this dataframe to an interactive table.\"\n",
       "              style=\"display:none;\">\n",
       "\n",
       "  <svg xmlns=\"http://www.w3.org/2000/svg\" height=\"24px\"viewBox=\"0 0 24 24\"\n",
       "       width=\"24px\">\n",
       "    <path d=\"M0 0h24v24H0V0z\" fill=\"none\"/>\n",
       "    <path d=\"M18.56 5.44l.94 2.06.94-2.06 2.06-.94-2.06-.94-.94-2.06-.94 2.06-2.06.94zm-11 1L8.5 8.5l.94-2.06 2.06-.94-2.06-.94L8.5 2.5l-.94 2.06-2.06.94zm10 10l.94 2.06.94-2.06 2.06-.94-2.06-.94-.94-2.06-.94 2.06-2.06.94z\"/><path d=\"M17.41 7.96l-1.37-1.37c-.4-.4-.92-.59-1.43-.59-.52 0-1.04.2-1.43.59L10.3 9.45l-7.72 7.72c-.78.78-.78 2.05 0 2.83L4 21.41c.39.39.9.59 1.41.59.51 0 1.02-.2 1.41-.59l7.78-7.78 2.81-2.81c.8-.78.8-2.07 0-2.86zM5.41 20L4 18.59l7.72-7.72 1.47 1.35L5.41 20z\"/>\n",
       "  </svg>\n",
       "      </button>\n",
       "\n",
       "\n",
       "\n",
       "    <div id=\"df-79369075-67a8-4d2a-8329-4d3f0ace319a\">\n",
       "      <button class=\"colab-df-quickchart\" onclick=\"quickchart('df-79369075-67a8-4d2a-8329-4d3f0ace319a')\"\n",
       "              title=\"Suggest charts.\"\n",
       "              style=\"display:none;\">\n",
       "\n",
       "<svg xmlns=\"http://www.w3.org/2000/svg\" height=\"24px\"viewBox=\"0 0 24 24\"\n",
       "     width=\"24px\">\n",
       "    <g>\n",
       "        <path d=\"M19 3H5c-1.1 0-2 .9-2 2v14c0 1.1.9 2 2 2h14c1.1 0 2-.9 2-2V5c0-1.1-.9-2-2-2zM9 17H7v-7h2v7zm4 0h-2V7h2v10zm4 0h-2v-4h2v4z\"/>\n",
       "    </g>\n",
       "</svg>\n",
       "      </button>\n",
       "    </div>\n",
       "\n",
       "<style>\n",
       "  .colab-df-quickchart {\n",
       "    background-color: #E8F0FE;\n",
       "    border: none;\n",
       "    border-radius: 50%;\n",
       "    cursor: pointer;\n",
       "    display: none;\n",
       "    fill: #1967D2;\n",
       "    height: 32px;\n",
       "    padding: 0 0 0 0;\n",
       "    width: 32px;\n",
       "  }\n",
       "\n",
       "  .colab-df-quickchart:hover {\n",
       "    background-color: #E2EBFA;\n",
       "    box-shadow: 0px 1px 2px rgba(60, 64, 67, 0.3), 0px 1px 3px 1px rgba(60, 64, 67, 0.15);\n",
       "    fill: #174EA6;\n",
       "  }\n",
       "\n",
       "  [theme=dark] .colab-df-quickchart {\n",
       "    background-color: #3B4455;\n",
       "    fill: #D2E3FC;\n",
       "  }\n",
       "\n",
       "  [theme=dark] .colab-df-quickchart:hover {\n",
       "    background-color: #434B5C;\n",
       "    box-shadow: 0px 1px 3px 1px rgba(0, 0, 0, 0.15);\n",
       "    filter: drop-shadow(0px 1px 2px rgba(0, 0, 0, 0.3));\n",
       "    fill: #FFFFFF;\n",
       "  }\n",
       "</style>\n",
       "\n",
       "    <script>\n",
       "      async function quickchart(key) {\n",
       "        const containerElement = document.querySelector('#' + key);\n",
       "        const charts = await google.colab.kernel.invokeFunction(\n",
       "            'suggestCharts', [key], {});\n",
       "      }\n",
       "    </script>\n",
       "\n",
       "      <script>\n",
       "\n",
       "function displayQuickchartButton(domScope) {\n",
       "  let quickchartButtonEl =\n",
       "    domScope.querySelector('#df-79369075-67a8-4d2a-8329-4d3f0ace319a button.colab-df-quickchart');\n",
       "  quickchartButtonEl.style.display =\n",
       "    google.colab.kernel.accessAllowed ? 'block' : 'none';\n",
       "}\n",
       "\n",
       "        displayQuickchartButton(document);\n",
       "      </script>\n",
       "      <style>\n",
       "    .colab-df-container {\n",
       "      display:flex;\n",
       "      flex-wrap:wrap;\n",
       "      gap: 12px;\n",
       "    }\n",
       "\n",
       "    .colab-df-convert {\n",
       "      background-color: #E8F0FE;\n",
       "      border: none;\n",
       "      border-radius: 50%;\n",
       "      cursor: pointer;\n",
       "      display: none;\n",
       "      fill: #1967D2;\n",
       "      height: 32px;\n",
       "      padding: 0 0 0 0;\n",
       "      width: 32px;\n",
       "    }\n",
       "\n",
       "    .colab-df-convert:hover {\n",
       "      background-color: #E2EBFA;\n",
       "      box-shadow: 0px 1px 2px rgba(60, 64, 67, 0.3), 0px 1px 3px 1px rgba(60, 64, 67, 0.15);\n",
       "      fill: #174EA6;\n",
       "    }\n",
       "\n",
       "    [theme=dark] .colab-df-convert {\n",
       "      background-color: #3B4455;\n",
       "      fill: #D2E3FC;\n",
       "    }\n",
       "\n",
       "    [theme=dark] .colab-df-convert:hover {\n",
       "      background-color: #434B5C;\n",
       "      box-shadow: 0px 1px 3px 1px rgba(0, 0, 0, 0.15);\n",
       "      filter: drop-shadow(0px 1px 2px rgba(0, 0, 0, 0.3));\n",
       "      fill: #FFFFFF;\n",
       "    }\n",
       "  </style>\n",
       "\n",
       "      <script>\n",
       "        const buttonEl =\n",
       "          document.querySelector('#df-9f0b0d1c-cb3a-4a33-88e0-437efadf91b1 button.colab-df-convert');\n",
       "        buttonEl.style.display =\n",
       "          google.colab.kernel.accessAllowed ? 'block' : 'none';\n",
       "\n",
       "        async function convertToInteractive(key) {\n",
       "          const element = document.querySelector('#df-9f0b0d1c-cb3a-4a33-88e0-437efadf91b1');\n",
       "          const dataTable =\n",
       "            await google.colab.kernel.invokeFunction('convertToInteractive',\n",
       "                                                     [key], {});\n",
       "          if (!dataTable) return;\n",
       "\n",
       "          const docLinkHtml = 'Like what you see? Visit the ' +\n",
       "            '<a target=\"_blank\" href=https://colab.research.google.com/notebooks/data_table.ipynb>data table notebook</a>'\n",
       "            + ' to learn more about interactive tables.';\n",
       "          element.innerHTML = '';\n",
       "          dataTable['output_type'] = 'display_data';\n",
       "          await google.colab.output.renderOutput(dataTable, element);\n",
       "          const docLink = document.createElement('div');\n",
       "          docLink.innerHTML = docLinkHtml;\n",
       "          element.appendChild(docLink);\n",
       "        }\n",
       "      </script>\n",
       "    </div>\n",
       "  </div>\n"
      ],
      "text/plain": [
       "       prompt_token_counts  target_token_counts  total_token_counts\n",
       "count             12576.00             12576.00            12576.00\n",
       "mean                127.59                69.02              196.61\n",
       "std                  42.33                21.42               59.82\n",
       "min                  49.00                39.00               97.00\n",
       "25%                  96.00                53.00              152.00\n",
       "50%                 116.00                60.00              177.00\n",
       "75%                 152.00                86.00              234.00\n",
       "max                 358.00               171.00              463.00\n",
       "sum             1604616.00            867989.00          2472605.00"
      ]
     },
     "execution_count": 10,
     "metadata": {},
     "output_type": "execute_result"
    }
   ],
   "source": [
    "self_ask_test_counts = extract_token_counts(\"self-ask\", \"test\", examplars=False)\n",
    "self_ask_test_stats = summarize_token_counts(self_ask_test_counts)\n",
    "self_ask_test_stats"
   ]
  },
  {
   "cell_type": "code",
   "execution_count": 11,
   "metadata": {
    "executionInfo": {
     "elapsed": 199,
     "status": "ok",
     "timestamp": 1690052142780,
     "user": {
      "displayName": "Richard Mathews",
      "userId": "15085444626849988348"
     },
     "user_tz": 300
    },
    "id": "FIPN0Zn62yXQ"
   },
   "outputs": [],
   "source": [
    "with open(\"data/MultihopEvaluation/self-ask-without-examplars.json\", \"r\") as f:\n",
    "    test = json.load(f)"
   ]
  },
  {
   "cell_type": "code",
   "execution_count": 12,
   "metadata": {
    "colab": {
     "base_uri": "https://localhost:8080/"
    },
    "executionInfo": {
     "elapsed": 3,
     "status": "ok",
     "timestamp": 1690052143661,
     "user": {
      "displayName": "Richard Mathews",
      "userId": "15085444626849988348"
     },
     "user_tz": 300
    },
    "id": "fOTP8zeW2yXZ",
    "outputId": "f64229c2-f4f4-4ea1-ab42-1a84668d20f4"
   },
   "outputs": [
    {
     "name": "stdout",
     "output_type": "stream",
     "text": [
      "Facts:\n",
      "Fact #0: (Wojna polsko-ruska) is a 2009 Polish film directed by Xawery Żuławski based on the novel Polish-Russian War under the white-red flag by Dorota Masłowska.\n",
      "Fact #1: He is the son of actress Małgorzata Braunek and director Andrzej Żuławski.\n",
      "\n",
      "Question: Who is the mother of the director of film Polish-Russian War (Film)?\n",
      "Are follow up questions needed here:\n",
      "\n",
      "------------------\n",
      "Yes.\n",
      "Follow up: Who is the director of Polish-Russian War?\n",
      "Intermediate answer: Xawery Żuławski\n",
      "Follow up: Who is the mother of Xawery Żuławski?\n",
      "Intermediate answer: Małgorzata Braunek\n",
      "So the final answer is: Małgorzata Braunek\n",
      "\n",
      "------------------\n",
      "Małgorzata Braunek\n"
     ]
    }
   ],
   "source": [
    "print(test[0][\"prompt\"])\n",
    "print(\"------------------\")\n",
    "print(test[0][\"target\"])\n",
    "print(\"------------------\")\n",
    "print(test[0][\"answer\"])"
   ]
  },
  {
   "cell_type": "markdown",
   "metadata": {
    "id": "0xyvi6Ijf5UH"
   },
   "source": [
    "## Test Set: Baseline"
   ]
  },
  {
   "cell_type": "markdown",
   "metadata": {
    "id": "l40Ggdua79eO"
   },
   "source": [
    "### With Examplars"
   ]
  },
  {
   "cell_type": "code",
   "execution_count": 13,
   "metadata": {
    "colab": {
     "base_uri": "https://localhost:8080/",
     "height": 349
    },
    "executionInfo": {
     "elapsed": 1173,
     "status": "ok",
     "timestamp": 1690052154033,
     "user": {
      "displayName": "Richard Mathews",
      "userId": "15085444626849988348"
     },
     "user_tz": 300
    },
    "id": "knhOVFS-6_pW",
    "outputId": "abfee143-9036-45cf-8537-0d5825cc8c30"
   },
   "outputs": [
    {
     "name": "stderr",
     "output_type": "stream",
     "text": [
      "Extracting token counts for baseline-test split: 100%|██████████| 12576/12576 [00:00<00:00, 623412.64it/s]\n"
     ]
    },
    {
     "data": {
      "text/html": [
       "\n",
       "\n",
       "  <div id=\"df-f17e39a7-d7d9-4811-8652-a7bfe4f0320a\">\n",
       "    <div class=\"colab-df-container\">\n",
       "      <div>\n",
       "<style scoped>\n",
       "    .dataframe tbody tr th:only-of-type {\n",
       "        vertical-align: middle;\n",
       "    }\n",
       "\n",
       "    .dataframe tbody tr th {\n",
       "        vertical-align: top;\n",
       "    }\n",
       "\n",
       "    .dataframe thead th {\n",
       "        text-align: right;\n",
       "    }\n",
       "</style>\n",
       "<table border=\"1\" class=\"dataframe\">\n",
       "  <thead>\n",
       "    <tr style=\"text-align: right;\">\n",
       "      <th></th>\n",
       "      <th>prompt_token_counts</th>\n",
       "      <th>target_token_counts</th>\n",
       "      <th>total_token_counts</th>\n",
       "    </tr>\n",
       "  </thead>\n",
       "  <tbody>\n",
       "    <tr>\n",
       "      <th>count</th>\n",
       "      <td>12576.00</td>\n",
       "      <td>12576.00</td>\n",
       "      <td>12576.00</td>\n",
       "    </tr>\n",
       "    <tr>\n",
       "      <th>mean</th>\n",
       "      <td>280.27</td>\n",
       "      <td>69.02</td>\n",
       "      <td>349.29</td>\n",
       "    </tr>\n",
       "    <tr>\n",
       "      <th>std</th>\n",
       "      <td>40.49</td>\n",
       "      <td>21.42</td>\n",
       "      <td>57.78</td>\n",
       "    </tr>\n",
       "    <tr>\n",
       "      <th>min</th>\n",
       "      <td>203.00</td>\n",
       "      <td>39.00</td>\n",
       "      <td>251.00</td>\n",
       "    </tr>\n",
       "    <tr>\n",
       "      <th>25%</th>\n",
       "      <td>250.00</td>\n",
       "      <td>53.00</td>\n",
       "      <td>306.00</td>\n",
       "    </tr>\n",
       "    <tr>\n",
       "      <th>50%</th>\n",
       "      <td>270.00</td>\n",
       "      <td>60.00</td>\n",
       "      <td>331.00</td>\n",
       "    </tr>\n",
       "    <tr>\n",
       "      <th>75%</th>\n",
       "      <td>304.00</td>\n",
       "      <td>86.00</td>\n",
       "      <td>386.00</td>\n",
       "    </tr>\n",
       "    <tr>\n",
       "      <th>max</th>\n",
       "      <td>506.00</td>\n",
       "      <td>171.00</td>\n",
       "      <td>611.00</td>\n",
       "    </tr>\n",
       "    <tr>\n",
       "      <th>sum</th>\n",
       "      <td>3524714.00</td>\n",
       "      <td>867989.00</td>\n",
       "      <td>4392703.00</td>\n",
       "    </tr>\n",
       "  </tbody>\n",
       "</table>\n",
       "</div>\n",
       "      <button class=\"colab-df-convert\" onclick=\"convertToInteractive('df-f17e39a7-d7d9-4811-8652-a7bfe4f0320a')\"\n",
       "              title=\"Convert this dataframe to an interactive table.\"\n",
       "              style=\"display:none;\">\n",
       "\n",
       "  <svg xmlns=\"http://www.w3.org/2000/svg\" height=\"24px\"viewBox=\"0 0 24 24\"\n",
       "       width=\"24px\">\n",
       "    <path d=\"M0 0h24v24H0V0z\" fill=\"none\"/>\n",
       "    <path d=\"M18.56 5.44l.94 2.06.94-2.06 2.06-.94-2.06-.94-.94-2.06-.94 2.06-2.06.94zm-11 1L8.5 8.5l.94-2.06 2.06-.94-2.06-.94L8.5 2.5l-.94 2.06-2.06.94zm10 10l.94 2.06.94-2.06 2.06-.94-2.06-.94-.94-2.06-.94 2.06-2.06.94z\"/><path d=\"M17.41 7.96l-1.37-1.37c-.4-.4-.92-.59-1.43-.59-.52 0-1.04.2-1.43.59L10.3 9.45l-7.72 7.72c-.78.78-.78 2.05 0 2.83L4 21.41c.39.39.9.59 1.41.59.51 0 1.02-.2 1.41-.59l7.78-7.78 2.81-2.81c.8-.78.8-2.07 0-2.86zM5.41 20L4 18.59l7.72-7.72 1.47 1.35L5.41 20z\"/>\n",
       "  </svg>\n",
       "      </button>\n",
       "\n",
       "\n",
       "\n",
       "    <div id=\"df-c91224b4-867a-4050-8791-fba47c295b0a\">\n",
       "      <button class=\"colab-df-quickchart\" onclick=\"quickchart('df-c91224b4-867a-4050-8791-fba47c295b0a')\"\n",
       "              title=\"Suggest charts.\"\n",
       "              style=\"display:none;\">\n",
       "\n",
       "<svg xmlns=\"http://www.w3.org/2000/svg\" height=\"24px\"viewBox=\"0 0 24 24\"\n",
       "     width=\"24px\">\n",
       "    <g>\n",
       "        <path d=\"M19 3H5c-1.1 0-2 .9-2 2v14c0 1.1.9 2 2 2h14c1.1 0 2-.9 2-2V5c0-1.1-.9-2-2-2zM9 17H7v-7h2v7zm4 0h-2V7h2v10zm4 0h-2v-4h2v4z\"/>\n",
       "    </g>\n",
       "</svg>\n",
       "      </button>\n",
       "    </div>\n",
       "\n",
       "<style>\n",
       "  .colab-df-quickchart {\n",
       "    background-color: #E8F0FE;\n",
       "    border: none;\n",
       "    border-radius: 50%;\n",
       "    cursor: pointer;\n",
       "    display: none;\n",
       "    fill: #1967D2;\n",
       "    height: 32px;\n",
       "    padding: 0 0 0 0;\n",
       "    width: 32px;\n",
       "  }\n",
       "\n",
       "  .colab-df-quickchart:hover {\n",
       "    background-color: #E2EBFA;\n",
       "    box-shadow: 0px 1px 2px rgba(60, 64, 67, 0.3), 0px 1px 3px 1px rgba(60, 64, 67, 0.15);\n",
       "    fill: #174EA6;\n",
       "  }\n",
       "\n",
       "  [theme=dark] .colab-df-quickchart {\n",
       "    background-color: #3B4455;\n",
       "    fill: #D2E3FC;\n",
       "  }\n",
       "\n",
       "  [theme=dark] .colab-df-quickchart:hover {\n",
       "    background-color: #434B5C;\n",
       "    box-shadow: 0px 1px 3px 1px rgba(0, 0, 0, 0.15);\n",
       "    filter: drop-shadow(0px 1px 2px rgba(0, 0, 0, 0.3));\n",
       "    fill: #FFFFFF;\n",
       "  }\n",
       "</style>\n",
       "\n",
       "    <script>\n",
       "      async function quickchart(key) {\n",
       "        const containerElement = document.querySelector('#' + key);\n",
       "        const charts = await google.colab.kernel.invokeFunction(\n",
       "            'suggestCharts', [key], {});\n",
       "      }\n",
       "    </script>\n",
       "\n",
       "      <script>\n",
       "\n",
       "function displayQuickchartButton(domScope) {\n",
       "  let quickchartButtonEl =\n",
       "    domScope.querySelector('#df-c91224b4-867a-4050-8791-fba47c295b0a button.colab-df-quickchart');\n",
       "  quickchartButtonEl.style.display =\n",
       "    google.colab.kernel.accessAllowed ? 'block' : 'none';\n",
       "}\n",
       "\n",
       "        displayQuickchartButton(document);\n",
       "      </script>\n",
       "      <style>\n",
       "    .colab-df-container {\n",
       "      display:flex;\n",
       "      flex-wrap:wrap;\n",
       "      gap: 12px;\n",
       "    }\n",
       "\n",
       "    .colab-df-convert {\n",
       "      background-color: #E8F0FE;\n",
       "      border: none;\n",
       "      border-radius: 50%;\n",
       "      cursor: pointer;\n",
       "      display: none;\n",
       "      fill: #1967D2;\n",
       "      height: 32px;\n",
       "      padding: 0 0 0 0;\n",
       "      width: 32px;\n",
       "    }\n",
       "\n",
       "    .colab-df-convert:hover {\n",
       "      background-color: #E2EBFA;\n",
       "      box-shadow: 0px 1px 2px rgba(60, 64, 67, 0.3), 0px 1px 3px 1px rgba(60, 64, 67, 0.15);\n",
       "      fill: #174EA6;\n",
       "    }\n",
       "\n",
       "    [theme=dark] .colab-df-convert {\n",
       "      background-color: #3B4455;\n",
       "      fill: #D2E3FC;\n",
       "    }\n",
       "\n",
       "    [theme=dark] .colab-df-convert:hover {\n",
       "      background-color: #434B5C;\n",
       "      box-shadow: 0px 1px 3px 1px rgba(0, 0, 0, 0.15);\n",
       "      filter: drop-shadow(0px 1px 2px rgba(0, 0, 0, 0.3));\n",
       "      fill: #FFFFFF;\n",
       "    }\n",
       "  </style>\n",
       "\n",
       "      <script>\n",
       "        const buttonEl =\n",
       "          document.querySelector('#df-f17e39a7-d7d9-4811-8652-a7bfe4f0320a button.colab-df-convert');\n",
       "        buttonEl.style.display =\n",
       "          google.colab.kernel.accessAllowed ? 'block' : 'none';\n",
       "\n",
       "        async function convertToInteractive(key) {\n",
       "          const element = document.querySelector('#df-f17e39a7-d7d9-4811-8652-a7bfe4f0320a');\n",
       "          const dataTable =\n",
       "            await google.colab.kernel.invokeFunction('convertToInteractive',\n",
       "                                                     [key], {});\n",
       "          if (!dataTable) return;\n",
       "\n",
       "          const docLinkHtml = 'Like what you see? Visit the ' +\n",
       "            '<a target=\"_blank\" href=https://colab.research.google.com/notebooks/data_table.ipynb>data table notebook</a>'\n",
       "            + ' to learn more about interactive tables.';\n",
       "          element.innerHTML = '';\n",
       "          dataTable['output_type'] = 'display_data';\n",
       "          await google.colab.output.renderOutput(dataTable, element);\n",
       "          const docLink = document.createElement('div');\n",
       "          docLink.innerHTML = docLinkHtml;\n",
       "          element.appendChild(docLink);\n",
       "        }\n",
       "      </script>\n",
       "    </div>\n",
       "  </div>\n"
      ],
      "text/plain": [
       "       prompt_token_counts  target_token_counts  total_token_counts\n",
       "count             12576.00             12576.00            12576.00\n",
       "mean                280.27                69.02              349.29\n",
       "std                  40.49                21.42               57.78\n",
       "min                 203.00                39.00              251.00\n",
       "25%                 250.00                53.00              306.00\n",
       "50%                 270.00                60.00              331.00\n",
       "75%                 304.00                86.00              386.00\n",
       "max                 506.00               171.00              611.00\n",
       "sum             3524714.00            867989.00          4392703.00"
      ]
     },
     "execution_count": 13,
     "metadata": {},
     "output_type": "execute_result"
    }
   ],
   "source": [
    "squad_test_counts = extract_token_counts(\"baseline\", \"test\", examplars=True)\n",
    "squad_test_stats = summarize_token_counts(squad_test_counts)\n",
    "squad_test_stats"
   ]
  },
  {
   "cell_type": "code",
   "execution_count": 14,
   "metadata": {
    "executionInfo": {
     "elapsed": 214,
     "status": "ok",
     "timestamp": 1690052161153,
     "user": {
      "displayName": "Richard Mathews",
      "userId": "15085444626849988348"
     },
     "user_tz": 300
    },
    "id": "7wRg4Zvsf5UH"
   },
   "outputs": [],
   "source": [
    "with open(\"data/MultihopEvaluation/baseline-with-examplars.json\", \"r\") as f:\n",
    "    test = json.load(f)"
   ]
  },
  {
   "cell_type": "code",
   "execution_count": 15,
   "metadata": {
    "colab": {
     "base_uri": "https://localhost:8080/"
    },
    "executionInfo": {
     "elapsed": 2,
     "status": "ok",
     "timestamp": 1690052162008,
     "user": {
      "displayName": "Richard Mathews",
      "userId": "15085444626849988348"
     },
     "user_tz": 300
    },
    "id": "_8iEEgh-f5UH",
    "outputId": "82b74006-f849-4b8d-f6ba-17a6a562d64a"
   },
   "outputs": [
    {
     "name": "stdout",
     "output_type": "stream",
     "text": [
      "Examples:\n",
      "START\n",
      "Question: When was Neva Egan's husband born?\n",
      "Are follow up questions needed here: Yes.\n",
      "Follow up: Who is the spouse of Neva Egan?\n",
      "Intermediate answer: William Allen Egan\n",
      "Follow up: When is the date of birth of William Allen Egan?\n",
      "Intermediate answer: October 8, 1914\n",
      "So the final answer is: October 8, 1914\n",
      "END\n",
      "\n",
      "START\n",
      "Question: Who was born first, Alejo Mancisidor or Emil Leyde?\n",
      "Are follow up questions needed here: Yes.\n",
      "Follow up: When is the date of birth of Alejo Mancisidor?\n",
      "Intermediate answer: 31 July 1970\n",
      "Follow up: When is the date of birth of Emil Leyde?\n",
      "Intermediate answer: 8 January 1879\n",
      "So the final answer is: Emil Leyde\n",
      "END\n",
      "\n",
      "question: Who is the mother of the director of film Polish-Russian War (Film)? context: (Wojna polsko-ruska) is a 2009 Polish film directed by Xawery Żuławski based on the novel Polish-Russian War under the white-red flag by Dorota Masłowska. He is the son of actress Małgorzata Braunek and director Andrzej Żuławski.\n",
      "------------------\n",
      "Yes.\n",
      "Follow up: Who is the director of Polish-Russian War?\n",
      "Intermediate answer: Xawery Żuławski\n",
      "Follow up: Who is the mother of Xawery Żuławski?\n",
      "Intermediate answer: Małgorzata Braunek\n",
      "So the final answer is: Małgorzata Braunek\n",
      "\n",
      "------------------\n",
      "Małgorzata Braunek\n"
     ]
    }
   ],
   "source": [
    "print(test[0][\"prompt\"])\n",
    "print(\"------------------\")\n",
    "print(test[0][\"target\"])\n",
    "print(\"------------------\")\n",
    "print(test[0][\"answer\"])"
   ]
  },
  {
   "cell_type": "markdown",
   "metadata": {
    "id": "SKTG0dDV8EEd"
   },
   "source": [
    "### Without Examplars"
   ]
  },
  {
   "cell_type": "code",
   "execution_count": 16,
   "metadata": {
    "colab": {
     "base_uri": "https://localhost:8080/",
     "height": 349
    },
    "executionInfo": {
     "elapsed": 1072,
     "status": "ok",
     "timestamp": 1690052168506,
     "user": {
      "displayName": "Richard Mathews",
      "userId": "15085444626849988348"
     },
     "user_tz": 300
    },
    "id": "odJEtM_j48_u",
    "outputId": "df747983-f625-4873-f630-8044e8d87d60"
   },
   "outputs": [
    {
     "name": "stderr",
     "output_type": "stream",
     "text": [
      "Extracting token counts for baseline-test split: 100%|██████████| 12576/12576 [00:00<00:00, 522253.14it/s]\n"
     ]
    },
    {
     "data": {
      "text/html": [
       "\n",
       "\n",
       "  <div id=\"df-41046bde-1a58-49d1-b8fc-34fe9c3ffaf5\">\n",
       "    <div class=\"colab-df-container\">\n",
       "      <div>\n",
       "<style scoped>\n",
       "    .dataframe tbody tr th:only-of-type {\n",
       "        vertical-align: middle;\n",
       "    }\n",
       "\n",
       "    .dataframe tbody tr th {\n",
       "        vertical-align: top;\n",
       "    }\n",
       "\n",
       "    .dataframe thead th {\n",
       "        text-align: right;\n",
       "    }\n",
       "</style>\n",
       "<table border=\"1\" class=\"dataframe\">\n",
       "  <thead>\n",
       "    <tr style=\"text-align: right;\">\n",
       "      <th></th>\n",
       "      <th>prompt_token_counts</th>\n",
       "      <th>target_token_counts</th>\n",
       "      <th>total_token_counts</th>\n",
       "    </tr>\n",
       "  </thead>\n",
       "  <tbody>\n",
       "    <tr>\n",
       "      <th>count</th>\n",
       "      <td>12576.00</td>\n",
       "      <td>12576.00</td>\n",
       "      <td>12576.00</td>\n",
       "    </tr>\n",
       "    <tr>\n",
       "      <th>mean</th>\n",
       "      <td>111.27</td>\n",
       "      <td>4.49</td>\n",
       "      <td>115.76</td>\n",
       "    </tr>\n",
       "    <tr>\n",
       "      <th>std</th>\n",
       "      <td>40.49</td>\n",
       "      <td>3.26</td>\n",
       "      <td>41.23</td>\n",
       "    </tr>\n",
       "    <tr>\n",
       "      <th>min</th>\n",
       "      <td>34.00</td>\n",
       "      <td>1.00</td>\n",
       "      <td>38.00</td>\n",
       "    </tr>\n",
       "    <tr>\n",
       "      <th>25%</th>\n",
       "      <td>81.00</td>\n",
       "      <td>2.00</td>\n",
       "      <td>85.00</td>\n",
       "    </tr>\n",
       "    <tr>\n",
       "      <th>50%</th>\n",
       "      <td>101.00</td>\n",
       "      <td>4.00</td>\n",
       "      <td>105.00</td>\n",
       "    </tr>\n",
       "    <tr>\n",
       "      <th>75%</th>\n",
       "      <td>135.00</td>\n",
       "      <td>6.00</td>\n",
       "      <td>140.00</td>\n",
       "    </tr>\n",
       "    <tr>\n",
       "      <th>max</th>\n",
       "      <td>337.00</td>\n",
       "      <td>36.00</td>\n",
       "      <td>339.00</td>\n",
       "    </tr>\n",
       "    <tr>\n",
       "      <th>sum</th>\n",
       "      <td>1399370.00</td>\n",
       "      <td>56452.00</td>\n",
       "      <td>1455822.00</td>\n",
       "    </tr>\n",
       "  </tbody>\n",
       "</table>\n",
       "</div>\n",
       "      <button class=\"colab-df-convert\" onclick=\"convertToInteractive('df-41046bde-1a58-49d1-b8fc-34fe9c3ffaf5')\"\n",
       "              title=\"Convert this dataframe to an interactive table.\"\n",
       "              style=\"display:none;\">\n",
       "\n",
       "  <svg xmlns=\"http://www.w3.org/2000/svg\" height=\"24px\"viewBox=\"0 0 24 24\"\n",
       "       width=\"24px\">\n",
       "    <path d=\"M0 0h24v24H0V0z\" fill=\"none\"/>\n",
       "    <path d=\"M18.56 5.44l.94 2.06.94-2.06 2.06-.94-2.06-.94-.94-2.06-.94 2.06-2.06.94zm-11 1L8.5 8.5l.94-2.06 2.06-.94-2.06-.94L8.5 2.5l-.94 2.06-2.06.94zm10 10l.94 2.06.94-2.06 2.06-.94-2.06-.94-.94-2.06-.94 2.06-2.06.94z\"/><path d=\"M17.41 7.96l-1.37-1.37c-.4-.4-.92-.59-1.43-.59-.52 0-1.04.2-1.43.59L10.3 9.45l-7.72 7.72c-.78.78-.78 2.05 0 2.83L4 21.41c.39.39.9.59 1.41.59.51 0 1.02-.2 1.41-.59l7.78-7.78 2.81-2.81c.8-.78.8-2.07 0-2.86zM5.41 20L4 18.59l7.72-7.72 1.47 1.35L5.41 20z\"/>\n",
       "  </svg>\n",
       "      </button>\n",
       "\n",
       "\n",
       "\n",
       "    <div id=\"df-447ee596-39b6-43a6-9dd2-cefb978bb11f\">\n",
       "      <button class=\"colab-df-quickchart\" onclick=\"quickchart('df-447ee596-39b6-43a6-9dd2-cefb978bb11f')\"\n",
       "              title=\"Suggest charts.\"\n",
       "              style=\"display:none;\">\n",
       "\n",
       "<svg xmlns=\"http://www.w3.org/2000/svg\" height=\"24px\"viewBox=\"0 0 24 24\"\n",
       "     width=\"24px\">\n",
       "    <g>\n",
       "        <path d=\"M19 3H5c-1.1 0-2 .9-2 2v14c0 1.1.9 2 2 2h14c1.1 0 2-.9 2-2V5c0-1.1-.9-2-2-2zM9 17H7v-7h2v7zm4 0h-2V7h2v10zm4 0h-2v-4h2v4z\"/>\n",
       "    </g>\n",
       "</svg>\n",
       "      </button>\n",
       "    </div>\n",
       "\n",
       "<style>\n",
       "  .colab-df-quickchart {\n",
       "    background-color: #E8F0FE;\n",
       "    border: none;\n",
       "    border-radius: 50%;\n",
       "    cursor: pointer;\n",
       "    display: none;\n",
       "    fill: #1967D2;\n",
       "    height: 32px;\n",
       "    padding: 0 0 0 0;\n",
       "    width: 32px;\n",
       "  }\n",
       "\n",
       "  .colab-df-quickchart:hover {\n",
       "    background-color: #E2EBFA;\n",
       "    box-shadow: 0px 1px 2px rgba(60, 64, 67, 0.3), 0px 1px 3px 1px rgba(60, 64, 67, 0.15);\n",
       "    fill: #174EA6;\n",
       "  }\n",
       "\n",
       "  [theme=dark] .colab-df-quickchart {\n",
       "    background-color: #3B4455;\n",
       "    fill: #D2E3FC;\n",
       "  }\n",
       "\n",
       "  [theme=dark] .colab-df-quickchart:hover {\n",
       "    background-color: #434B5C;\n",
       "    box-shadow: 0px 1px 3px 1px rgba(0, 0, 0, 0.15);\n",
       "    filter: drop-shadow(0px 1px 2px rgba(0, 0, 0, 0.3));\n",
       "    fill: #FFFFFF;\n",
       "  }\n",
       "</style>\n",
       "\n",
       "    <script>\n",
       "      async function quickchart(key) {\n",
       "        const containerElement = document.querySelector('#' + key);\n",
       "        const charts = await google.colab.kernel.invokeFunction(\n",
       "            'suggestCharts', [key], {});\n",
       "      }\n",
       "    </script>\n",
       "\n",
       "      <script>\n",
       "\n",
       "function displayQuickchartButton(domScope) {\n",
       "  let quickchartButtonEl =\n",
       "    domScope.querySelector('#df-447ee596-39b6-43a6-9dd2-cefb978bb11f button.colab-df-quickchart');\n",
       "  quickchartButtonEl.style.display =\n",
       "    google.colab.kernel.accessAllowed ? 'block' : 'none';\n",
       "}\n",
       "\n",
       "        displayQuickchartButton(document);\n",
       "      </script>\n",
       "      <style>\n",
       "    .colab-df-container {\n",
       "      display:flex;\n",
       "      flex-wrap:wrap;\n",
       "      gap: 12px;\n",
       "    }\n",
       "\n",
       "    .colab-df-convert {\n",
       "      background-color: #E8F0FE;\n",
       "      border: none;\n",
       "      border-radius: 50%;\n",
       "      cursor: pointer;\n",
       "      display: none;\n",
       "      fill: #1967D2;\n",
       "      height: 32px;\n",
       "      padding: 0 0 0 0;\n",
       "      width: 32px;\n",
       "    }\n",
       "\n",
       "    .colab-df-convert:hover {\n",
       "      background-color: #E2EBFA;\n",
       "      box-shadow: 0px 1px 2px rgba(60, 64, 67, 0.3), 0px 1px 3px 1px rgba(60, 64, 67, 0.15);\n",
       "      fill: #174EA6;\n",
       "    }\n",
       "\n",
       "    [theme=dark] .colab-df-convert {\n",
       "      background-color: #3B4455;\n",
       "      fill: #D2E3FC;\n",
       "    }\n",
       "\n",
       "    [theme=dark] .colab-df-convert:hover {\n",
       "      background-color: #434B5C;\n",
       "      box-shadow: 0px 1px 3px 1px rgba(0, 0, 0, 0.15);\n",
       "      filter: drop-shadow(0px 1px 2px rgba(0, 0, 0, 0.3));\n",
       "      fill: #FFFFFF;\n",
       "    }\n",
       "  </style>\n",
       "\n",
       "      <script>\n",
       "        const buttonEl =\n",
       "          document.querySelector('#df-41046bde-1a58-49d1-b8fc-34fe9c3ffaf5 button.colab-df-convert');\n",
       "        buttonEl.style.display =\n",
       "          google.colab.kernel.accessAllowed ? 'block' : 'none';\n",
       "\n",
       "        async function convertToInteractive(key) {\n",
       "          const element = document.querySelector('#df-41046bde-1a58-49d1-b8fc-34fe9c3ffaf5');\n",
       "          const dataTable =\n",
       "            await google.colab.kernel.invokeFunction('convertToInteractive',\n",
       "                                                     [key], {});\n",
       "          if (!dataTable) return;\n",
       "\n",
       "          const docLinkHtml = 'Like what you see? Visit the ' +\n",
       "            '<a target=\"_blank\" href=https://colab.research.google.com/notebooks/data_table.ipynb>data table notebook</a>'\n",
       "            + ' to learn more about interactive tables.';\n",
       "          element.innerHTML = '';\n",
       "          dataTable['output_type'] = 'display_data';\n",
       "          await google.colab.output.renderOutput(dataTable, element);\n",
       "          const docLink = document.createElement('div');\n",
       "          docLink.innerHTML = docLinkHtml;\n",
       "          element.appendChild(docLink);\n",
       "        }\n",
       "      </script>\n",
       "    </div>\n",
       "  </div>\n"
      ],
      "text/plain": [
       "       prompt_token_counts  target_token_counts  total_token_counts\n",
       "count             12576.00             12576.00            12576.00\n",
       "mean                111.27                 4.49              115.76\n",
       "std                  40.49                 3.26               41.23\n",
       "min                  34.00                 1.00               38.00\n",
       "25%                  81.00                 2.00               85.00\n",
       "50%                 101.00                 4.00              105.00\n",
       "75%                 135.00                 6.00              140.00\n",
       "max                 337.00                36.00              339.00\n",
       "sum             1399370.00             56452.00          1455822.00"
      ]
     },
     "execution_count": 16,
     "metadata": {},
     "output_type": "execute_result"
    }
   ],
   "source": [
    "squad_test_counts = extract_token_counts(\"baseline\", \"test\", examplars=False)\n",
    "squad_test_stats = summarize_token_counts(squad_test_counts)\n",
    "squad_test_stats"
   ]
  },
  {
   "cell_type": "code",
   "execution_count": 17,
   "metadata": {
    "executionInfo": {
     "elapsed": 226,
     "status": "ok",
     "timestamp": 1690052172158,
     "user": {
      "displayName": "Richard Mathews",
      "userId": "15085444626849988348"
     },
     "user_tz": 300
    },
    "id": "Ff5BJJGw24yc"
   },
   "outputs": [],
   "source": [
    "with open(\"data/MultihopEvaluation/baseline-without-examplars.json\", \"r\") as f:\n",
    "    test = json.load(f)"
   ]
  },
  {
   "cell_type": "code",
   "execution_count": 18,
   "metadata": {
    "colab": {
     "base_uri": "https://localhost:8080/"
    },
    "executionInfo": {
     "elapsed": 202,
     "status": "ok",
     "timestamp": 1690052175894,
     "user": {
      "displayName": "Richard Mathews",
      "userId": "15085444626849988348"
     },
     "user_tz": 300
    },
    "id": "Ppfh7-hW24yk",
    "outputId": "670fde9e-4094-4a17-e430-5df8fcb0b594"
   },
   "outputs": [
    {
     "name": "stdout",
     "output_type": "stream",
     "text": [
      "question: Who is the mother of the director of film Polish-Russian War (Film)? context: (Wojna polsko-ruska) is a 2009 Polish film directed by Xawery Żuławski based on the novel Polish-Russian War under the white-red flag by Dorota Masłowska. He is the son of actress Małgorzata Braunek and director Andrzej Żuławski.\n",
      "------------------\n",
      "Małgorzata Braunek\n",
      "------------------\n",
      "Małgorzata Braunek\n"
     ]
    }
   ],
   "source": [
    "print(test[0][\"prompt\"])\n",
    "print(\"------------------\")\n",
    "print(test[0][\"target\"])\n",
    "print(\"------------------\")\n",
    "print(test[0][\"answer\"])"
   ]
  }
 ],
 "metadata": {
  "colab": {
   "provenance": [],
   "toc_visible": true
  },
  "kernelspec": {
   "display_name": "Python 3 (ipykernel)",
   "language": "python",
   "name": "python3"
  },
  "language_info": {
   "codemirror_mode": {
    "name": "ipython",
    "version": 3
   },
   "file_extension": ".py",
   "mimetype": "text/x-python",
   "name": "python",
   "nbconvert_exporter": "python",
   "pygments_lexer": "ipython3",
   "version": "3.11.4"
  }
 },
 "nbformat": 4,
 "nbformat_minor": 4
}
