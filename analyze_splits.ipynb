{
 "cells": [
  {
   "attachments": {},
   "cell_type": "markdown",
   "metadata": {},
   "source": [
    "Purpose: analyze the splits for direct prompt datasets and self ask prompt datasets"
   ]
  },
  {
   "cell_type": "code",
   "execution_count": 5,
   "metadata": {},
   "outputs": [],
   "source": [
    "import json\n",
    "from token_stats import extract_token_counts, summarize_token_counts"
   ]
  },
  {
   "cell_type": "code",
   "execution_count": 6,
   "metadata": {},
   "outputs": [],
   "source": [
    "path = \"data/2WikiMultihopQA/\""
   ]
  },
  {
   "attachments": {},
   "cell_type": "markdown",
   "metadata": {},
   "source": [
    "## Train Set: Direct Prompting"
   ]
  },
  {
   "cell_type": "code",
   "execution_count": 3,
   "metadata": {},
   "outputs": [
    {
     "data": {
      "text/html": [
       "<div>\n",
       "<style scoped>\n",
       "    .dataframe tbody tr th:only-of-type {\n",
       "        vertical-align: middle;\n",
       "    }\n",
       "\n",
       "    .dataframe tbody tr th {\n",
       "        vertical-align: top;\n",
       "    }\n",
       "\n",
       "    .dataframe thead th {\n",
       "        text-align: right;\n",
       "    }\n",
       "</style>\n",
       "<table border=\"1\" class=\"dataframe\">\n",
       "  <thead>\n",
       "    <tr style=\"text-align: right;\">\n",
       "      <th></th>\n",
       "      <th>prompt_token_counts</th>\n",
       "      <th>target_token_counts</th>\n",
       "      <th>total_token_counts</th>\n",
       "    </tr>\n",
       "  </thead>\n",
       "  <tbody>\n",
       "    <tr>\n",
       "      <th>count</th>\n",
       "      <td>5.00</td>\n",
       "      <td>5.00</td>\n",
       "      <td>5.00</td>\n",
       "    </tr>\n",
       "    <tr>\n",
       "      <th>mean</th>\n",
       "      <td>153.80</td>\n",
       "      <td>2.20</td>\n",
       "      <td>156.00</td>\n",
       "    </tr>\n",
       "    <tr>\n",
       "      <th>std</th>\n",
       "      <td>71.64</td>\n",
       "      <td>1.79</td>\n",
       "      <td>70.74</td>\n",
       "    </tr>\n",
       "    <tr>\n",
       "      <th>min</th>\n",
       "      <td>78.00</td>\n",
       "      <td>1.00</td>\n",
       "      <td>79.00</td>\n",
       "    </tr>\n",
       "    <tr>\n",
       "      <th>25%</th>\n",
       "      <td>97.00</td>\n",
       "      <td>1.00</td>\n",
       "      <td>102.00</td>\n",
       "    </tr>\n",
       "    <tr>\n",
       "      <th>50%</th>\n",
       "      <td>137.00</td>\n",
       "      <td>1.00</td>\n",
       "      <td>140.00</td>\n",
       "    </tr>\n",
       "    <tr>\n",
       "      <th>75%</th>\n",
       "      <td>221.00</td>\n",
       "      <td>3.00</td>\n",
       "      <td>222.00</td>\n",
       "    </tr>\n",
       "    <tr>\n",
       "      <th>max</th>\n",
       "      <td>236.00</td>\n",
       "      <td>5.00</td>\n",
       "      <td>237.00</td>\n",
       "    </tr>\n",
       "    <tr>\n",
       "      <th>sum</th>\n",
       "      <td>769.00</td>\n",
       "      <td>11.00</td>\n",
       "      <td>780.00</td>\n",
       "    </tr>\n",
       "  </tbody>\n",
       "</table>\n",
       "</div>"
      ],
      "text/plain": [
       "       prompt_token_counts  target_token_counts  total_token_counts\n",
       "count                 5.00                 5.00                5.00\n",
       "mean                153.80                 2.20              156.00\n",
       "std                  71.64                 1.79               70.74\n",
       "min                  78.00                 1.00               79.00\n",
       "25%                  97.00                 1.00              102.00\n",
       "50%                 137.00                 1.00              140.00\n",
       "75%                 221.00                 3.00              222.00\n",
       "max                 236.00                 5.00              237.00\n",
       "sum                 769.00                11.00              780.00"
      ]
     },
     "execution_count": 3,
     "metadata": {},
     "output_type": "execute_result"
    }
   ],
   "source": [
    "direct_train_counts = extract_token_counts(\"direct\", \"train\")\n",
    "direct_train_stats = summarize_token_counts(direct_train_counts)\n",
    "direct_train_stats"
   ]
  },
  {
   "cell_type": "code",
   "execution_count": 5,
   "metadata": {},
   "outputs": [],
   "source": [
    "# open json file for direct prompt training examples\n",
    "with open(path + \"direct_train.json\", \"r\") as f:\n",
    "    direct_train = json.load(f)"
   ]
  },
  {
   "cell_type": "code",
   "execution_count": 6,
   "metadata": {},
   "outputs": [
    {
     "data": {
      "text/plain": [
       "[{'prompt': \"Fact #0: Rhescuporis I (Ancient Greek: Ραισκούπορις) was a king of the Odrysian kingdom of Thrace in 240 BC - 215 BC, succeeding his father, Cotys III.\\nFact #1: 270 BC, succeeding his father, Raizdos.\\n\\nQuestion: Who is Rhescuporis I (Odrysian)'s paternal grandfather?\\nAnswer:\",\n",
       "  'target': 'Raizdos',\n",
       "  'num_prompt_tokens': 97,\n",
       "  'num_target_tokens': 5,\n",
       "  'num_tokens': 102},\n",
       " {'prompt': 'Fact #0: The Fascist  is a 1961 Italian film directed by Luciano Salce.\\nFact #1: Luciano Salce (25 September 1922, in Rome – 17 December 1989, in Rome) was an Italian film director, actor and lyricist.\\n\\nQuestion: Where was the director of film The Fascist born?\\nAnswer:',\n",
       "  'target': 'Rome',\n",
       "  'num_prompt_tokens': 78,\n",
       "  'num_target_tokens': 1,\n",
       "  'num_tokens': 79}]"
      ]
     },
     "execution_count": 6,
     "metadata": {},
     "output_type": "execute_result"
    }
   ],
   "source": [
    "direct_train[:2]"
   ]
  },
  {
   "cell_type": "code",
   "execution_count": 7,
   "metadata": {},
   "outputs": [
    {
     "name": "stdout",
     "output_type": "stream",
     "text": [
      "Fact #0: Rhescuporis I (Ancient Greek: Ραισκούπορις) was a king of the Odrysian kingdom of Thrace in 240 BC - 215 BC, succeeding his father, Cotys III.\n",
      "Fact #1: 270 BC, succeeding his father, Raizdos.\n",
      "\n",
      "Question: Who is Rhescuporis I (Odrysian)'s paternal grandfather?\n",
      "Answer:\n",
      "Raizdos\n"
     ]
    }
   ],
   "source": [
    "print(direct_train[0][\"prompt\"])\n",
    "print(direct_train[0][\"target\"])"
   ]
  },
  {
   "cell_type": "code",
   "execution_count": null,
   "metadata": {},
   "outputs": [],
   "source": [
    "del direct_train"
   ]
  },
  {
   "attachments": {},
   "cell_type": "markdown",
   "metadata": {},
   "source": [
    "## Dev Set: Direct Prompting"
   ]
  },
  {
   "cell_type": "code",
   "execution_count": 9,
   "metadata": {},
   "outputs": [
    {
     "data": {
      "text/html": [
       "<div>\n",
       "<style scoped>\n",
       "    .dataframe tbody tr th:only-of-type {\n",
       "        vertical-align: middle;\n",
       "    }\n",
       "\n",
       "    .dataframe tbody tr th {\n",
       "        vertical-align: top;\n",
       "    }\n",
       "\n",
       "    .dataframe thead th {\n",
       "        text-align: right;\n",
       "    }\n",
       "</style>\n",
       "<table border=\"1\" class=\"dataframe\">\n",
       "  <thead>\n",
       "    <tr style=\"text-align: right;\">\n",
       "      <th></th>\n",
       "      <th>prompt_token_counts</th>\n",
       "      <th>target_token_counts</th>\n",
       "      <th>total_token_counts</th>\n",
       "    </tr>\n",
       "  </thead>\n",
       "  <tbody>\n",
       "    <tr>\n",
       "      <th>count</th>\n",
       "      <td>3.00</td>\n",
       "      <td>3.00</td>\n",
       "      <td>3.00</td>\n",
       "    </tr>\n",
       "    <tr>\n",
       "      <th>mean</th>\n",
       "      <td>128.67</td>\n",
       "      <td>3.33</td>\n",
       "      <td>132.00</td>\n",
       "    </tr>\n",
       "    <tr>\n",
       "      <th>std</th>\n",
       "      <td>45.24</td>\n",
       "      <td>2.52</td>\n",
       "      <td>46.18</td>\n",
       "    </tr>\n",
       "    <tr>\n",
       "      <th>min</th>\n",
       "      <td>78.00</td>\n",
       "      <td>1.00</td>\n",
       "      <td>81.00</td>\n",
       "    </tr>\n",
       "    <tr>\n",
       "      <th>25%</th>\n",
       "      <td>110.50</td>\n",
       "      <td>2.00</td>\n",
       "      <td>112.50</td>\n",
       "    </tr>\n",
       "    <tr>\n",
       "      <th>50%</th>\n",
       "      <td>143.00</td>\n",
       "      <td>3.00</td>\n",
       "      <td>144.00</td>\n",
       "    </tr>\n",
       "    <tr>\n",
       "      <th>75%</th>\n",
       "      <td>154.00</td>\n",
       "      <td>4.50</td>\n",
       "      <td>157.50</td>\n",
       "    </tr>\n",
       "    <tr>\n",
       "      <th>max</th>\n",
       "      <td>165.00</td>\n",
       "      <td>6.00</td>\n",
       "      <td>171.00</td>\n",
       "    </tr>\n",
       "    <tr>\n",
       "      <th>sum</th>\n",
       "      <td>386.00</td>\n",
       "      <td>10.00</td>\n",
       "      <td>396.00</td>\n",
       "    </tr>\n",
       "  </tbody>\n",
       "</table>\n",
       "</div>"
      ],
      "text/plain": [
       "       prompt_token_counts  target_token_counts  total_token_counts\n",
       "count                 3.00                 3.00                3.00\n",
       "mean                128.67                 3.33              132.00\n",
       "std                  45.24                 2.52               46.18\n",
       "min                  78.00                 1.00               81.00\n",
       "25%                 110.50                 2.00              112.50\n",
       "50%                 143.00                 3.00              144.00\n",
       "75%                 154.00                 4.50              157.50\n",
       "max                 165.00                 6.00              171.00\n",
       "sum                 386.00                10.00              396.00"
      ]
     },
     "execution_count": 9,
     "metadata": {},
     "output_type": "execute_result"
    }
   ],
   "source": [
    "direct_dev_counts = extract_token_counts(\"direct\", \"dev\")\n",
    "direct_dev_stats = summarize_token_counts(direct_dev_counts)\n",
    "direct_dev_stats"
   ]
  },
  {
   "cell_type": "code",
   "execution_count": 8,
   "metadata": {},
   "outputs": [],
   "source": [
    "# open json file for direct prompt dev examples\n",
    "with open(path + \"direct_dev.json\", \"r\") as f:\n",
    "    direct_dev = json.load(f)"
   ]
  },
  {
   "cell_type": "code",
   "execution_count": 10,
   "metadata": {},
   "outputs": [
    {
     "data": {
      "text/plain": [
       "[{'prompt': 'Fact #0: This was the last film directed by Stephen Roberts before his untimely death from a heart attack.\\nFact #1: The Star of Santa Clara is a 1958 West German musical comedy film directed by Werner Jacobs and starring Vico Torriani, Gerlinde Locker and Ruth Stephan.\\nFact #2: Stephen Roberts( 23 November 1895 – 17 July 1936) was an American film director.\\nFact #3: Werner Jacobs (1909–1999) was a German film director. .\\n\\nQuestion: Do both films: The Ex-Mrs. Bradford and The Star Of Santa Clara have the directors from the same country?\\nAnswer:',\n",
       "  'target': 'no',\n",
       "  'num_prompt_tokens': 143,\n",
       "  'num_target_tokens': 1,\n",
       "  'num_tokens': 144},\n",
       " {'prompt': \"Fact #0: She is the daughter of Rune Gerhardsen and Tove Strand, and granddaughter of Einar Gerhardsen.\\nFact #1: Rune Gerhardsen (born 13 June 1946) is a Norwegian politician, representing the Norwegian Labour Party.\\n\\nQuestion: What is the date of birth of Mina Gerhardsen's father?\\nAnswer:\",\n",
       "  'target': '13 June 1946',\n",
       "  'num_prompt_tokens': 78,\n",
       "  'num_target_tokens': 3,\n",
       "  'num_tokens': 81}]"
      ]
     },
     "execution_count": 10,
     "metadata": {},
     "output_type": "execute_result"
    }
   ],
   "source": [
    "direct_dev[:2]"
   ]
  },
  {
   "cell_type": "code",
   "execution_count": 11,
   "metadata": {},
   "outputs": [
    {
     "name": "stdout",
     "output_type": "stream",
     "text": [
      "Fact #0: This was the last film directed by Stephen Roberts before his untimely death from a heart attack.\n",
      "Fact #1: The Star of Santa Clara is a 1958 West German musical comedy film directed by Werner Jacobs and starring Vico Torriani, Gerlinde Locker and Ruth Stephan.\n",
      "Fact #2: Stephen Roberts( 23 November 1895 – 17 July 1936) was an American film director.\n",
      "Fact #3: Werner Jacobs (1909–1999) was a German film director. .\n",
      "\n",
      "Question: Do both films: The Ex-Mrs. Bradford and The Star Of Santa Clara have the directors from the same country?\n",
      "Answer:\n",
      "no\n"
     ]
    }
   ],
   "source": [
    "print(direct_dev[0][\"prompt\"])\n",
    "print(direct_dev[0][\"target\"])"
   ]
  },
  {
   "cell_type": "code",
   "execution_count": null,
   "metadata": {},
   "outputs": [],
   "source": [
    "del direct_dev"
   ]
  },
  {
   "attachments": {},
   "cell_type": "markdown",
   "metadata": {},
   "source": [
    "## Train Set: Self-Ask"
   ]
  },
  {
   "cell_type": "code",
   "execution_count": 15,
   "metadata": {},
   "outputs": [
    {
     "data": {
      "text/html": [
       "<div>\n",
       "<style scoped>\n",
       "    .dataframe tbody tr th:only-of-type {\n",
       "        vertical-align: middle;\n",
       "    }\n",
       "\n",
       "    .dataframe tbody tr th {\n",
       "        vertical-align: top;\n",
       "    }\n",
       "\n",
       "    .dataframe thead th {\n",
       "        text-align: right;\n",
       "    }\n",
       "</style>\n",
       "<table border=\"1\" class=\"dataframe\">\n",
       "  <thead>\n",
       "    <tr style=\"text-align: right;\">\n",
       "      <th></th>\n",
       "      <th>prompt_token_counts</th>\n",
       "      <th>target_token_counts</th>\n",
       "      <th>total_token_counts</th>\n",
       "    </tr>\n",
       "  </thead>\n",
       "  <tbody>\n",
       "    <tr>\n",
       "      <th>count</th>\n",
       "      <td>5.00</td>\n",
       "      <td>5.00</td>\n",
       "      <td>5.00</td>\n",
       "    </tr>\n",
       "    <tr>\n",
       "      <th>mean</th>\n",
       "      <td>325.80</td>\n",
       "      <td>78.60</td>\n",
       "      <td>404.40</td>\n",
       "    </tr>\n",
       "    <tr>\n",
       "      <th>std</th>\n",
       "      <td>71.64</td>\n",
       "      <td>30.35</td>\n",
       "      <td>101.37</td>\n",
       "    </tr>\n",
       "    <tr>\n",
       "      <th>min</th>\n",
       "      <td>250.00</td>\n",
       "      <td>51.00</td>\n",
       "      <td>301.00</td>\n",
       "    </tr>\n",
       "    <tr>\n",
       "      <th>25%</th>\n",
       "      <td>269.00</td>\n",
       "      <td>58.00</td>\n",
       "      <td>327.00</td>\n",
       "    </tr>\n",
       "    <tr>\n",
       "      <th>50%</th>\n",
       "      <td>309.00</td>\n",
       "      <td>63.00</td>\n",
       "      <td>372.00</td>\n",
       "    </tr>\n",
       "    <tr>\n",
       "      <th>75%</th>\n",
       "      <td>393.00</td>\n",
       "      <td>100.00</td>\n",
       "      <td>493.00</td>\n",
       "    </tr>\n",
       "    <tr>\n",
       "      <th>max</th>\n",
       "      <td>408.00</td>\n",
       "      <td>121.00</td>\n",
       "      <td>529.00</td>\n",
       "    </tr>\n",
       "    <tr>\n",
       "      <th>sum</th>\n",
       "      <td>1629.00</td>\n",
       "      <td>393.00</td>\n",
       "      <td>2022.00</td>\n",
       "    </tr>\n",
       "  </tbody>\n",
       "</table>\n",
       "</div>"
      ],
      "text/plain": [
       "       prompt_token_counts  target_token_counts  total_token_counts\n",
       "count                 5.00                 5.00                5.00\n",
       "mean                325.80                78.60              404.40\n",
       "std                  71.64                30.35              101.37\n",
       "min                 250.00                51.00              301.00\n",
       "25%                 269.00                58.00              327.00\n",
       "50%                 309.00                63.00              372.00\n",
       "75%                 393.00               100.00              493.00\n",
       "max                 408.00               121.00              529.00\n",
       "sum                1629.00               393.00             2022.00"
      ]
     },
     "execution_count": 15,
     "metadata": {},
     "output_type": "execute_result"
    }
   ],
   "source": [
    "self_ask_train_counts = extract_token_counts(\"self_ask\", \"train\")\n",
    "self_ask_train_stats = summarize_token_counts(self_ask_train_counts)\n",
    "self_ask_train_stats"
   ]
  },
  {
   "cell_type": "code",
   "execution_count": 12,
   "metadata": {},
   "outputs": [],
   "source": [
    "# open json file for self ask prompt training examples\n",
    "with open(path + \"self_ask_train.json\", \"r\") as f:\n",
    "    self_ask_train = json.load(f)"
   ]
  },
  {
   "cell_type": "code",
   "execution_count": 13,
   "metadata": {},
   "outputs": [
    {
     "data": {
      "text/plain": [
       "[{'prompt': \"Example Response\\nQuestion: Which film came out first, The Love Route or Engal Aasan?\\nAre follow up questions needed here: Yes.\\nFollow up: When is the publication date of The Love Route?\\nIntermediate answer: 1915\\nFollow up: When is the publication date of Engal Aasan?\\nIntermediate answer: 2009\\nSo the final answer is: The Love Route\\n\\nExample Response\\nQuestion: When is the composer of film Sruthilayalu 's birthday?\\nAre follow up questions needed here: Yes.\\nFollow up: Who is the composer of Sruthilayalu?\\nIntermediate answer: K. V. Mahadevan\\nFollow up: When is the date of birth of K. V. Mahadevan?\\nIntermediate answer: 14 March 1918\\nSo the final answer is: 14 March 1918\\n\\nFact #0: Rhescuporis I (Ancient Greek: Ραισκούπορις) was a king of the Odrysian kingdom of Thrace in 240 BC - 215 BC, succeeding his father, Cotys III.\\nFact #1: 270 BC, succeeding his father, Raizdos.\\n\\nQuestion: Who is Rhescuporis I (Odrysian)'s paternal grandfather?\\nAre follow up questions needed here:\\n\",\n",
       "  'target': 'Yes.\\nFollow up: Who is the father of Rhescuporis I?\\nIntermediate answer: Cotys III\\nFollow up: Who is the father of Cotys III?\\nIntermediate answer: Raizdos\\nSo the final answer is: Raizdos\\n',\n",
       "  'num_prompt_tokens': 269,\n",
       "  'num_target_tokens': 58,\n",
       "  'num_tokens': 327},\n",
       " {'prompt': \"Example Response\\nQuestion: Which film came out first, The Love Route or Engal Aasan?\\nAre follow up questions needed here: Yes.\\nFollow up: When is the publication date of The Love Route?\\nIntermediate answer: 1915\\nFollow up: When is the publication date of Engal Aasan?\\nIntermediate answer: 2009\\nSo the final answer is: The Love Route\\n\\nExample Response\\nQuestion: When is the composer of film Sruthilayalu 's birthday?\\nAre follow up questions needed here: Yes.\\nFollow up: Who is the composer of Sruthilayalu?\\nIntermediate answer: K. V. Mahadevan\\nFollow up: When is the date of birth of K. V. Mahadevan?\\nIntermediate answer: 14 March 1918\\nSo the final answer is: 14 March 1918\\n\\nFact #0: The Fascist  is a 1961 Italian film directed by Luciano Salce.\\nFact #1: Luciano Salce (25 September 1922, in Rome – 17 December 1989, in Rome) was an Italian film director, actor and lyricist.\\n\\nQuestion: Where was the director of film The Fascist born?\\nAre follow up questions needed here:\\n\",\n",
       "  'target': 'Yes.\\nFollow up: Who is the director of The Fascist?\\nIntermediate answer: Luciano Salce\\nFollow up: What is the place of birth of Luciano Salce?\\nIntermediate answer: Rome\\nSo the final answer is: Rome\\n',\n",
       "  'num_prompt_tokens': 250,\n",
       "  'num_target_tokens': 51,\n",
       "  'num_tokens': 301}]"
      ]
     },
     "execution_count": 13,
     "metadata": {},
     "output_type": "execute_result"
    }
   ],
   "source": [
    "self_ask_train[:2]"
   ]
  },
  {
   "cell_type": "code",
   "execution_count": 14,
   "metadata": {},
   "outputs": [
    {
     "name": "stdout",
     "output_type": "stream",
     "text": [
      "Example Response\n",
      "Question: Which film came out first, The Love Route or Engal Aasan?\n",
      "Are follow up questions needed here: Yes.\n",
      "Follow up: When is the publication date of The Love Route?\n",
      "Intermediate answer: 1915\n",
      "Follow up: When is the publication date of Engal Aasan?\n",
      "Intermediate answer: 2009\n",
      "So the final answer is: The Love Route\n",
      "\n",
      "Example Response\n",
      "Question: When is the composer of film Sruthilayalu 's birthday?\n",
      "Are follow up questions needed here: Yes.\n",
      "Follow up: Who is the composer of Sruthilayalu?\n",
      "Intermediate answer: K. V. Mahadevan\n",
      "Follow up: When is the date of birth of K. V. Mahadevan?\n",
      "Intermediate answer: 14 March 1918\n",
      "So the final answer is: 14 March 1918\n",
      "\n",
      "Fact #0: Rhescuporis I (Ancient Greek: Ραισκούπορις) was a king of the Odrysian kingdom of Thrace in 240 BC - 215 BC, succeeding his father, Cotys III.\n",
      "Fact #1: 270 BC, succeeding his father, Raizdos.\n",
      "\n",
      "Question: Who is Rhescuporis I (Odrysian)'s paternal grandfather?\n",
      "Are follow up questions needed here:\n",
      "\n",
      "Yes.\n",
      "Follow up: Who is the father of Rhescuporis I?\n",
      "Intermediate answer: Cotys III\n",
      "Follow up: Who is the father of Cotys III?\n",
      "Intermediate answer: Raizdos\n",
      "So the final answer is: Raizdos\n",
      "\n"
     ]
    }
   ],
   "source": [
    "print(self_ask_train[0][\"prompt\"])\n",
    "print(self_ask_train[0][\"target\"])"
   ]
  },
  {
   "cell_type": "code",
   "execution_count": null,
   "metadata": {},
   "outputs": [],
   "source": [
    "del self_ask_train"
   ]
  },
  {
   "attachments": {},
   "cell_type": "markdown",
   "metadata": {},
   "source": [
    "## Dev Set: Self-Ask"
   ]
  },
  {
   "cell_type": "code",
   "execution_count": 16,
   "metadata": {},
   "outputs": [
    {
     "data": {
      "text/html": [
       "<div>\n",
       "<style scoped>\n",
       "    .dataframe tbody tr th:only-of-type {\n",
       "        vertical-align: middle;\n",
       "    }\n",
       "\n",
       "    .dataframe tbody tr th {\n",
       "        vertical-align: top;\n",
       "    }\n",
       "\n",
       "    .dataframe thead th {\n",
       "        text-align: right;\n",
       "    }\n",
       "</style>\n",
       "<table border=\"1\" class=\"dataframe\">\n",
       "  <thead>\n",
       "    <tr style=\"text-align: right;\">\n",
       "      <th></th>\n",
       "      <th>prompt_token_counts</th>\n",
       "      <th>target_token_counts</th>\n",
       "      <th>total_token_counts</th>\n",
       "    </tr>\n",
       "  </thead>\n",
       "  <tbody>\n",
       "    <tr>\n",
       "      <th>count</th>\n",
       "      <td>3.00</td>\n",
       "      <td>3.0</td>\n",
       "      <td>3.00</td>\n",
       "    </tr>\n",
       "    <tr>\n",
       "      <th>mean</th>\n",
       "      <td>300.67</td>\n",
       "      <td>83.0</td>\n",
       "      <td>383.67</td>\n",
       "    </tr>\n",
       "    <tr>\n",
       "      <th>std</th>\n",
       "      <td>45.24</td>\n",
       "      <td>21.7</td>\n",
       "      <td>66.71</td>\n",
       "    </tr>\n",
       "    <tr>\n",
       "      <th>min</th>\n",
       "      <td>250.00</td>\n",
       "      <td>58.0</td>\n",
       "      <td>308.00</td>\n",
       "    </tr>\n",
       "    <tr>\n",
       "      <th>25%</th>\n",
       "      <td>282.50</td>\n",
       "      <td>76.0</td>\n",
       "      <td>358.50</td>\n",
       "    </tr>\n",
       "    <tr>\n",
       "      <th>50%</th>\n",
       "      <td>315.00</td>\n",
       "      <td>94.0</td>\n",
       "      <td>409.00</td>\n",
       "    </tr>\n",
       "    <tr>\n",
       "      <th>75%</th>\n",
       "      <td>326.00</td>\n",
       "      <td>95.5</td>\n",
       "      <td>421.50</td>\n",
       "    </tr>\n",
       "    <tr>\n",
       "      <th>max</th>\n",
       "      <td>337.00</td>\n",
       "      <td>97.0</td>\n",
       "      <td>434.00</td>\n",
       "    </tr>\n",
       "    <tr>\n",
       "      <th>sum</th>\n",
       "      <td>902.00</td>\n",
       "      <td>249.0</td>\n",
       "      <td>1151.00</td>\n",
       "    </tr>\n",
       "  </tbody>\n",
       "</table>\n",
       "</div>"
      ],
      "text/plain": [
       "       prompt_token_counts  target_token_counts  total_token_counts\n",
       "count                 3.00                  3.0                3.00\n",
       "mean                300.67                 83.0              383.67\n",
       "std                  45.24                 21.7               66.71\n",
       "min                 250.00                 58.0              308.00\n",
       "25%                 282.50                 76.0              358.50\n",
       "50%                 315.00                 94.0              409.00\n",
       "75%                 326.00                 95.5              421.50\n",
       "max                 337.00                 97.0              434.00\n",
       "sum                 902.00                249.0             1151.00"
      ]
     },
     "execution_count": 16,
     "metadata": {},
     "output_type": "execute_result"
    }
   ],
   "source": [
    "self_ask_dev_counts = extract_token_counts(\"self_ask\", \"dev\")\n",
    "self_ask_dev_stats = summarize_token_counts(self_ask_dev_counts)\n",
    "self_ask_dev_stats"
   ]
  },
  {
   "cell_type": "code",
   "execution_count": 17,
   "metadata": {},
   "outputs": [],
   "source": [
    "# open json file for self ask prompt dev examples\n",
    "with open(path + \"self_ask_dev.json\", \"r\") as f:\n",
    "    self_ask_dev = json.load(f)"
   ]
  },
  {
   "cell_type": "code",
   "execution_count": 18,
   "metadata": {},
   "outputs": [
    {
     "data": {
      "text/plain": [
       "[{'prompt': \"Example Response\\nQuestion: Which film came out first, The Love Route or Engal Aasan?\\nAre follow up questions needed here: Yes.\\nFollow up: When is the publication date of The Love Route?\\nIntermediate answer: 1915\\nFollow up: When is the publication date of Engal Aasan?\\nIntermediate answer: 2009\\nSo the final answer is: The Love Route\\n\\nExample Response\\nQuestion: When is the composer of film Sruthilayalu 's birthday?\\nAre follow up questions needed here: Yes.\\nFollow up: Who is the composer of Sruthilayalu?\\nIntermediate answer: K. V. Mahadevan\\nFollow up: When is the date of birth of K. V. Mahadevan?\\nIntermediate answer: 14 March 1918\\nSo the final answer is: 14 March 1918\\n\\nFact #0: This was the last film directed by Stephen Roberts before his untimely death from a heart attack.\\nFact #1: The Star of Santa Clara is a 1958 West German musical comedy film directed by Werner Jacobs and starring Vico Torriani, Gerlinde Locker and Ruth Stephan.\\nFact #2: Stephen Roberts( 23 November 1895 – 17 July 1936) was an American film director.\\nFact #3: Werner Jacobs (1909–1999) was a German film director. .\\n\\nQuestion: Do both films: The Ex-Mrs. Bradford and The Star Of Santa Clara have the directors from the same country?\\nAre follow up questions needed here:\\n\",\n",
       "  'target': 'Yes.\\nFollow up: Who is the director of The Ex-Mrs. Bradford?\\nIntermediate answer: Stephen Roberts\\nFollow up: Who is the director of The Star of Santa Clara?\\nIntermediate answer: Werner Jacobs\\nFollow up: What is the country of citizenship of Stephen Roberts (director)?\\nIntermediate answer: American\\nFollow up: What is the country of citizenship of Werner Jacobs?\\nIntermediate answer: German\\nSo the final answer is: no\\n',\n",
       "  'num_prompt_tokens': 315,\n",
       "  'num_target_tokens': 94,\n",
       "  'num_tokens': 409},\n",
       " {'prompt': \"Example Response\\nQuestion: Which film came out first, The Love Route or Engal Aasan?\\nAre follow up questions needed here: Yes.\\nFollow up: When is the publication date of The Love Route?\\nIntermediate answer: 1915\\nFollow up: When is the publication date of Engal Aasan?\\nIntermediate answer: 2009\\nSo the final answer is: The Love Route\\n\\nExample Response\\nQuestion: When is the composer of film Sruthilayalu 's birthday?\\nAre follow up questions needed here: Yes.\\nFollow up: Who is the composer of Sruthilayalu?\\nIntermediate answer: K. V. Mahadevan\\nFollow up: When is the date of birth of K. V. Mahadevan?\\nIntermediate answer: 14 March 1918\\nSo the final answer is: 14 March 1918\\n\\nFact #0: She is the daughter of Rune Gerhardsen and Tove Strand, and granddaughter of Einar Gerhardsen.\\nFact #1: Rune Gerhardsen (born 13 June 1946) is a Norwegian politician, representing the Norwegian Labour Party.\\n\\nQuestion: What is the date of birth of Mina Gerhardsen's father?\\nAre follow up questions needed here:\\n\",\n",
       "  'target': 'Yes.\\nFollow up: Who is the father of Mina Gerhardsen?\\nIntermediate answer: Rune Gerhardsen\\nFollow up: When is the date of birth of Rune Gerhardsen?\\nIntermediate answer: 13 June 1946\\nSo the final answer is: 13 June 1946\\n',\n",
       "  'num_prompt_tokens': 250,\n",
       "  'num_target_tokens': 58,\n",
       "  'num_tokens': 308}]"
      ]
     },
     "execution_count": 18,
     "metadata": {},
     "output_type": "execute_result"
    }
   ],
   "source": [
    "self_ask_dev[:2]"
   ]
  },
  {
   "cell_type": "code",
   "execution_count": 19,
   "metadata": {},
   "outputs": [
    {
     "name": "stdout",
     "output_type": "stream",
     "text": [
      "Example Response\n",
      "Question: Which film came out first, The Love Route or Engal Aasan?\n",
      "Are follow up questions needed here: Yes.\n",
      "Follow up: When is the publication date of The Love Route?\n",
      "Intermediate answer: 1915\n",
      "Follow up: When is the publication date of Engal Aasan?\n",
      "Intermediate answer: 2009\n",
      "So the final answer is: The Love Route\n",
      "\n",
      "Example Response\n",
      "Question: When is the composer of film Sruthilayalu 's birthday?\n",
      "Are follow up questions needed here: Yes.\n",
      "Follow up: Who is the composer of Sruthilayalu?\n",
      "Intermediate answer: K. V. Mahadevan\n",
      "Follow up: When is the date of birth of K. V. Mahadevan?\n",
      "Intermediate answer: 14 March 1918\n",
      "So the final answer is: 14 March 1918\n",
      "\n",
      "Fact #0: This was the last film directed by Stephen Roberts before his untimely death from a heart attack.\n",
      "Fact #1: The Star of Santa Clara is a 1958 West German musical comedy film directed by Werner Jacobs and starring Vico Torriani, Gerlinde Locker and Ruth Stephan.\n",
      "Fact #2: Stephen Roberts( 23 November 1895 – 17 July 1936) was an American film director.\n",
      "Fact #3: Werner Jacobs (1909–1999) was a German film director. .\n",
      "\n",
      "Question: Do both films: The Ex-Mrs. Bradford and The Star Of Santa Clara have the directors from the same country?\n",
      "Are follow up questions needed here:\n",
      "\n",
      "Yes.\n",
      "Follow up: Who is the director of The Ex-Mrs. Bradford?\n",
      "Intermediate answer: Stephen Roberts\n",
      "Follow up: Who is the director of The Star of Santa Clara?\n",
      "Intermediate answer: Werner Jacobs\n",
      "Follow up: What is the country of citizenship of Stephen Roberts (director)?\n",
      "Intermediate answer: American\n",
      "Follow up: What is the country of citizenship of Werner Jacobs?\n",
      "Intermediate answer: German\n",
      "So the final answer is: no\n",
      "\n"
     ]
    }
   ],
   "source": [
    "print(self_ask_dev[0][\"prompt\"])\n",
    "print(self_ask_dev[0][\"target\"])"
   ]
  },
  {
   "cell_type": "code",
   "execution_count": null,
   "metadata": {},
   "outputs": [],
   "source": [
    "del self_ask_dev"
   ]
  },
  {
   "cell_type": "markdown",
   "metadata": {},
   "source": [
    "## Test Set"
   ]
  },
  {
   "cell_type": "code",
   "execution_count": 9,
   "metadata": {},
   "outputs": [],
   "source": [
    "with open(\"data/MultihopEvaluation/test.json\", \"r\") as f:\n",
    "    test = json.load(f)"
   ]
  },
  {
   "cell_type": "code",
   "execution_count": 10,
   "metadata": {},
   "outputs": [
    {
     "name": "stdout",
     "output_type": "stream",
     "text": [
      "Example Response\n",
      "Question: When was Neva Egan's husband born?\n",
      "Are follow up questions needed here: Yes.\n",
      "Follow up: Who is the spouse of Neva Egan?\n",
      "Intermediate answer: William Allen Egan\n",
      "Follow up: When is the date of birth of William Allen Egan?\n",
      "Intermediate answer: October 8, 1914\n",
      "So the final answer is: October 8, 1914\n",
      "Example Response\n",
      "Question: Who was born first, Alejo Mancisidor or Emil Leyde?\n",
      "Are follow up questions needed here: Yes.\n",
      "Follow up: When is the date of birth of Alejo Mancisidor?\n",
      "Intermediate answer: 31 July 1970\n",
      "Follow up: When is the date of birth of Emil Leyde?\n",
      "Intermediate answer: 8 January 1879\n",
      "So the final answer is: Emil Leyde\n",
      "Fact #0: (Wojna polsko-ruska) is a 2009 Polish film directed by Xawery Żuławski based on the novel Polish-Russian War under the white-red flag by Dorota Masłowska.\n",
      "Fact #1: He is the son of actress Małgorzata Braunek and director Andrzej Żuławski.\n",
      "\n",
      "Question: Who is the mother of the director of film Polish-Russian War (Film)?\n",
      "Are follow up questions needed here:\n",
      "\n",
      "Yes.\n",
      "Follow up: Who is the director of Polish-Russian War?\n",
      "Intermediate answer: Xawery Żuławski\n",
      "Follow up: Who is the mother of Xawery Żuławski?\n",
      "Intermediate answer: Małgorzata Braunek\n",
      "So the final answer is: Małgorzata Braunek\n",
      "\n",
      "Fact #0: (Wojna polsko-ruska) is a 2009 Polish film directed by Xawery Żuławski based on the novel Polish-Russian War under the white-red flag by Dorota Masłowska.\n",
      "Fact #1: He is the son of actress Małgorzata Braunek and director Andrzej Żuławski.\n",
      "\n",
      "Question: Who is the mother of the director of film Polish-Russian War (Film)?\n",
      "Answer:\n",
      "Małgorzata Braunek\n"
     ]
    }
   ],
   "source": [
    "print(test[0][\"self_ask_prompt_with_examplars\"])\n",
    "print(test[0][\"self_ask_answer\"])\n",
    "print(test[0][\"direct_prompt\"])\n",
    "print(test[0][\"answer\"])"
   ]
  }
 ],
 "metadata": {
  "kernelspec": {
   "display_name": "nlp",
   "language": "python",
   "name": "python3"
  },
  "language_info": {
   "codemirror_mode": {
    "name": "ipython",
    "version": 3
   },
   "file_extension": ".py",
   "mimetype": "text/x-python",
   "name": "python",
   "nbconvert_exporter": "python",
   "pygments_lexer": "ipython3",
   "version": "3.11.4"
  },
  "orig_nbformat": 4
 },
 "nbformat": 4,
 "nbformat_minor": 2
}
