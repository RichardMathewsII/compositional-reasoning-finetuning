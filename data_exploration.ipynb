{
 "cells": [
  {
   "cell_type": "code",
   "execution_count": 1,
   "metadata": {},
   "outputs": [],
   "source": [
    "import json\n",
    "from data_adaptor import DataAdaptor"
   ]
  },
  {
   "attachments": {},
   "cell_type": "markdown",
   "metadata": {},
   "source": [
    "## 2WikiMultihopQA\n",
    "Authors only use question-answer information. The context is not provided.\n",
    "> \"we use only the question-answer pairs from these datasets, not any passages of relevant text that they contain. These datasets both contain 2-hop compositional questions sourced from facts that appear in Wikipedia articles.\" - Press, et al.\n",
    "\n",
    "Authors do not use this dataset to measure compositionality gap which requires known sub-questions and answers to measure.\n",
    "> \"Note that the rest of this section shows that elicitive prompts improve performance but does not show that they narrow the compositionality gap since we lack sub-questions for datasets other than CC.\" - Press, et al."
   ]
  },
  {
   "cell_type": "code",
   "execution_count": 12,
   "metadata": {},
   "outputs": [],
   "source": [
    "from data_loaders import load_2WikiMultihopQA"
   ]
  },
  {
   "cell_type": "code",
   "execution_count": 13,
   "metadata": {},
   "outputs": [],
   "source": [
    "# Load the training data\n",
    "wiki_sample = load_2WikiMultihopQA(n_examples=5, split='train')"
   ]
  },
  {
   "cell_type": "code",
   "execution_count": 29,
   "metadata": {},
   "outputs": [
    {
     "name": "stdout",
     "output_type": "stream",
     "text": [
      "{\n",
      "    \"_id\": \"13f5ad2c088c11ebbd6fac1f6bf848b6\",\n",
      "    \"type\": \"bridge_comparison\",\n",
      "    \"question\": \"Are director of film Move (1970 Film) and director of film M\\u00e9diterran\\u00e9e (1963 Film) from the same country?\",\n",
      "    \"context\": [\n",
      "        [\n",
      "            \"Stuart Rosenberg\",\n",
      "            [\n",
      "                \"Stuart Rosenberg (August 11, 1927 \\u2013 March 15, 2007) was an American film and television director whose motion pictures include \\\"Cool Hand Luke\\\" (1967), \\\"Voyage of the Damned\\\" (1976), \\\"The Amityville Horror\\\" (1979), and \\\"The Pope of Greenwich Village\\\" (1984).\",\n",
      "                \"He was noted for his work with actor Paul Newman.\"\n",
      "            ]\n",
      "        ],\n",
      "        [\n",
      "            \"M\\u00e9diterran\\u00e9e (1963 film)\",\n",
      "            [\n",
      "                \"M\\u00e9diterran\\u00e9e is a 1963 French experimental film directed by Jean-Daniel Pollet with assistance from Volker Schl\\u00f6ndorff.\",\n",
      "                \"It was written by Philippe Sollers and produced by Barbet Schroeder, with music by Antione Duhamel.\",\n",
      "                \"The 45 minute film is cited as one of Pollet's most influential films, which according to Jonathan Rosenbaum directly influenced Jean-Luc Goddard's \\\"Contempt\\\", released later the same year.\",\n",
      "                \"Footage for the film was shot around the Mediterranean, including at a Greek temple, a Sicilian garden, the sea, and also features a fisherman, a bullfighter, and a girl on an operating table.\"\n",
      "            ]\n",
      "        ],\n",
      "        [\n",
      "            \"Move (1970 film)\",\n",
      "            [\n",
      "                \"Move is a 1970 American comedy film starring Elliott Gould, Paula Prentiss and Genevi\\u00e8ve Wa\\u00efte, and directed by Stuart Rosenberg.\",\n",
      "                \"The screenplay was written by Joel Lieber and Stanley Hart, adapted from a novel by Lieber.\"\n",
      "            ]\n",
      "        ],\n",
      "        [\n",
      "            \"Ian Barry (director)\",\n",
      "            [\n",
      "                \"Ian Barry is an Australian director of film and TV.\"\n",
      "            ]\n",
      "        ],\n",
      "        [\n",
      "            \"Peter Levin\",\n",
      "            [\n",
      "                \"Peter Levin is an American director of film, television and theatre.\"\n",
      "            ]\n",
      "        ],\n",
      "        [\n",
      "            \"Brian Johnson (special effects artist)\",\n",
      "            [\n",
      "                \"Brian Johnson( born 1939 or 1940) is a British designer and director of film and television special effects.\"\n",
      "            ]\n",
      "        ],\n",
      "        [\n",
      "            \"Rachel Feldman\",\n",
      "            [\n",
      "                \"Rachel Feldman( born August 22, 1954) is an American director of film and television and screenwriter of television films.\"\n",
      "            ]\n",
      "        ],\n",
      "        [\n",
      "            \"Hanro Smitsman\",\n",
      "            [\n",
      "                \"Hanro Smitsman, born in 1967 in Breda( Netherlands), is a writer and director of film and television.\"\n",
      "            ]\n",
      "        ],\n",
      "        [\n",
      "            \"Jean-Daniel Pollet\",\n",
      "            [\n",
      "                \"Jean-Daniel Pollet (1936\\u20132004) was a French film director and screenwriter who was most active in the 1960s and 1970s.\",\n",
      "                \"He was associated with two approaches to filmmaking: comedies which blended burlesque and melancholic elements, and poetic films based on texts by writers such as the French poet Francis Ponge.\"\n",
      "            ]\n",
      "        ],\n",
      "        [\n",
      "            \"Howard W. Koch\",\n",
      "            [\n",
      "                \"Howard Winchel Koch( April 11, 1916 \\u2013 February 16, 2001) was an American producer and director of film and television.\"\n",
      "            ]\n",
      "        ]\n",
      "    ],\n",
      "    \"supporting_facts\": [\n",
      "        [\n",
      "            \"Move (1970 film)\",\n",
      "            0\n",
      "        ],\n",
      "        [\n",
      "            \"M\\u00e9diterran\\u00e9e (1963 film)\",\n",
      "            0\n",
      "        ],\n",
      "        [\n",
      "            \"Stuart Rosenberg\",\n",
      "            0\n",
      "        ],\n",
      "        [\n",
      "            \"Jean-Daniel Pollet\",\n",
      "            0\n",
      "        ]\n",
      "    ],\n",
      "    \"evidences\": [\n",
      "        [\n",
      "            \"Move (1970 film)\",\n",
      "            \"director\",\n",
      "            \"Stuart Rosenberg\"\n",
      "        ],\n",
      "        [\n",
      "            \"M\\u00e9diterran\\u00e9e (1963 film)\",\n",
      "            \"director\",\n",
      "            \"Jean-Daniel Pollet\"\n",
      "        ],\n",
      "        [\n",
      "            \"Stuart Rosenberg\",\n",
      "            \"country of citizenship\",\n",
      "            \"American\"\n",
      "        ],\n",
      "        [\n",
      "            \"Jean-Daniel Pollet\",\n",
      "            \"country of citizenship\",\n",
      "            \"French\"\n",
      "        ]\n",
      "    ],\n",
      "    \"answer\": \"no\"\n",
      "}\n"
     ]
    }
   ],
   "source": [
    "# Print the first example in pretty format\n",
    "print(json.dumps(wiki_sample[0], indent=4))"
   ]
  },
  {
   "attachments": {},
   "cell_type": "markdown",
   "metadata": {},
   "source": [
    "Let's look at the evidence required to answer the question. It's possible we create prompt examples using these evidences to insert into the fine-tuning set. For example,\n",
    "\n",
    "**Examplar:**\n",
    "```\n",
    "Question: Are director of film Move (1970 Film) and director of film Méditerranée (1963 Film) from the same country?\n",
    "Are follow up questions needed here: Yes.\n",
    "Follow up: Who is the director of Move (1970 film)?\n",
    "Intermediate answer: Stuart Rosenberg.\n",
    "Follow up: Who is the director of Méditerranée (1963 film)?\n",
    "Intermediate answer: Jean-Daniel Pollet\n",
    "Follow up: What is the country of citizenship of Stuart Rosenberg?\n",
    "Intermediate answer: American\n",
    "Follow up: What is the country of citizenship of Jean-Daniel Pollet?\n",
    "Intermediate answer: French\n",
    "So the final answer is: no\n",
    "```"
   ]
  },
  {
   "cell_type": "code",
   "execution_count": 6,
   "metadata": {},
   "outputs": [
    {
     "data": {
      "text/plain": [
       "[['Move (1970 film)', 'director', 'Stuart Rosenberg'],\n",
       " ['Méditerranée (1963 film)', 'director', 'Jean-Daniel Pollet'],\n",
       " ['Stuart Rosenberg', 'country of citizenship', 'American'],\n",
       " ['Jean-Daniel Pollet', 'country of citizenship', 'French']]"
      ]
     },
     "execution_count": 6,
     "metadata": {},
     "output_type": "execute_result"
    }
   ],
   "source": [
    "wiki_sample[0][\"evidences\"]"
   ]
  },
  {
   "attachments": {},
   "cell_type": "markdown",
   "metadata": {},
   "source": [
    "### Adapting to Self-Ask Examplar"
   ]
  },
  {
   "cell_type": "code",
   "execution_count": 14,
   "metadata": {},
   "outputs": [],
   "source": [
    "wiki_adaptor = DataAdaptor(dataset=\"2WikiMultihopQA\")"
   ]
  },
  {
   "cell_type": "code",
   "execution_count": 15,
   "metadata": {},
   "outputs": [
    {
     "name": "stdout",
     "output_type": "stream",
     "text": [
      "Question: Are director of film Move (1970 Film) and director of film Méditerranée (1963 Film) from the same country?\n",
      "Are follow up questions needed here: Yes.\n",
      "Follow up: What is the director of Move (1970 film)?\n",
      "Intermediate answer: Stuart Rosenberg\n",
      "Follow up: What is the director of Méditerranée (1963 film)?\n",
      "Intermediate answer: Jean-Daniel Pollet\n",
      "Follow up: What is the country of citizenship of Stuart Rosenberg?\n",
      "Intermediate answer: American\n",
      "Follow up: What is the country of citizenship of Jean-Daniel Pollet?\n",
      "Intermediate answer: French\n",
      "So the final answer is: no\n",
      "\n",
      "Question: Do both films The Falcon (Film) and Valentin The Good have the directors from the same country?\n",
      "Are follow up questions needed here: Yes.\n",
      "Follow up: What is the director of The Falcon (film)?\n",
      "Intermediate answer: Vatroslav Mimica\n",
      "Follow up: What is the director of Valentin the Good?\n",
      "Intermediate answer: Martin Frič\n",
      "Follow up: What is the country of citizenship of Vatroslav Mimica?\n",
      "Intermediate answer: Croatian\n",
      "Follow up: What is the country of citizenship of Vatroslav Mimica?\n",
      "Intermediate answer: Yugoslavia\n",
      "Follow up: What is the country of citizenship of Martin Frič?\n",
      "Intermediate answer: Czech\n",
      "So the final answer is: no\n",
      "\n",
      "Question: Which film whose director is younger, Charge It To Me or Danger: Diabolik?\n",
      "Are follow up questions needed here: Yes.\n",
      "Follow up: What is the director of Charge It to Me?\n",
      "Intermediate answer: Roy William Neill\n",
      "Follow up: What is the director of Danger: Diabolik?\n",
      "Intermediate answer: Mario Bava\n",
      "Follow up: What is the date of birth of Roy William Neill?\n",
      "Intermediate answer: 4 September 1887\n",
      "Follow up: What is the date of birth of Mario Bava?\n",
      "Intermediate answer: 31 July 1914\n",
      "So the final answer is: Danger: Diabolik\n",
      "\n",
      "Question: What is the date of birth of Mina Gerhardsen's father?\n",
      "Are follow up questions needed here: Yes.\n",
      "Follow up: What is the father of Mina Gerhardsen?\n",
      "Intermediate answer: Rune Gerhardsen\n",
      "Follow up: What is the date of birth of Rune Gerhardsen?\n",
      "Intermediate answer: 13 June 1946\n",
      "So the final answer is: 13 June 1946\n",
      "\n",
      "Question: What nationality is the director of film Wedding Night In Paradise (1950 Film)?\n",
      "Are follow up questions needed here: Yes.\n",
      "Follow up: What is the director of Wedding Night in Paradise?\n",
      "Intermediate answer: Géza von Bolváry\n",
      "Follow up: What is the country of citizenship of Géza von Bolváry?\n",
      "Intermediate answer: Hungarian\n",
      "So the final answer is: Hungarian\n",
      "\n"
     ]
    }
   ],
   "source": [
    "wiki_examplars = wiki_adaptor.generate_examplars(wiki_sample, strategy=\"self-ask\")\n",
    "for examplar in wiki_examplars:\n",
    "    print(examplar)"
   ]
  },
  {
   "attachments": {},
   "cell_type": "markdown",
   "metadata": {},
   "source": [
    "### Adapting to Self-Ask Training Example\n",
    "We can augment the target texts in the dataset with the self-ask rationale to fine-tune a language model to generate text with the self-ask rationale."
   ]
  },
  {
   "cell_type": "code",
   "execution_count": 16,
   "metadata": {},
   "outputs": [
    {
     "name": "stdout",
     "output_type": "stream",
     "text": [
      "{\n",
      "    \"prompt\": \"Question: Are director of film Move (1970 Film) and director of film M\\u00e9diterran\\u00e9e (1963 Film) from the same country?\\nAre follow up questions needed here:\\n\",\n",
      "    \"target\": \"Yes.\\nFollow up: What is the director of Move (1970 film)?\\nIntermediate answer: Stuart Rosenberg\\nFollow up: What is the director of M\\u00e9diterran\\u00e9e (1963 film)?\\nIntermediate answer: Jean-Daniel Pollet\\nFollow up: What is the country of citizenship of Stuart Rosenberg?\\nIntermediate answer: American\\nFollow up: What is the country of citizenship of Jean-Daniel Pollet?\\nIntermediate answer: French\\nSo the final answer is: no\\n\"\n",
      "}\n",
      "{\n",
      "    \"prompt\": \"Question: Do both films The Falcon (Film) and Valentin The Good have the directors from the same country?\\nAre follow up questions needed here:\\n\",\n",
      "    \"target\": \"Yes.\\nFollow up: What is the director of The Falcon (film)?\\nIntermediate answer: Vatroslav Mimica\\nFollow up: What is the director of Valentin the Good?\\nIntermediate answer: Martin Fri\\u010d\\nFollow up: What is the country of citizenship of Vatroslav Mimica?\\nIntermediate answer: Croatian\\nFollow up: What is the country of citizenship of Vatroslav Mimica?\\nIntermediate answer: Yugoslavia\\nFollow up: What is the country of citizenship of Martin Fri\\u010d?\\nIntermediate answer: Czech\\nSo the final answer is: no\\n\"\n",
      "}\n",
      "{\n",
      "    \"prompt\": \"Question: Which film whose director is younger, Charge It To Me or Danger: Diabolik?\\nAre follow up questions needed here:\\n\",\n",
      "    \"target\": \"Yes.\\nFollow up: What is the director of Charge It to Me?\\nIntermediate answer: Roy William Neill\\nFollow up: What is the director of Danger: Diabolik?\\nIntermediate answer: Mario Bava\\nFollow up: What is the date of birth of Roy William Neill?\\nIntermediate answer: 4 September 1887\\nFollow up: What is the date of birth of Mario Bava?\\nIntermediate answer: 31 July 1914\\nSo the final answer is: Danger: Diabolik\\n\"\n",
      "}\n",
      "{\n",
      "    \"prompt\": \"Question: What is the date of birth of Mina Gerhardsen's father?\\nAre follow up questions needed here:\\n\",\n",
      "    \"target\": \"Yes.\\nFollow up: What is the father of Mina Gerhardsen?\\nIntermediate answer: Rune Gerhardsen\\nFollow up: What is the date of birth of Rune Gerhardsen?\\nIntermediate answer: 13 June 1946\\nSo the final answer is: 13 June 1946\\n\"\n",
      "}\n",
      "{\n",
      "    \"prompt\": \"Question: What nationality is the director of film Wedding Night In Paradise (1950 Film)?\\nAre follow up questions needed here:\\n\",\n",
      "    \"target\": \"Yes.\\nFollow up: What is the director of Wedding Night in Paradise?\\nIntermediate answer: G\\u00e9za von Bolv\\u00e1ry\\nFollow up: What is the country of citizenship of G\\u00e9za von Bolv\\u00e1ry?\\nIntermediate answer: Hungarian\\nSo the final answer is: Hungarian\\n\"\n",
      "}\n"
     ]
    }
   ],
   "source": [
    "wiki_training_examples = wiki_adaptor.generate_training_examples(wiki_sample, strategy=\"self-ask\")\n",
    "for training_example in wiki_training_examples:\n",
    "    print(json.dumps(training_example, indent=4))"
   ]
  },
  {
   "cell_type": "code",
   "execution_count": 11,
   "metadata": {},
   "outputs": [
    {
     "name": "stdout",
     "output_type": "stream",
     "text": [
      "Question: Are director of film Move (1970 Film) and director of film Méditerranée (1963 Film) from the same country?\n",
      "Are follow up questions needed here:\n",
      "\n",
      "Yes.\n",
      "Follow up: What is the director of Move (1970 film)?\n",
      "Intermediate answer: Stuart Rosenberg\n",
      "Follow up: What is the director of Méditerranée (1963 film)?\n",
      "Intermediate answer: Jean-Daniel Pollet\n",
      "Follow up: What is the country of citizenship of Stuart Rosenberg?\n",
      "Intermediate answer: American\n",
      "Follow up: What is the country of citizenship of Jean-Daniel Pollet?\n",
      "Intermediate answer: French\n",
      "So the final answer is: no\n",
      "\n"
     ]
    }
   ],
   "source": [
    "print(wiki_training_examples[0][\"prompt\"])\n",
    "print(wiki_training_examples[0][\"target\"])"
   ]
  },
  {
   "attachments": {},
   "cell_type": "markdown",
   "metadata": {},
   "source": [
    "### Augment with In-Context Examplars and Self-Ask Rationale Targets\n",
    "We can combine the two above to create an augmented fine-tuning dataset:\n",
    "1. Prompt text has in-context examplars\n",
    "2. Target text has the self-ask rationale"
   ]
  },
  {
   "cell_type": "code",
   "execution_count": 17,
   "metadata": {},
   "outputs": [
    {
     "name": "stdout",
     "output_type": "stream",
     "text": [
      "--------- Augmented Prompt ---------\n",
      "Question: Are director of film Move (1970 Film) and director of film Méditerranée (1963 Film) from the same country?\n",
      "Are follow up questions needed here: Yes.\n",
      "Follow up: What is the director of Move (1970 film)?\n",
      "Intermediate answer: Stuart Rosenberg\n",
      "Follow up: What is the director of Méditerranée (1963 film)?\n",
      "Intermediate answer: Jean-Daniel Pollet\n",
      "Follow up: What is the country of citizenship of Stuart Rosenberg?\n",
      "Intermediate answer: American\n",
      "Follow up: What is the country of citizenship of Jean-Daniel Pollet?\n",
      "Intermediate answer: French\n",
      "So the final answer is: no\n",
      "\n",
      "Question: Do both films The Falcon (Film) and Valentin The Good have the directors from the same country?\n",
      "Are follow up questions needed here: Yes.\n",
      "Follow up: What is the director of The Falcon (film)?\n",
      "Intermediate answer: Vatroslav Mimica\n",
      "Follow up: What is the director of Valentin the Good?\n",
      "Intermediate answer: Martin Frič\n",
      "Follow up: What is the country of citizenship of Vatroslav Mimica?\n",
      "Intermediate answer: Croatian\n",
      "Follow up: What is the country of citizenship of Vatroslav Mimica?\n",
      "Intermediate answer: Yugoslavia\n",
      "Follow up: What is the country of citizenship of Martin Frič?\n",
      "Intermediate answer: Czech\n",
      "So the final answer is: no\n",
      "\n",
      "Question: Which film whose director is younger, Charge It To Me or Danger: Diabolik?\n",
      "Are follow up questions needed here: Yes.\n",
      "Follow up: What is the director of Charge It to Me?\n",
      "Intermediate answer: Roy William Neill\n",
      "Follow up: What is the director of Danger: Diabolik?\n",
      "Intermediate answer: Mario Bava\n",
      "Follow up: What is the date of birth of Roy William Neill?\n",
      "Intermediate answer: 4 September 1887\n",
      "Follow up: What is the date of birth of Mario Bava?\n",
      "Intermediate answer: 31 July 1914\n",
      "So the final answer is: Danger: Diabolik\n",
      "\n",
      "Question: What is the date of birth of Mina Gerhardsen's father?\n",
      "Are follow up questions needed here: Yes.\n",
      "Follow up: What is the father of Mina Gerhardsen?\n",
      "Intermediate answer: Rune Gerhardsen\n",
      "Follow up: What is the date of birth of Rune Gerhardsen?\n",
      "Intermediate answer: 13 June 1946\n",
      "So the final answer is: 13 June 1946\n",
      "\n",
      "Question: What nationality is the director of film Wedding Night In Paradise (1950 Film)?\n",
      "Are follow up questions needed here:\n",
      "\n",
      "--------- Target ---------\n",
      "Yes.\n",
      "Follow up: What is the director of Wedding Night in Paradise?\n",
      "Intermediate answer: Géza von Bolváry\n",
      "Follow up: What is the country of citizenship of Géza von Bolváry?\n",
      "Intermediate answer: Hungarian\n",
      "So the final answer is: Hungarian\n",
      "\n"
     ]
    }
   ],
   "source": [
    "training_examplars = wiki_examplars[:4]\n",
    "augmented_example = {\"prompt\" : \"\\n\".join(training_examplars) + \"\\n\" + wiki_training_examples[4][\"prompt\"], \"target\" : wiki_training_examples[4][\"target\"]}\n",
    "print(\"--------- Augmented Prompt ---------\")\n",
    "print(augmented_example[\"prompt\"])\n",
    "print(\"--------- Target ---------\")\n",
    "print(augmented_example[\"target\"])"
   ]
  },
  {
   "attachments": {},
   "cell_type": "markdown",
   "metadata": {},
   "source": [
    "## Compositional Celebrities"
   ]
  },
  {
   "cell_type": "code",
   "execution_count": 2,
   "metadata": {},
   "outputs": [],
   "source": [
    "from data_loaders import load_CompositionalCelebrities"
   ]
  },
  {
   "cell_type": "code",
   "execution_count": 3,
   "metadata": {},
   "outputs": [
    {
     "name": "stderr",
     "output_type": "stream",
     "text": [
      "/Users/richardmathews/Downloads/W266 project/data_loaders.py:54: UserWarning: There is only one file. The data has not been splitted yet.\n",
      "  warnings.warn(\"There is only one file. The data has not been splitted yet.\")\n"
     ]
    }
   ],
   "source": [
    "cc_sample = load_CompositionalCelebrities(n_examples=5, split='train')"
   ]
  },
  {
   "attachments": {},
   "cell_type": "markdown",
   "metadata": {},
   "source": [
    "Let's take a look at an example. We see the subquestions are clearly delineated, with answers, as well as the compositional question itself. The other metadata is not necessary for our research."
   ]
  },
  {
   "cell_type": "code",
   "execution_count": 4,
   "metadata": {},
   "outputs": [
    {
     "name": "stdout",
     "output_type": "stream",
     "text": [
      "{\n",
      "    \"Q1\": \"What is the birthplace (country only) of Rumi?\",\n",
      "    \"A1\": [\n",
      "        \"Afghanistan\"\n",
      "    ],\n",
      "    \"Q2\": \"What is the capital of Afghanistan?\",\n",
      "    \"A2\": [\n",
      "        \"Kabul\"\n",
      "    ],\n",
      "    \"Question\": \"What is the capital of the birthplace of Rumi?\",\n",
      "    \"Answer\": [\n",
      "        \"Kabul\"\n",
      "    ],\n",
      "    \"birth_country\": \"Afghanistan\",\n",
      "    \"capital\": [\n",
      "        \"Kabul\"\n",
      "    ],\n",
      "    \"person\": \"Rumi\",\n",
      "    \"category\": \"birthplace_capital\",\n",
      "    \"person_id\": 0\n",
      "}\n"
     ]
    }
   ],
   "source": [
    "# Print the first example in pretty format\n",
    "print(json.dumps(cc_sample[0], indent=4))"
   ]
  },
  {
   "attachments": {},
   "cell_type": "markdown",
   "metadata": {},
   "source": [
    "### Adapting to Self-Ask Examplar\n",
    "It's quite simple to restructure this as a \"self-ask\" examplar for prompting/fine-tuning."
   ]
  },
  {
   "cell_type": "code",
   "execution_count": 5,
   "metadata": {},
   "outputs": [],
   "source": [
    "cc_adaptor = DataAdaptor(dataset=\"CompositionalCelebrities\")"
   ]
  },
  {
   "cell_type": "code",
   "execution_count": 6,
   "metadata": {},
   "outputs": [
    {
     "name": "stdout",
     "output_type": "stream",
     "text": [
      "Question: What is the capital of the birthplace of Rumi?\n",
      "Are follow up questions needed here: Yes.\n",
      "Follow up: What is the birthplace (country only) of Rumi?\n",
      "Intermediate answer: Afghanistan\n",
      "Follow up: What is the capital of Afghanistan?\n",
      "Intermediate answer: Kabul\n",
      "So the final answer is: Kabul\n",
      "\n",
      "Question: What is the capital of the birthplace of Ahmad Shah Massoud?\n",
      "Are follow up questions needed here: Yes.\n",
      "Follow up: What is the birthplace (country only) of Ahmad Shah Massoud?\n",
      "Intermediate answer: Afghanistan\n",
      "Follow up: What is the capital of Afghanistan?\n",
      "Intermediate answer: Kabul\n",
      "So the final answer is: Kabul\n",
      "\n",
      "Question: What is the capital of the birthplace of Mahmud of Ghazni?\n",
      "Are follow up questions needed here: Yes.\n",
      "Follow up: What is the birthplace (country only) of Mahmud of Ghazni?\n",
      "Intermediate answer: Afghanistan\n",
      "Follow up: What is the capital of Afghanistan?\n",
      "Intermediate answer: Kabul\n",
      "So the final answer is: Kabul\n",
      "\n",
      "Question: What is the capital of the birthplace of Ahmad Shah Durrani?\n",
      "Are follow up questions needed here: Yes.\n",
      "Follow up: What is the birthplace (country only) of Ahmad Shah Durrani?\n",
      "Intermediate answer: Afghanistan\n",
      "Follow up: What is the capital of Afghanistan?\n",
      "Intermediate answer: Kabul\n",
      "So the final answer is: Kabul\n",
      "\n",
      "Question: What is the capital of the birthplace of Annet Mahendru?\n",
      "Are follow up questions needed here: Yes.\n",
      "Follow up: What is the birthplace (country only) of Annet Mahendru?\n",
      "Intermediate answer: Afghanistan\n",
      "Follow up: What is the capital of Afghanistan?\n",
      "Intermediate answer: Kabul\n",
      "So the final answer is: Kabul\n",
      "\n"
     ]
    }
   ],
   "source": [
    "cc_examplars = cc_adaptor.generate_examplars(cc_sample, strategy=\"self-ask\")\n",
    "for examplar in cc_examplars:\n",
    "    print(examplar)"
   ]
  },
  {
   "attachments": {},
   "cell_type": "markdown",
   "metadata": {},
   "source": [
    "### Adapting to Self-Ask Training Example\n",
    "We can augment the target texts in the dataset with the self-ask rationale to fine-tune a language model to generate text with the self-ask rationale."
   ]
  },
  {
   "cell_type": "code",
   "execution_count": 7,
   "metadata": {},
   "outputs": [
    {
     "name": "stdout",
     "output_type": "stream",
     "text": [
      "{\n",
      "    \"prompt\": \"Question: What is the capital of the birthplace of Rumi?\\nAre follow up questions needed here:\\n\",\n",
      "    \"target\": \"Yes.\\nFollow up: What is the birthplace (country only) of Rumi?\\nIntermediate answer: Afghanistan\\nFollow up: What is the capital of Afghanistan?\\nIntermediate answer: Kabul\\nSo the final answer is: Kabul\\n\"\n",
      "}\n",
      "{\n",
      "    \"prompt\": \"Question: What is the capital of the birthplace of Ahmad Shah Massoud?\\nAre follow up questions needed here:\\n\",\n",
      "    \"target\": \"Yes.\\nFollow up: What is the birthplace (country only) of Ahmad Shah Massoud?\\nIntermediate answer: Afghanistan\\nFollow up: What is the capital of Afghanistan?\\nIntermediate answer: Kabul\\nSo the final answer is: Kabul\\n\"\n",
      "}\n",
      "{\n",
      "    \"prompt\": \"Question: What is the capital of the birthplace of Mahmud of Ghazni?\\nAre follow up questions needed here:\\n\",\n",
      "    \"target\": \"Yes.\\nFollow up: What is the birthplace (country only) of Mahmud of Ghazni?\\nIntermediate answer: Afghanistan\\nFollow up: What is the capital of Afghanistan?\\nIntermediate answer: Kabul\\nSo the final answer is: Kabul\\n\"\n",
      "}\n",
      "{\n",
      "    \"prompt\": \"Question: What is the capital of the birthplace of Ahmad Shah Durrani?\\nAre follow up questions needed here:\\n\",\n",
      "    \"target\": \"Yes.\\nFollow up: What is the birthplace (country only) of Ahmad Shah Durrani?\\nIntermediate answer: Afghanistan\\nFollow up: What is the capital of Afghanistan?\\nIntermediate answer: Kabul\\nSo the final answer is: Kabul\\n\"\n",
      "}\n",
      "{\n",
      "    \"prompt\": \"Question: What is the capital of the birthplace of Annet Mahendru?\\nAre follow up questions needed here:\\n\",\n",
      "    \"target\": \"Yes.\\nFollow up: What is the birthplace (country only) of Annet Mahendru?\\nIntermediate answer: Afghanistan\\nFollow up: What is the capital of Afghanistan?\\nIntermediate answer: Kabul\\nSo the final answer is: Kabul\\n\"\n",
      "}\n"
     ]
    }
   ],
   "source": [
    "cc_training_examples = cc_adaptor.generate_training_examples(cc_sample, strategy=\"self-ask\")\n",
    "for training_example in cc_training_examples:\n",
    "    print(json.dumps(training_example, indent=4))"
   ]
  },
  {
   "cell_type": "code",
   "execution_count": 8,
   "metadata": {},
   "outputs": [
    {
     "name": "stdout",
     "output_type": "stream",
     "text": [
      "Question: What is the capital of the birthplace of Rumi?\n",
      "Are follow up questions needed here:\n",
      "\n",
      "Yes.\n",
      "Follow up: What is the birthplace (country only) of Rumi?\n",
      "Intermediate answer: Afghanistan\n",
      "Follow up: What is the capital of Afghanistan?\n",
      "Intermediate answer: Kabul\n",
      "So the final answer is: Kabul\n",
      "\n"
     ]
    }
   ],
   "source": [
    "print(cc_training_examples[0][\"prompt\"])\n",
    "print(cc_training_examples[0][\"target\"])"
   ]
  },
  {
   "attachments": {},
   "cell_type": "markdown",
   "metadata": {},
   "source": [
    "### Augment with In-Context Examplars and Self-Ask Rationale Targets\n",
    "We can combine the two above to create an augmented fine-tuning dataset:\n",
    "1. Prompt text has in-context examplars\n",
    "2. Target text has the self-ask rationale"
   ]
  },
  {
   "cell_type": "code",
   "execution_count": 10,
   "metadata": {},
   "outputs": [
    {
     "name": "stdout",
     "output_type": "stream",
     "text": [
      "--------- Augmented Prompt ---------\n",
      "Question: What is the capital of the birthplace of Rumi?\n",
      "Are follow up questions needed here: Yes.\n",
      "Follow up: What is the birthplace (country only) of Rumi?\n",
      "Intermediate answer: Afghanistan\n",
      "Follow up: What is the capital of Afghanistan?\n",
      "Intermediate answer: Kabul\n",
      "So the final answer is: Kabul\n",
      "\n",
      "Question: What is the capital of the birthplace of Ahmad Shah Massoud?\n",
      "Are follow up questions needed here: Yes.\n",
      "Follow up: What is the birthplace (country only) of Ahmad Shah Massoud?\n",
      "Intermediate answer: Afghanistan\n",
      "Follow up: What is the capital of Afghanistan?\n",
      "Intermediate answer: Kabul\n",
      "So the final answer is: Kabul\n",
      "\n",
      "Question: What is the capital of the birthplace of Mahmud of Ghazni?\n",
      "Are follow up questions needed here: Yes.\n",
      "Follow up: What is the birthplace (country only) of Mahmud of Ghazni?\n",
      "Intermediate answer: Afghanistan\n",
      "Follow up: What is the capital of Afghanistan?\n",
      "Intermediate answer: Kabul\n",
      "So the final answer is: Kabul\n",
      "\n",
      "Question: What is the capital of the birthplace of Ahmad Shah Durrani?\n",
      "Are follow up questions needed here: Yes.\n",
      "Follow up: What is the birthplace (country only) of Ahmad Shah Durrani?\n",
      "Intermediate answer: Afghanistan\n",
      "Follow up: What is the capital of Afghanistan?\n",
      "Intermediate answer: Kabul\n",
      "So the final answer is: Kabul\n",
      "\n",
      "Question: What is the capital of the birthplace of Annet Mahendru?\n",
      "Are follow up questions needed here:\n",
      "\n",
      "--------- Target ---------\n",
      "Yes.\n",
      "Follow up: What is the birthplace (country only) of Annet Mahendru?\n",
      "Intermediate answer: Afghanistan\n",
      "Follow up: What is the capital of Afghanistan?\n",
      "Intermediate answer: Kabul\n",
      "So the final answer is: Kabul\n",
      "\n"
     ]
    }
   ],
   "source": [
    "training_examplars = cc_examplars[:4]\n",
    "augmented_example = {\"prompt\" : \"\\n\".join(training_examplars) + \"\\n\" + cc_training_examples[4][\"prompt\"], \"target\" : cc_training_examples[4][\"target\"]}\n",
    "print(\"--------- Augmented Prompt ---------\")\n",
    "print(augmented_example[\"prompt\"])\n",
    "print(\"--------- Target ---------\")\n",
    "print(augmented_example[\"target\"])"
   ]
  }
 ],
 "metadata": {
  "kernelspec": {
   "display_name": "w207",
   "language": "python",
   "name": "python3"
  },
  "language_info": {
   "codemirror_mode": {
    "name": "ipython",
    "version": 3
   },
   "file_extension": ".py",
   "mimetype": "text/x-python",
   "name": "python",
   "nbconvert_exporter": "python",
   "pygments_lexer": "ipython3",
   "version": "3.10.9"
  },
  "orig_nbformat": 4
 },
 "nbformat": 4,
 "nbformat_minor": 2
}
