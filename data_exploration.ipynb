{
 "cells": [
  {
   "cell_type": "code",
   "execution_count": 1,
   "metadata": {},
   "outputs": [
    {
     "name": "stderr",
     "output_type": "stream",
     "text": [
      "/opt/anaconda3/envs/nlp/lib/python3.11/site-packages/tqdm/auto.py:21: TqdmWarning: IProgress not found. Please update jupyter and ipywidgets. See https://ipywidgets.readthedocs.io/en/stable/user_install.html\n",
      "  from .autonotebook import tqdm as notebook_tqdm\n",
      "None of PyTorch, TensorFlow >= 2.0, or Flax have been found. Models won't be available and only tokenizers, configuration and file/data utilities can be used.\n",
      "/opt/anaconda3/envs/nlp/lib/python3.11/site-packages/transformers/models/t5/tokenization_t5.py:163: FutureWarning: This tokenizer was incorrectly instantiated with a model max length of 512 which will be corrected in Transformers v5.\n",
      "For now, this behavior is kept to avoid breaking backwards compatibility when padding/encoding with `truncation is True`.\n",
      "- Be aware that you SHOULD NOT rely on t5-base automatically truncating your input to 512 when padding/encoding.\n",
      "- If you want to encode/pad to sequences longer than 512 you can either instantiate this tokenizer with `model_max_length` or pass `max_length` when encoding/padding.\n",
      "- To avoid this warning, please instantiate this tokenizer with `model_max_length` set to your preferred value.\n",
      "  warnings.warn(\n"
     ]
    }
   ],
   "source": [
    "import json\n",
    "from data_adaptor import DataAdaptor"
   ]
  },
  {
   "attachments": {},
   "cell_type": "markdown",
   "metadata": {},
   "source": [
    "## 2WikiMultihopQA\n",
    "Authors only use question-answer information. The context is not provided.\n",
    "> \"we use only the question-answer pairs from these datasets, not any passages of relevant text that they contain. These datasets both contain 2-hop compositional questions sourced from facts that appear in Wikipedia articles.\" - Press, et al.\n",
    "\n",
    "Authors do not use this dataset to measure compositionality gap which requires known sub-questions and answers to measure.\n",
    "> \"Note that the rest of this section shows that elicitive prompts improve performance but does not show that they narrow the compositionality gap since we lack sub-questions for datasets other than CC.\" - Press, et al."
   ]
  },
  {
   "cell_type": "code",
   "execution_count": 2,
   "metadata": {},
   "outputs": [],
   "source": [
    "from data_loaders import load_2WikiMultihopQA"
   ]
  },
  {
   "cell_type": "code",
   "execution_count": 3,
   "metadata": {},
   "outputs": [],
   "source": [
    "# Load the training data\n",
    "wiki_sample = load_2WikiMultihopQA(n_examples=5, split='train')"
   ]
  },
  {
   "cell_type": "code",
   "execution_count": 4,
   "metadata": {},
   "outputs": [
    {
     "data": {
      "text/plain": [
       "list"
      ]
     },
     "execution_count": 4,
     "metadata": {},
     "output_type": "execute_result"
    }
   ],
   "source": [
    "type(wiki_sample)"
   ]
  },
  {
   "cell_type": "code",
   "execution_count": 17,
   "metadata": {},
   "outputs": [
    {
     "name": "stdout",
     "output_type": "stream",
     "text": [
      "{\n",
      "    \"_id\": \"8813f87c0bdd11eba7f7acde48001122\",\n",
      "    \"type\": \"compositional\",\n",
      "    \"question\": \"Who is the mother of the director of film Polish-Russian War (Film)?\",\n",
      "    \"context\": [\n",
      "        [\n",
      "            \"Maheen Khan\",\n",
      "            [\n",
      "                \"Maheen Khan is a Pakistani fashion and costume designer, also an award winner fashion designer for fashion labels like\\\" The Embroidery HouseMaheen\\\" and\\\" Gulabo\\\".\",\n",
      "                \"She has done many national and international fashion events and shows.\",\n",
      "                \"She undertook embroidery for the film Snow White and the Huntsman and television series\",\n",
      "                \"The Jewel in the Crown.\"\n",
      "            ]\n",
      "        ],\n",
      "        [\n",
      "            \"Viktor Yeliseyev\",\n",
      "            [\n",
      "                \"Viktor Petrovich Yeliseyev( born June 9, 1950) is a Russian general, orchestra conductor and music teacher.\",\n",
      "                \"He is the director of the Ministry of the Interior Ensemble, one of the two Russian Red Army Choirs.\"\n",
      "            ]\n",
      "        ],\n",
      "        [\n",
      "            \"Alice Washburn\",\n",
      "            [\n",
      "                \"Alice Washburn( 1860- 1929) was an American stage and film actress.\",\n",
      "                \"She worked at the Edison, Vitagraph and Kalem studios.\",\n",
      "                \"Her final film Snow White was her only known feature film.\",\n",
      "                \"She died of heart attack in November 1929.\"\n",
      "            ]\n",
      "        ],\n",
      "        [\n",
      "            \"Minamoto no Chikako\",\n",
      "            [\n",
      "                \"She was the mother of Prince Morinaga.\"\n",
      "            ]\n",
      "        ],\n",
      "        [\n",
      "            \"Polish-Russian War (film)\",\n",
      "            [\n",
      "                \"Polish-Russian War\",\n",
      "                \"(Wojna polsko-ruska) is a 2009 Polish film directed by Xawery \\u017bu\\u0142awski based on the novel Polish-Russian War under the white-red flag by Dorota Mas\\u0142owska.\"\n",
      "            ]\n",
      "        ],\n",
      "        [\n",
      "            \"A Snow White Christmas\",\n",
      "            [\n",
      "                \"A Snow White Christmas is a Christmas animated television special produced by Filmation and telecast December 19, 1980, on CBS.\",\n",
      "                \"It is a sequel to the fairy tale\\\" Snow White\\\", unrelated to Filmation's other sequel to\\\" Snow White\\\" titled\\\" Happily Ever After\\\"( 1990).\",\n",
      "                \"The film's plot revolves around the return of the Wicked Queen, who is unexpectedly brought back to life during Christmas and casts an evil spell that freezes the entire land.\",\n",
      "                \"Only the young Snow White, the daughter of the original Snow White, manages to escape and take refuge with the seven giants with her dwarf friend.\",\n",
      "                \"It is now up to the giants to defeat the Queen forever and save the kingdom.\"\n",
      "            ]\n",
      "        ],\n",
      "        [\n",
      "            \"Snow White and the Three Stooges\",\n",
      "            [\n",
      "                \"Snow White and the Three Stooges is the second feature film to star the Three Stooges after their 1959 resurgence in popularity.\",\n",
      "                \"By this time, the trio consisted of Moe Howard, Larry Fine, and Joe DeRita( dubbed\\\" Curly Joe\\\").\",\n",
      "                \"Released by 20th Century Fox, this was the trio's take on the classic fairy tale\\\" Snow White and the Seven Dwarfs\\\".\",\n",
      "                \"The film was retitled Snow White and the Three Clowns in Great Britain.\",\n",
      "                \"This was Walter Lang \\u2018s final directing film before his retirement.\",\n",
      "                \"Olympic gold medalist figure skater Carol Heiss starred as Snow White, who must flee her home after The Evil Queen, her evil stepmother, wishes her to be dead.\",\n",
      "                \"Seeking refuge in the cottage of the seven dwarfs, she accidentally meets the Stooges, who are house sitting for them while they are away.\"\n",
      "            ]\n",
      "        ],\n",
      "        [\n",
      "            \"Xawery \\u017bu\\u0142awski\",\n",
      "            [\n",
      "                \"Xawery \\u017bu\\u0142awski (born 22 December 1971 in Warsaw) is a Polish film director.\",\n",
      "                \"In 1995 he graduated National Film School in \\u0141\\u00f3d\\u017a.\",\n",
      "                \"He is the son of actress Ma\\u0142gorzata Braunek and director Andrzej \\u017bu\\u0142awski.\",\n",
      "                \"His second feature \\\"Wojna polsko-ruska\\\" (2009), adapted from the controversial best-selling novel by Dorota Mas\\u0142owska, won First Prize in the New Polish Films competition at the 9th Era New Horizons Film Festival in Wroc\\u0142aw.\",\n",
      "                \"In 2013, he stated he intends to direct a Polish novel \\\"Z\\u0142y\\\" by Leopold Tyrmand.\",\n",
      "                \"\\u017bu\\u0142awski and his wife Maria Strzelecka had 2 children together:\",\n",
      "                \"son Kaj \\u017bu\\u0142awski (born 2002) and daughter Jagna \\u017bu\\u0142awska (born 2009).\"\n",
      "            ]\n",
      "        ],\n",
      "        [\n",
      "            \"Snow White and the Seven Dwarfs (1955 film)\",\n",
      "            [\n",
      "                \"Snow White and the Seven Dwarfs( USA:\\\" Snow White\\\") is a 1955 German film, directed by Erich Kobler, based on the story of Schneewittchen by the Brothers Grimm.\"\n",
      "            ]\n",
      "        ],\n",
      "        [\n",
      "            \"Liberty Ross\",\n",
      "            [\n",
      "                \"Liberty Lettice Lark Ross( born 23 September 1978) is an English model and actress.\",\n",
      "                \"She has appeared in publications such as\\\" VogueHarper's Bazaari- D\\\", and\\\" Dazed& Confused\\\".\",\n",
      "                \"She played the role of Queen Eleanor in the 2012 fantasy film\\\" Snow White and the Huntsman\\\", directed by her then- husband, Rupert Sanders.\",\n",
      "                \"She is the sister of composers Atticus and Leopold Ross.\"\n",
      "            ]\n",
      "        ]\n",
      "    ],\n",
      "    \"supporting_facts\": [\n",
      "        [\n",
      "            \"Polish-Russian War (film)\",\n",
      "            1\n",
      "        ],\n",
      "        [\n",
      "            \"Xawery \\u017bu\\u0142awski\",\n",
      "            2\n",
      "        ]\n",
      "    ],\n",
      "    \"evidences\": [\n",
      "        [\n",
      "            \"Polish-Russian War\",\n",
      "            \"director\",\n",
      "            \"Xawery \\u017bu\\u0142awski\"\n",
      "        ],\n",
      "        [\n",
      "            \"Xawery \\u017bu\\u0142awski\",\n",
      "            \"mother\",\n",
      "            \"Ma\\u0142gorzata Braunek\"\n",
      "        ]\n",
      "    ],\n",
      "    \"answer\": \"Ma\\u0142gorzata Braunek\"\n",
      "}\n"
     ]
    }
   ],
   "source": [
    "# Print the first example in pretty format\n",
    "print(json.dumps(wiki_sample[0], indent=4))"
   ]
  },
  {
   "attachments": {},
   "cell_type": "markdown",
   "metadata": {},
   "source": [
    "Let's look at the evidence required to answer the question. It's possible we create prompt examples using these evidences to insert into the fine-tuning set. For example,\n",
    "\n",
    "**Examplar:**\n",
    "```\n",
    "Question: Are director of film Move (1970 Film) and director of film Méditerranée (1963 Film) from the same country?\n",
    "Are follow up questions needed here: Yes.\n",
    "Follow up: Who is the director of Move (1970 film)?\n",
    "Intermediate answer: Stuart Rosenberg.\n",
    "Follow up: Who is the director of Méditerranée (1963 film)?\n",
    "Intermediate answer: Jean-Daniel Pollet\n",
    "Follow up: What is the country of citizenship of Stuart Rosenberg?\n",
    "Intermediate answer: American\n",
    "Follow up: What is the country of citizenship of Jean-Daniel Pollet?\n",
    "Intermediate answer: French\n",
    "So the final answer is: no\n",
    "```"
   ]
  },
  {
   "cell_type": "code",
   "execution_count": 4,
   "metadata": {},
   "outputs": [
    {
     "data": {
      "text/plain": [
       "[['Move (1970 film)', 0],\n",
       " ['Méditerranée (1963 film)', 0],\n",
       " ['Stuart Rosenberg', 0],\n",
       " ['Jean-Daniel Pollet', 0]]"
      ]
     },
     "execution_count": 4,
     "metadata": {},
     "output_type": "execute_result"
    }
   ],
   "source": [
    "wiki_sample[0]['supporting_facts']"
   ]
  },
  {
   "attachments": {},
   "cell_type": "markdown",
   "metadata": {},
   "source": [
    "### Adapting to Self-Ask Examplar"
   ]
  },
  {
   "cell_type": "code",
   "execution_count": 4,
   "metadata": {},
   "outputs": [],
   "source": [
    "wiki_adaptor = DataAdaptor(dataset=\"2WikiMultihopQA\")"
   ]
  },
  {
   "cell_type": "code",
   "execution_count": 5,
   "metadata": {},
   "outputs": [
    {
     "name": "stderr",
     "output_type": "stream",
     "text": [
      "\u001b[32m2023-06-29 13:12:36.475\u001b[0m | \u001b[34m\u001b[1mDEBUG   \u001b[0m | \u001b[36mdata_adaptor\u001b[0m:\u001b[36m_compose_2WikiMultihopQA_subquestions\u001b[0m:\u001b[36m348\u001b[0m - \u001b[34m\u001b[1mCould not find entity type for Rune Gerhardsen.\u001b[0m\n"
     ]
    },
    {
     "name": "stdout",
     "output_type": "stream",
     "text": [
      "Question: Are director of film Move (1970 Film) and director of film Méditerranée (1963 Film) from the same country?\n",
      "Are follow up questions needed here: Yes.\n",
      "Follow up: Who is the director of Move (1970 film)?\n",
      "Intermediate answer: Stuart Rosenberg\n",
      "Follow up: What is the director of Méditerranée (1963 film)?\n",
      "Intermediate answer: Jean-Daniel Pollet\n",
      "Follow up: What is the country of citizenship of Stuart Rosenberg?\n",
      "Intermediate answer: American\n",
      "Follow up: What is the country of citizenship of Jean-Daniel Pollet?\n",
      "Intermediate answer: French\n",
      "So the final answer is: no\n",
      "\n",
      "Question: Do both films The Falcon (Film) and Valentin The Good have the directors from the same country?\n",
      "Are follow up questions needed here: Yes.\n",
      "Follow up: Who is the director of The Falcon (film)?\n",
      "Intermediate answer: Vatroslav Mimica\n",
      "Follow up: Who is the director of Valentin the Good?\n",
      "Intermediate answer: Martin Frič\n",
      "Follow up: What is the country of citizenship of Vatroslav Mimica?\n",
      "Intermediate answer: Croatian\n",
      "Follow up: What is the country of citizenship of Vatroslav Mimica?\n",
      "Intermediate answer: Yugoslavia\n",
      "Follow up: What is the country of citizenship of Martin Frič?\n",
      "Intermediate answer: Czech\n",
      "So the final answer is: no\n",
      "\n",
      "Question: Which film whose director is younger, Charge It To Me or Danger: Diabolik?\n",
      "Are follow up questions needed here: Yes.\n",
      "Follow up: Who is the director of Charge It to Me?\n",
      "Intermediate answer: Roy William Neill\n",
      "Follow up: Who is the director of Danger: Diabolik?\n",
      "Intermediate answer: Mario Bava\n",
      "Follow up: When is the date of birth of Roy William Neill?\n",
      "Intermediate answer: 4 September 1887\n",
      "Follow up: When is the date of birth of Mario Bava?\n",
      "Intermediate answer: 31 July 1914\n",
      "So the final answer is: Danger: Diabolik\n",
      "\n",
      "Question: What is the date of birth of Mina Gerhardsen's father?\n",
      "Are follow up questions needed here: Yes.\n",
      "Follow up: Who is the father of Mina Gerhardsen?\n",
      "Intermediate answer: Rune Gerhardsen\n",
      "Follow up: When is the date of birth of Rune Gerhardsen?\n",
      "Intermediate answer: 13 June 1946\n",
      "So the final answer is: 13 June 1946\n",
      "\n",
      "Question: What nationality is the director of film Wedding Night In Paradise (1950 Film)?\n",
      "Are follow up questions needed here: Yes.\n",
      "Follow up: Who is the director of Wedding Night in Paradise?\n",
      "Intermediate answer: Géza von Bolváry\n",
      "Follow up: What is the country of citizenship of Géza von Bolváry?\n",
      "Intermediate answer: Hungarian\n",
      "So the final answer is: Hungarian\n",
      "\n"
     ]
    }
   ],
   "source": [
    "wiki_examplars = wiki_adaptor.generate_examplars(wiki_sample, strategy=\"self-ask\")\n",
    "for examplar in wiki_examplars:\n",
    "    print(examplar)"
   ]
  },
  {
   "attachments": {},
   "cell_type": "markdown",
   "metadata": {},
   "source": [
    "### Adapting to Self-Ask Training Example\n",
    "We can augment the target texts in the dataset with the self-ask rationale to fine-tune a language model to generate text with the self-ask rationale."
   ]
  },
  {
   "cell_type": "code",
   "execution_count": 7,
   "metadata": {},
   "outputs": [
    {
     "name": "stderr",
     "output_type": "stream",
     "text": [
      "\u001b[32m2023-06-29 12:44:10.745\u001b[0m | \u001b[34m\u001b[1mDEBUG   \u001b[0m | \u001b[36mdata_adaptor\u001b[0m:\u001b[36m_compose_2WikiMultihopQA_subquestions\u001b[0m:\u001b[36m300\u001b[0m - \u001b[34m\u001b[1mCould not find entity type for Rune Gerhardsen.\u001b[0m\n"
     ]
    },
    {
     "name": "stdout",
     "output_type": "stream",
     "text": [
      "{\n",
      "    \"prompt\": \"Fact #0: Move is a 1970 American comedy film starring Elliott Gould, Paula Prentiss and Genevi\\u00e8ve Wa\\u00efte, and directed by Stuart Rosenberg.\\nFact #1: M\\u00e9diterran\\u00e9e is a 1963 French experimental film directed by Jean-Daniel Pollet with assistance from Volker Schl\\u00f6ndorff.\\nFact #2: Stuart Rosenberg (August 11, 1927 \\u2013 March 15, 2007) was an American film and television director whose motion pictures include \\\"Cool Hand Luke\\\" (1967), \\\"Voyage of the Damned\\\" (1976), \\\"The Amityville Horror\\\" (1979), and \\\"The Pope of Greenwich Village\\\" (1984).\\nFact #3: Jean-Daniel Pollet (1936\\u20132004) was a French film director and screenwriter who was most active in the 1960s and 1970s.\\n\\nQuestion: Are director of film Move (1970 Film) and director of film M\\u00e9diterran\\u00e9e (1963 Film) from the same country?\\nAre follow up questions needed here:\\n\",\n",
      "    \"target\": \"Yes.\\nFollow up: Who is the director of Move (1970 film)?\\nIntermediate answer: Stuart Rosenberg\\nFollow up: What is the director of M\\u00e9diterran\\u00e9e (1963 film)?\\nIntermediate answer: Jean-Daniel Pollet\\nFollow up: What is the country of citizenship of Stuart Rosenberg?\\nIntermediate answer: American\\nFollow up: What is the country of citizenship of Jean-Daniel Pollet?\\nIntermediate answer: French\\nSo the final answer is: no\\n\",\n",
      "    \"num_prompt_tokens\": 226,\n",
      "    \"num_target_tokens\": 100,\n",
      "    \"num_tokens\": 326\n",
      "}\n",
      "{\n",
      "    \"prompt\": \"Fact #0: Banovi\\u0107 Strahinja( Serbian Cyrillic:\\\" \\u0411\\u0430\\u043d\\u043e\\u0432\\u0438\\u045b \\u0421\\u0442\\u0440\\u0430\\u0445\\u0438\\u045a\\u0430\\\", released internationally as The Falcon) is a 1981 Yugoslavian- German adventure film written and directed by Vatroslav Mimica based on Strahinja Banovi\\u0107, a hero of Serbian epic poetry.\\nFact #1: Valentin the Good is a 1942 Czech comedy film directed by Martin Fri\\u010d.\\nFact #2: Vatroslav Mimica( born 25 June 1923) is a Croatian film director and screenwriter.\\nFact #3: In 1942 he joined Young Communist League of Yugoslavia( SKOJ) and in 1943 he went on to join the Yugoslav Partisans, becoming a member of their medical units.\\nFact #4: Martin Fri\\u010d( 29 March 1902 \\u2013 26 August 1968) was a Czech film director, screenwriter and actor.\\n\\nQuestion: Do both films The Falcon (Film) and Valentin The Good have the directors from the same country?\\nAre follow up questions needed here:\\n\",\n",
      "    \"target\": \"Yes.\\nFollow up: Who is the director of The Falcon (film)?\\nIntermediate answer: Vatroslav Mimica\\nFollow up: Who is the director of Valentin the Good?\\nIntermediate answer: Martin Fri\\u010d\\nFollow up: What is the country of citizenship of Vatroslav Mimica?\\nIntermediate answer: Croatian\\nFollow up: What is the country of citizenship of Vatroslav Mimica?\\nIntermediate answer: Yugoslavia\\nFollow up: What is the country of citizenship of Martin Fri\\u010d?\\nIntermediate answer: Czech\\nSo the final answer is: no\\n\",\n",
      "    \"num_prompt_tokens\": 241,\n",
      "    \"num_target_tokens\": 121,\n",
      "    \"num_tokens\": 362\n",
      "}\n",
      "{\n",
      "    \"prompt\": \"Fact #0: is a 1919 American silent comedy film directed by Roy William Neill and written by L.V. Jefferson.\\nFact #1: Diabolik  is a 1968 action film directed and co-written by Mario Bava, based on the Italian comic series \\\"Diabolik\\\" by Angela and Luciana Giussani.\\nFact #2: Roy William Neill (4 September 1887 \\u2013\\nFact #3: Mario Bava (31 July 1914 \\u2013 27 April 1980) was an Italian cinematographer, director, special effects artist and screenwriter, frequently referred to as the \\\"Master of Italian Horror\\\" and the \\\"Master of the Macabre\\\".\\n\\nQuestion: Which film whose director is younger, Charge It To Me or Danger: Diabolik?\\nAre follow up questions needed here:\\n\",\n",
      "    \"target\": \"Yes.\\nFollow up: Who is the director of Charge It to Me?\\nIntermediate answer: Roy William Neill\\nFollow up: Who is the director of Danger: Diabolik?\\nIntermediate answer: Mario Bava\\nFollow up: When is the date of birth of Roy William Neill?\\nIntermediate answer: 4 September 1887\\nFollow up: When is the date of birth of Mario Bava?\\nIntermediate answer: 31 July 1914\\nSo the final answer is: Danger: Diabolik\\n\",\n",
      "    \"num_prompt_tokens\": 170,\n",
      "    \"num_target_tokens\": 97,\n",
      "    \"num_tokens\": 267\n",
      "}\n",
      "{\n",
      "    \"prompt\": \"Fact #0: She is the daughter of Rune Gerhardsen and Tove Strand, and granddaughter of Einar Gerhardsen.\\nFact #1: Rune Gerhardsen (born 13 June 1946) is a Norwegian politician, representing the Norwegian Labour Party.\\n\\nQuestion: What is the date of birth of Mina Gerhardsen's father?\\nAre follow up questions needed here:\\n\",\n",
      "    \"target\": \"Yes.\\nFollow up: Who is the father of Mina Gerhardsen?\\nIntermediate answer: Rune Gerhardsen\\nFollow up: When is the date of birth of Rune Gerhardsen?\\nIntermediate answer: 13 June 1946\\nSo the final answer is: 13 June 1946\\n\",\n",
      "    \"num_prompt_tokens\": 83,\n",
      "    \"num_target_tokens\": 58,\n",
      "    \"num_tokens\": 141\n",
      "}\n",
      "{\n",
      "    \"prompt\": \"Fact #0: Wedding Night in Paradise  is a 1950 West German musical comedy film directed by G\\u00e9za von Bolv\\u00e1ry and starring Johannes Heesters, Claude Farell and Gretl Sch\\u00f6rg.\\nFact #1: G\\u00e9za von Bolv\\u00e1ry (full name G\\u00e9za Maria von Bolv\\u00e1ry-Zahn; 26 December 1897 \\u2013 10 August 1961) was a Hungarian actor, screenwriter and film director, who worked principally in Germany and Austria.\\n\\nQuestion: What nationality is the director of film Wedding Night In Paradise (1950 Film)?\\nAre follow up questions needed here:\\n\",\n",
      "    \"target\": \"Yes.\\nFollow up: Who is the director of Wedding Night in Paradise?\\nIntermediate answer: G\\u00e9za von Bolv\\u00e1ry\\nFollow up: What is the country of citizenship of G\\u00e9za von Bolv\\u00e1ry?\\nIntermediate answer: Hungarian\\nSo the final answer is: Hungarian\\n\",\n",
      "    \"num_prompt_tokens\": 142,\n",
      "    \"num_target_tokens\": 63,\n",
      "    \"num_tokens\": 205\n",
      "}\n"
     ]
    }
   ],
   "source": [
    "wiki_training_examples = wiki_adaptor.generate_training_examples(wiki_sample, strategy=\"self-ask\")\n",
    "for training_example in wiki_training_examples:\n",
    "    print(json.dumps(training_example, indent=4))"
   ]
  },
  {
   "cell_type": "code",
   "execution_count": 8,
   "metadata": {},
   "outputs": [
    {
     "name": "stdout",
     "output_type": "stream",
     "text": [
      "Fact #0: Move is a 1970 American comedy film starring Elliott Gould, Paula Prentiss and Geneviève Waïte, and directed by Stuart Rosenberg.\n",
      "Fact #1: Méditerranée is a 1963 French experimental film directed by Jean-Daniel Pollet with assistance from Volker Schlöndorff.\n",
      "Fact #2: Stuart Rosenberg (August 11, 1927 – March 15, 2007) was an American film and television director whose motion pictures include \"Cool Hand Luke\" (1967), \"Voyage of the Damned\" (1976), \"The Amityville Horror\" (1979), and \"The Pope of Greenwich Village\" (1984).\n",
      "Fact #3: Jean-Daniel Pollet (1936–2004) was a French film director and screenwriter who was most active in the 1960s and 1970s.\n",
      "\n",
      "Question: Are director of film Move (1970 Film) and director of film Méditerranée (1963 Film) from the same country?\n",
      "Are follow up questions needed here:\n",
      "\n",
      "Yes.\n",
      "Follow up: Who is the director of Move (1970 film)?\n",
      "Intermediate answer: Stuart Rosenberg\n",
      "Follow up: What is the director of Méditerranée (1963 film)?\n",
      "Intermediate answer: Jean-Daniel Pollet\n",
      "Follow up: What is the country of citizenship of Stuart Rosenberg?\n",
      "Intermediate answer: American\n",
      "Follow up: What is the country of citizenship of Jean-Daniel Pollet?\n",
      "Intermediate answer: French\n",
      "So the final answer is: no\n",
      "\n"
     ]
    }
   ],
   "source": [
    "print(wiki_training_examples[0][\"prompt\"])\n",
    "print(wiki_training_examples[0][\"target\"])"
   ]
  },
  {
   "attachments": {},
   "cell_type": "markdown",
   "metadata": {},
   "source": [
    "### Direct Prompting Training Examples\n",
    "Simply provide the facts and ask the question. No thought variable or rationale involved."
   ]
  },
  {
   "cell_type": "code",
   "execution_count": 6,
   "metadata": {},
   "outputs": [],
   "source": [
    "direct_training_examples = wiki_adaptor.generate_training_examples(\n",
    "    wiki_sample[0],\n",
    "    strategy=\"direct\"\n",
    ")"
   ]
  },
  {
   "cell_type": "code",
   "execution_count": 7,
   "metadata": {},
   "outputs": [
    {
     "name": "stdout",
     "output_type": "stream",
     "text": [
      "--------- Augmented Prompt ---------\n",
      "Fact #0: Move is a 1970 American comedy film starring Elliott Gould, Paula Prentiss and Geneviève Waïte, and directed by Stuart Rosenberg.\n",
      "Fact #1: Méditerranée is a 1963 French experimental film directed by Jean-Daniel Pollet with assistance from Volker Schlöndorff.\n",
      "Fact #2: Stuart Rosenberg (August 11, 1927 – March 15, 2007) was an American film and television director whose motion pictures include \"Cool Hand Luke\" (1967), \"Voyage of the Damned\" (1976), \"The Amityville Horror\" (1979), and \"The Pope of Greenwich Village\" (1984).\n",
      "Fact #3: Jean-Daniel Pollet (1936–2004) was a French film director and screenwriter who was most active in the 1960s and 1970s.\n",
      "\n",
      "Question: Are director of film Move (1970 Film) and director of film Méditerranée (1963 Film) from the same country?\n",
      "Answer:\n",
      "--------- Target ---------\n",
      "no\n"
     ]
    }
   ],
   "source": [
    "print(\"--------- Augmented Prompt ---------\")\n",
    "print(direct_training_examples[0][\"prompt\"])\n",
    "print(\"--------- Target ---------\")\n",
    "print(direct_training_examples[0][\"target\"])"
   ]
  },
  {
   "attachments": {},
   "cell_type": "markdown",
   "metadata": {},
   "source": [
    "### Augment with In-Context Examplars and Self-Ask Rationale Targets\n",
    "We can combine the two above to create an augmented fine-tuning dataset:\n",
    "1. Prompt text has in-context examplars\n",
    "2. Target text has the self-ask rationale"
   ]
  },
  {
   "cell_type": "code",
   "execution_count": 7,
   "metadata": {},
   "outputs": [
    {
     "name": "stdout",
     "output_type": "stream",
     "text": [
      "--------- Augmented Prompt ---------\n",
      "Example Response\n",
      "Question: Are director of film Move (1970 Film) and director of film Méditerranée (1963 Film) from the same country?\n",
      "Are follow up questions needed here: Yes.\n",
      "Follow up: Who is the director of Move (1970 film)?\n",
      "Intermediate answer: Stuart Rosenberg\n",
      "Follow up: What is the director of Méditerranée (1963 film)?\n",
      "Intermediate answer: Jean-Daniel Pollet\n",
      "Follow up: What is the country of citizenship of Stuart Rosenberg?\n",
      "Intermediate answer: American\n",
      "Follow up: What is the country of citizenship of Jean-Daniel Pollet?\n",
      "Intermediate answer: French\n",
      "So the final answer is: no\n",
      "\n",
      "Example Response\n",
      "Question: Do both films The Falcon (Film) and Valentin The Good have the directors from the same country?\n",
      "Are follow up questions needed here: Yes.\n",
      "Follow up: Who is the director of The Falcon (film)?\n",
      "Intermediate answer: Vatroslav Mimica\n",
      "Follow up: Who is the director of Valentin the Good?\n",
      "Intermediate answer: Martin Frič\n",
      "Follow up: What is the country of citizenship of Vatroslav Mimica?\n",
      "Intermediate answer: Croatian\n",
      "Follow up: What is the country of citizenship of Vatroslav Mimica?\n",
      "Intermediate answer: Yugoslavia\n",
      "Follow up: What is the country of citizenship of Martin Frič?\n",
      "Intermediate answer: Czech\n",
      "So the final answer is: no\n",
      "\n",
      "Example Response\n",
      "Question: Which film whose director is younger, Charge It To Me or Danger: Diabolik?\n",
      "Are follow up questions needed here: Yes.\n",
      "Follow up: Who is the director of Charge It to Me?\n",
      "Intermediate answer: Roy William Neill\n",
      "Follow up: Who is the director of Danger: Diabolik?\n",
      "Intermediate answer: Mario Bava\n",
      "Follow up: When is the date of birth of Roy William Neill?\n",
      "Intermediate answer: 4 September 1887\n",
      "Follow up: When is the date of birth of Mario Bava?\n",
      "Intermediate answer: 31 July 1914\n",
      "So the final answer is: Danger: Diabolik\n",
      "\n",
      "Example Response\n",
      "Question: What is the date of birth of Mina Gerhardsen's father?\n",
      "Are follow up questions needed here: Yes.\n",
      "Follow up: Who is the father of Mina Gerhardsen?\n",
      "Intermediate answer: Rune Gerhardsen\n",
      "Follow up: When is the date of birth of Rune Gerhardsen?\n",
      "Intermediate answer: 13 June 1946\n",
      "So the final answer is: 13 June 1946\n",
      "\n",
      "Fact #0: Move is a 1970 American comedy film starring Elliott Gould, Paula Prentiss and Geneviève Waïte, and directed by Stuart Rosenberg.\n",
      "Fact #1: Méditerranée is a 1963 French experimental film directed by Jean-Daniel Pollet with assistance from Volker Schlöndorff.\n",
      "Fact #2: Stuart Rosenberg (August 11, 1927 – March 15, 2007) was an American film and television director whose motion pictures include \"Cool Hand Luke\" (1967), \"Voyage of the Damned\" (1976), \"The Amityville Horror\" (1979), and \"The Pope of Greenwich Village\" (1984).\n",
      "Fact #3: Jean-Daniel Pollet (1936–2004) was a French film director and screenwriter who was most active in the 1960s and 1970s.\n",
      "\n",
      "Question: Are director of film Move (1970 Film) and director of film Méditerranée (1963 Film) from the same country?\n",
      "Are follow up questions needed here:\n",
      "\n",
      "--------- Target ---------\n",
      "Yes.\n",
      "Follow up: Who is the director of Move (1970 film)?\n",
      "Intermediate answer: Stuart Rosenberg\n",
      "Follow up: What is the director of Méditerranée (1963 film)?\n",
      "Intermediate answer: Jean-Daniel Pollet\n",
      "Follow up: What is the country of citizenship of Stuart Rosenberg?\n",
      "Intermediate answer: American\n",
      "Follow up: What is the country of citizenship of Jean-Daniel Pollet?\n",
      "Intermediate answer: French\n",
      "So the final answer is: no\n",
      "\n"
     ]
    }
   ],
   "source": [
    "training_examplars = wiki_examplars[:4]\n",
    "augmented_example = wiki_adaptor.generate_training_examples(\n",
    "    wiki_sample[0], \n",
    "    strategy=\"self-ask\", \n",
    "    examplars=training_examplars\n",
    "    )[0]\n",
    "print(\"--------- Augmented Prompt ---------\")\n",
    "print(augmented_example[\"prompt\"])\n",
    "print(\"--------- Target ---------\")\n",
    "print(augmented_example[\"target\"])"
   ]
  },
  {
   "cell_type": "code",
   "execution_count": 8,
   "metadata": {},
   "outputs": [
    {
     "name": "stderr",
     "output_type": "stream",
     "text": [
      "\u001b[32m2023-06-29 12:53:24.922\u001b[0m | \u001b[34m\u001b[1mDEBUG   \u001b[0m | \u001b[36mdata_adaptor\u001b[0m:\u001b[36m_compose_2WikiMultihopQA_subquestions\u001b[0m:\u001b[36m304\u001b[0m - \u001b[34m\u001b[1mCould not find entity type for Rune Gerhardsen.\u001b[0m\n"
     ]
    },
    {
     "name": "stdout",
     "output_type": "stream",
     "text": [
      "context size\n",
      "517\n",
      "532\n",
      "461\n",
      "374\n",
      "433\n",
      "total tokens\n",
      "617\n",
      "653\n",
      "558\n",
      "432\n",
      "496\n"
     ]
    }
   ],
   "source": [
    "training_examplars = wiki_examplars[:2]\n",
    "augmented_examples = wiki_adaptor.generate_training_examples(\n",
    "    wiki_sample, \n",
    "    strategy=\"self-ask\",\n",
    "    examplars=training_examplars\n",
    "    )\n",
    "\n",
    "# look at token counts in prompt (context size)\n",
    "print(\"context size\")\n",
    "for example in augmented_examples:\n",
    "    print(example[\"num_prompt_tokens\"])\n",
    "\n",
    "# look at token counts\n",
    "print(\"total tokens\")\n",
    "for example in augmented_examples:\n",
    "    print(example[\"num_tokens\"])"
   ]
  },
  {
   "cell_type": "code",
   "execution_count": 9,
   "metadata": {},
   "outputs": [
    {
     "name": "stdout",
     "output_type": "stream",
     "text": [
      "Example Response\n",
      "Question: Are director of film Move (1970 Film) and director of film Méditerranée (1963 Film) from the same country?\n",
      "Are follow up questions needed here: Yes.\n",
      "Follow up: Who is the director of Move (1970 film)?\n",
      "Intermediate answer: Stuart Rosenberg\n",
      "Follow up: What is the director of Méditerranée (1963 film)?\n",
      "Intermediate answer: Jean-Daniel Pollet\n",
      "Follow up: What is the country of citizenship of Stuart Rosenberg?\n",
      "Intermediate answer: American\n",
      "Follow up: What is the country of citizenship of Jean-Daniel Pollet?\n",
      "Intermediate answer: French\n",
      "So the final answer is: no\n",
      "\n",
      "Example Response\n",
      "Question: Do both films The Falcon (Film) and Valentin The Good have the directors from the same country?\n",
      "Are follow up questions needed here: Yes.\n",
      "Follow up: Who is the director of The Falcon (film)?\n",
      "Intermediate answer: Vatroslav Mimica\n",
      "Follow up: Who is the director of Valentin the Good?\n",
      "Intermediate answer: Martin Frič\n",
      "Follow up: What is the country of citizenship of Vatroslav Mimica?\n",
      "Intermediate answer: Croatian\n",
      "Follow up: What is the country of citizenship of Vatroslav Mimica?\n",
      "Intermediate answer: Yugoslavia\n",
      "Follow up: What is the country of citizenship of Martin Frič?\n",
      "Intermediate answer: Czech\n",
      "So the final answer is: no\n",
      "\n",
      "Fact #0: Banović Strahinja( Serbian Cyrillic:\" Бановић Страхиња\", released internationally as The Falcon) is a 1981 Yugoslavian- German adventure film written and directed by Vatroslav Mimica based on Strahinja Banović, a hero of Serbian epic poetry.\n",
      "Fact #1: Valentin the Good is a 1942 Czech comedy film directed by Martin Frič.\n",
      "Fact #2: Vatroslav Mimica( born 25 June 1923) is a Croatian film director and screenwriter.\n",
      "Fact #3: In 1942 he joined Young Communist League of Yugoslavia( SKOJ) and in 1943 he went on to join the Yugoslav Partisans, becoming a member of their medical units.\n",
      "Fact #4: Martin Frič( 29 March 1902 – 26 August 1968) was a Czech film director, screenwriter and actor.\n",
      "\n",
      "Question: Do both films The Falcon (Film) and Valentin The Good have the directors from the same country?\n",
      "Are follow up questions needed here:\n",
      "\n"
     ]
    }
   ],
   "source": [
    "print(augmented_examples[1][\"prompt\"])"
   ]
  },
  {
   "attachments": {},
   "cell_type": "markdown",
   "metadata": {},
   "source": [
    "## Compositional Celebrities"
   ]
  },
  {
   "cell_type": "code",
   "execution_count": 1,
   "metadata": {},
   "outputs": [],
   "source": [
    "from data_loaders import load_CompositionalCelebrities"
   ]
  },
  {
   "cell_type": "code",
   "execution_count": 3,
   "metadata": {},
   "outputs": [
    {
     "name": "stderr",
     "output_type": "stream",
     "text": [
      "/Users/richardmathews/Downloads/W266 project/data_loaders.py:54: UserWarning: There is only one file. The data has not been splitted yet.\n",
      "  warnings.warn(\"There is only one file. The data has not been splitted yet.\")\n"
     ]
    }
   ],
   "source": [
    "cc_sample = load_CompositionalCelebrities(n_examples=5, split='train')"
   ]
  },
  {
   "attachments": {},
   "cell_type": "markdown",
   "metadata": {},
   "source": [
    "Let's take a look at an example. We see the subquestions are clearly delineated, with answers, as well as the compositional question itself. The other metadata is not necessary for our research."
   ]
  },
  {
   "cell_type": "code",
   "execution_count": 4,
   "metadata": {},
   "outputs": [
    {
     "name": "stdout",
     "output_type": "stream",
     "text": [
      "{\n",
      "    \"Q1\": \"What is the birthplace (country only) of Rumi?\",\n",
      "    \"A1\": [\n",
      "        \"Afghanistan\"\n",
      "    ],\n",
      "    \"Q2\": \"What is the capital of Afghanistan?\",\n",
      "    \"A2\": [\n",
      "        \"Kabul\"\n",
      "    ],\n",
      "    \"Question\": \"What is the capital of the birthplace of Rumi?\",\n",
      "    \"Answer\": [\n",
      "        \"Kabul\"\n",
      "    ],\n",
      "    \"birth_country\": \"Afghanistan\",\n",
      "    \"capital\": [\n",
      "        \"Kabul\"\n",
      "    ],\n",
      "    \"person\": \"Rumi\",\n",
      "    \"category\": \"birthplace_capital\",\n",
      "    \"person_id\": 0\n",
      "}\n"
     ]
    }
   ],
   "source": [
    "# Print the first example in pretty format\n",
    "print(json.dumps(cc_sample[0], indent=4))"
   ]
  },
  {
   "attachments": {},
   "cell_type": "markdown",
   "metadata": {},
   "source": [
    "### Adapting to Self-Ask Examplar\n",
    "It's quite simple to restructure this as a \"self-ask\" examplar for prompting/fine-tuning."
   ]
  },
  {
   "cell_type": "code",
   "execution_count": 5,
   "metadata": {},
   "outputs": [],
   "source": [
    "cc_adaptor = DataAdaptor(dataset=\"CompositionalCelebrities\")"
   ]
  },
  {
   "cell_type": "code",
   "execution_count": 6,
   "metadata": {},
   "outputs": [
    {
     "name": "stdout",
     "output_type": "stream",
     "text": [
      "Question: What is the capital of the birthplace of Rumi?\n",
      "Are follow up questions needed here: Yes.\n",
      "Follow up: What is the birthplace (country only) of Rumi?\n",
      "Intermediate answer: Afghanistan\n",
      "Follow up: What is the capital of Afghanistan?\n",
      "Intermediate answer: Kabul\n",
      "So the final answer is: Kabul\n",
      "\n",
      "Question: What is the capital of the birthplace of Ahmad Shah Massoud?\n",
      "Are follow up questions needed here: Yes.\n",
      "Follow up: What is the birthplace (country only) of Ahmad Shah Massoud?\n",
      "Intermediate answer: Afghanistan\n",
      "Follow up: What is the capital of Afghanistan?\n",
      "Intermediate answer: Kabul\n",
      "So the final answer is: Kabul\n",
      "\n",
      "Question: What is the capital of the birthplace of Mahmud of Ghazni?\n",
      "Are follow up questions needed here: Yes.\n",
      "Follow up: What is the birthplace (country only) of Mahmud of Ghazni?\n",
      "Intermediate answer: Afghanistan\n",
      "Follow up: What is the capital of Afghanistan?\n",
      "Intermediate answer: Kabul\n",
      "So the final answer is: Kabul\n",
      "\n",
      "Question: What is the capital of the birthplace of Ahmad Shah Durrani?\n",
      "Are follow up questions needed here: Yes.\n",
      "Follow up: What is the birthplace (country only) of Ahmad Shah Durrani?\n",
      "Intermediate answer: Afghanistan\n",
      "Follow up: What is the capital of Afghanistan?\n",
      "Intermediate answer: Kabul\n",
      "So the final answer is: Kabul\n",
      "\n",
      "Question: What is the capital of the birthplace of Annet Mahendru?\n",
      "Are follow up questions needed here: Yes.\n",
      "Follow up: What is the birthplace (country only) of Annet Mahendru?\n",
      "Intermediate answer: Afghanistan\n",
      "Follow up: What is the capital of Afghanistan?\n",
      "Intermediate answer: Kabul\n",
      "So the final answer is: Kabul\n",
      "\n"
     ]
    }
   ],
   "source": [
    "cc_examplars = cc_adaptor.generate_examplars(cc_sample, strategy=\"self-ask\")\n",
    "for examplar in cc_examplars:\n",
    "    print(examplar)"
   ]
  },
  {
   "attachments": {},
   "cell_type": "markdown",
   "metadata": {},
   "source": [
    "### Adapting to Self-Ask Training Example\n",
    "We can augment the target texts in the dataset with the self-ask rationale to fine-tune a language model to generate text with the self-ask rationale."
   ]
  },
  {
   "cell_type": "code",
   "execution_count": 7,
   "metadata": {},
   "outputs": [
    {
     "name": "stdout",
     "output_type": "stream",
     "text": [
      "{\n",
      "    \"prompt\": \"Question: What is the capital of the birthplace of Rumi?\\nAre follow up questions needed here:\\n\",\n",
      "    \"target\": \"Yes.\\nFollow up: What is the birthplace (country only) of Rumi?\\nIntermediate answer: Afghanistan\\nFollow up: What is the capital of Afghanistan?\\nIntermediate answer: Kabul\\nSo the final answer is: Kabul\\n\"\n",
      "}\n",
      "{\n",
      "    \"prompt\": \"Question: What is the capital of the birthplace of Ahmad Shah Massoud?\\nAre follow up questions needed here:\\n\",\n",
      "    \"target\": \"Yes.\\nFollow up: What is the birthplace (country only) of Ahmad Shah Massoud?\\nIntermediate answer: Afghanistan\\nFollow up: What is the capital of Afghanistan?\\nIntermediate answer: Kabul\\nSo the final answer is: Kabul\\n\"\n",
      "}\n",
      "{\n",
      "    \"prompt\": \"Question: What is the capital of the birthplace of Mahmud of Ghazni?\\nAre follow up questions needed here:\\n\",\n",
      "    \"target\": \"Yes.\\nFollow up: What is the birthplace (country only) of Mahmud of Ghazni?\\nIntermediate answer: Afghanistan\\nFollow up: What is the capital of Afghanistan?\\nIntermediate answer: Kabul\\nSo the final answer is: Kabul\\n\"\n",
      "}\n",
      "{\n",
      "    \"prompt\": \"Question: What is the capital of the birthplace of Ahmad Shah Durrani?\\nAre follow up questions needed here:\\n\",\n",
      "    \"target\": \"Yes.\\nFollow up: What is the birthplace (country only) of Ahmad Shah Durrani?\\nIntermediate answer: Afghanistan\\nFollow up: What is the capital of Afghanistan?\\nIntermediate answer: Kabul\\nSo the final answer is: Kabul\\n\"\n",
      "}\n",
      "{\n",
      "    \"prompt\": \"Question: What is the capital of the birthplace of Annet Mahendru?\\nAre follow up questions needed here:\\n\",\n",
      "    \"target\": \"Yes.\\nFollow up: What is the birthplace (country only) of Annet Mahendru?\\nIntermediate answer: Afghanistan\\nFollow up: What is the capital of Afghanistan?\\nIntermediate answer: Kabul\\nSo the final answer is: Kabul\\n\"\n",
      "}\n"
     ]
    }
   ],
   "source": [
    "cc_training_examples = cc_adaptor.generate_training_examples(cc_sample, strategy=\"self-ask\")\n",
    "for training_example in cc_training_examples:\n",
    "    print(json.dumps(training_example, indent=4))"
   ]
  },
  {
   "cell_type": "code",
   "execution_count": 8,
   "metadata": {},
   "outputs": [
    {
     "name": "stdout",
     "output_type": "stream",
     "text": [
      "Question: What is the capital of the birthplace of Rumi?\n",
      "Are follow up questions needed here:\n",
      "\n",
      "Yes.\n",
      "Follow up: What is the birthplace (country only) of Rumi?\n",
      "Intermediate answer: Afghanistan\n",
      "Follow up: What is the capital of Afghanistan?\n",
      "Intermediate answer: Kabul\n",
      "So the final answer is: Kabul\n",
      "\n"
     ]
    }
   ],
   "source": [
    "print(cc_training_examples[0][\"prompt\"])\n",
    "print(cc_training_examples[0][\"target\"])"
   ]
  },
  {
   "attachments": {},
   "cell_type": "markdown",
   "metadata": {},
   "source": [
    "### Augment with In-Context Examplars and Self-Ask Rationale Targets\n",
    "We can combine the two above to create an augmented fine-tuning dataset:\n",
    "1. Prompt text has in-context examplars\n",
    "2. Target text has the self-ask rationale"
   ]
  },
  {
   "cell_type": "code",
   "execution_count": 10,
   "metadata": {},
   "outputs": [
    {
     "name": "stdout",
     "output_type": "stream",
     "text": [
      "--------- Augmented Prompt ---------\n",
      "Question: What is the capital of the birthplace of Rumi?\n",
      "Are follow up questions needed here: Yes.\n",
      "Follow up: What is the birthplace (country only) of Rumi?\n",
      "Intermediate answer: Afghanistan\n",
      "Follow up: What is the capital of Afghanistan?\n",
      "Intermediate answer: Kabul\n",
      "So the final answer is: Kabul\n",
      "\n",
      "Question: What is the capital of the birthplace of Ahmad Shah Massoud?\n",
      "Are follow up questions needed here: Yes.\n",
      "Follow up: What is the birthplace (country only) of Ahmad Shah Massoud?\n",
      "Intermediate answer: Afghanistan\n",
      "Follow up: What is the capital of Afghanistan?\n",
      "Intermediate answer: Kabul\n",
      "So the final answer is: Kabul\n",
      "\n",
      "Question: What is the capital of the birthplace of Mahmud of Ghazni?\n",
      "Are follow up questions needed here: Yes.\n",
      "Follow up: What is the birthplace (country only) of Mahmud of Ghazni?\n",
      "Intermediate answer: Afghanistan\n",
      "Follow up: What is the capital of Afghanistan?\n",
      "Intermediate answer: Kabul\n",
      "So the final answer is: Kabul\n",
      "\n",
      "Question: What is the capital of the birthplace of Ahmad Shah Durrani?\n",
      "Are follow up questions needed here: Yes.\n",
      "Follow up: What is the birthplace (country only) of Ahmad Shah Durrani?\n",
      "Intermediate answer: Afghanistan\n",
      "Follow up: What is the capital of Afghanistan?\n",
      "Intermediate answer: Kabul\n",
      "So the final answer is: Kabul\n",
      "\n",
      "Question: What is the capital of the birthplace of Annet Mahendru?\n",
      "Are follow up questions needed here:\n",
      "\n",
      "--------- Target ---------\n",
      "Yes.\n",
      "Follow up: What is the birthplace (country only) of Annet Mahendru?\n",
      "Intermediate answer: Afghanistan\n",
      "Follow up: What is the capital of Afghanistan?\n",
      "Intermediate answer: Kabul\n",
      "So the final answer is: Kabul\n",
      "\n"
     ]
    }
   ],
   "source": [
    "training_examplars = cc_examplars[:4]\n",
    "augmented_example = {\"prompt\" : \"\\n\".join(training_examplars) + \"\\n\" + cc_training_examples[4][\"prompt\"], \"target\" : cc_training_examples[4][\"target\"]}\n",
    "print(\"--------- Augmented Prompt ---------\")\n",
    "print(augmented_example[\"prompt\"])\n",
    "print(\"--------- Target ---------\")\n",
    "print(augmented_example[\"target\"])"
   ]
  }
 ],
 "metadata": {
  "kernelspec": {
   "display_name": "w207",
   "language": "python",
   "name": "python3"
  },
  "language_info": {
   "codemirror_mode": {
    "name": "ipython",
    "version": 3
   },
   "file_extension": ".py",
   "mimetype": "text/x-python",
   "name": "python",
   "nbconvert_exporter": "python",
   "pygments_lexer": "ipython3",
   "version": "3.11.3"
  },
  "orig_nbformat": 4
 },
 "nbformat": 4,
 "nbformat_minor": 2
}
